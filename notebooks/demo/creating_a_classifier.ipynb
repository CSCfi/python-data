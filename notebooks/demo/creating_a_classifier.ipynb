{
 "cells": [
  {
   "cell_type": "markdown",
   "metadata": {},
   "source": [
    "# Creating a classifier and using it\n",
    "\n",
    "The following example shows how to create and write a classifier object to a file, ./data/predictor.pickle\n",
    "\n",
    "It comes with a matching classify.py that reads the values."
   ]
  },
  {
   "cell_type": "code",
   "execution_count": 37,
   "metadata": {
    "collapsed": false
   },
   "outputs": [
    {
     "data": {
      "text/plain": [
       "array([ 0.80327869,  0.775     ,  0.775     ])"
      ]
     },
     "execution_count": 37,
     "metadata": {},
     "output_type": "execute_result"
    }
   ],
   "source": [
    "import pickle\n",
    "\n",
    "import numpy as np\n",
    "from sklearn.neighbors import KNeighborsClassifier\n",
    "from sklearn.svm import SVC\n",
    "from sklearn.linear_model import LogisticRegression\n",
    "from sklearn.dummy import DummyClassifier\n",
    "from sklearn.tree import DecisionTreeClassifier\n",
    "from sklearn.cross_validation import cross_val_score\n",
    "\n",
    "from sklearn.preprocessing import StandardScaler\n",
    "from sklearn.decomposition import PCA\n",
    "\n",
    "from sklearn.pipeline import make_pipeline\n",
    "\n",
    "pipeline = make_pipeline(StandardScaler(), DummyClassifier())\n",
    "\n",
    "import pandas as pd\n",
    "\n",
    "kumpula = pd.read_csv(\"./data/kumpula.csv\").dropna()\n",
    "kumpula_with_rain = kumpula.assign(rain = lambda x: x[\"rmm\"] > 0.3)\n",
    "\n",
    "#air pressure and wind direction may be relevant to wind conditions\n",
    "#\n",
    "predictors = kumpula_with_rain[[\"wdir\", \"p\"]]\n",
    "\n",
    "cross_val_score(pipeline, predictors, kumpula_with_rain[\"rain\"], \n",
    "                #you can experiment with different scoring methods here\n",
    "                #pick one that performs better than DummyClassifier\n",
    "               )\n"
   ]
  },
  {
   "cell_type": "markdown",
   "metadata": {},
   "source": [
    "## Writing to file\n",
    "\n",
    "Here we use Python's Pickle-library (part of the standard library) to write the objects to file) "
   ]
  },
  {
   "cell_type": "code",
   "execution_count": 39,
   "metadata": {
    "collapsed": false
   },
   "outputs": [],
   "source": [
    "def write_classification_pickle(filename, pipeline,):\n",
    "    \"\"\" writes a python object to file\n",
    "        \n",
    "    \"\"\"\n",
    "    with open(filename, \"wb\") as output:\n",
    "        pickle.dump(pipeline, output)\n"
   ]
  },
  {
   "cell_type": "code",
   "execution_count": 40,
   "metadata": {
    "collapsed": false
   },
   "outputs": [],
   "source": [
    "pipeline.fit(predictors, kumpula_with_rain[\"rain\"])\n",
    "write_classification_pickle(\"./data/predictor.pickle\", \n",
    "                            pipeline\n",
    "                           )"
   ]
  },
  {
   "cell_type": "markdown",
   "metadata": {},
   "source": [
    "## Using from command line\n",
    "\n",
    "The file estimator.py can be used with this example\n",
    "\n",
    "Run\n",
    "\n",
    "    python estimator.py ./data/predictor.pickle 230 1000\n",
    "    \n",
    "In a terminal to run the estimator. "
   ]
  },
  {
   "cell_type": "code",
   "execution_count": null,
   "metadata": {
    "collapsed": true
   },
   "outputs": [],
   "source": []
  }
 ],
 "metadata": {
  "kernelspec": {
   "display_name": "Python 3",
   "language": "python",
   "name": "python3"
  },
  "language_info": {
   "codemirror_mode": {
    "name": "ipython",
    "version": 3
   },
   "file_extension": ".py",
   "mimetype": "text/x-python",
   "name": "python",
   "nbconvert_exporter": "python",
   "pygments_lexer": "ipython3",
   "version": "3.4.3"
  }
 },
 "nbformat": 4,
 "nbformat_minor": 0
}
