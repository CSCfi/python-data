{
 "cells": [
  {
   "cell_type": "code",
   "execution_count": null,
   "metadata": {
    "collapsed": true
   },
   "outputs": [],
   "source": [
    "#Classification using Scikit-Learn"
   ]
  },
  {
   "cell_type": "code",
   "execution_count": 13,
   "metadata": {
    "collapsed": true
   },
   "outputs": [],
   "source": [
    "import numpy as np\n",
    "\n",
    "from bokeh.plotting import figure, show, save\n",
    "\n",
    "from bokeh.io import output_notebook, output_file\n",
    "import pandas as pd"
   ]
  },
  {
   "cell_type": "code",
   "execution_count": 14,
   "metadata": {
    "collapsed": false
   },
   "outputs": [
    {
     "data": {
      "text/html": [
       "\n",
       "    <div class=\"bk-root\">\n",
       "        <a href=\"http://bokeh.pydata.org\" target=\"_blank\" class=\"bk-logo bk-logo-small bk-logo-notebook\"></a>\n",
       "        <span id=\"92789f5f-2f78-4fce-b280-d373397cfc45\">Loading BokehJS ...</span>\n",
       "    </div>"
      ]
     },
     "metadata": {},
     "output_type": "display_data"
    },
    {
     "data": {
      "application/javascript": [
       "\n",
       "(function(global) {\n",
       "  function now() {\n",
       "    return new Date();\n",
       "  }\n",
       "\n",
       "  var force = \"1\";\n",
       "\n",
       "  if (typeof (window._bokeh_onload_callbacks) === \"undefined\" || force !== \"\") {\n",
       "    window._bokeh_onload_callbacks = [];\n",
       "    window._bokeh_is_loading = undefined;\n",
       "  }\n",
       "\n",
       "\n",
       "  \n",
       "  if (typeof (window._bokeh_timeout) === \"undefined\" || force !== \"\") {\n",
       "    window._bokeh_timeout = Date.now() + 5000;\n",
       "    window._bokeh_failed_load = false;\n",
       "  }\n",
       "\n",
       "  var NB_LOAD_WARNING = {'data': {'text/html':\n",
       "     \"<div style='background-color: #fdd'>\\n\"+\n",
       "     \"<p>\\n\"+\n",
       "     \"BokehJS does not appear to have successfully loaded. If loading BokehJS from CDN, this \\n\"+\n",
       "     \"may be due to a slow or bad network connection. Possible fixes:\\n\"+\n",
       "     \"</p>\\n\"+\n",
       "     \"<ul>\\n\"+\n",
       "     \"<li>re-rerun `output_notebook()` to attempt to load from CDN again, or</li>\\n\"+\n",
       "     \"<li>use INLINE resources instead, as so:</li>\\n\"+\n",
       "     \"</ul>\\n\"+\n",
       "     \"<code>\\n\"+\n",
       "     \"from bokeh.resources import INLINE\\n\"+\n",
       "     \"output_notebook(resources=INLINE)\\n\"+\n",
       "     \"</code>\\n\"+\n",
       "     \"</div>\"}};\n",
       "\n",
       "  function display_loaded() {\n",
       "    if (window.Bokeh !== undefined) {\n",
       "      Bokeh.$(\"#92789f5f-2f78-4fce-b280-d373397cfc45\").text(\"BokehJS successfully loaded.\");\n",
       "    } else if (Date.now() < window._bokeh_timeout) {\n",
       "      setTimeout(display_loaded, 100)\n",
       "    }\n",
       "  }\n",
       "\n",
       "  function run_callbacks() {\n",
       "    window._bokeh_onload_callbacks.forEach(function(callback) { callback() });\n",
       "    delete window._bokeh_onload_callbacks\n",
       "    console.info(\"Bokeh: all callbacks have finished\");\n",
       "  }\n",
       "\n",
       "  function load_libs(js_urls, callback) {\n",
       "    window._bokeh_onload_callbacks.push(callback);\n",
       "    if (window._bokeh_is_loading > 0) {\n",
       "      console.log(\"Bokeh: BokehJS is being loaded, scheduling callback at\", now());\n",
       "      return null;\n",
       "    }\n",
       "    if (js_urls == null || js_urls.length === 0) {\n",
       "      run_callbacks();\n",
       "      return null;\n",
       "    }\n",
       "    console.log(\"Bokeh: BokehJS not loaded, scheduling load and callback at\", now());\n",
       "    window._bokeh_is_loading = js_urls.length;\n",
       "    for (var i = 0; i < js_urls.length; i++) {\n",
       "      var url = js_urls[i];\n",
       "      var s = document.createElement('script');\n",
       "      s.src = url;\n",
       "      s.async = false;\n",
       "      s.onreadystatechange = s.onload = function() {\n",
       "        window._bokeh_is_loading--;\n",
       "        if (window._bokeh_is_loading === 0) {\n",
       "          console.log(\"Bokeh: all BokehJS libraries loaded\");\n",
       "          run_callbacks()\n",
       "        }\n",
       "      };\n",
       "      s.onerror = function() {\n",
       "        console.warn(\"failed to load library \" + url);\n",
       "      };\n",
       "      console.log(\"Bokeh: injecting script tag for BokehJS library: \", url);\n",
       "      document.getElementsByTagName(\"head\")[0].appendChild(s);\n",
       "    }\n",
       "  };var element = document.getElementById(\"92789f5f-2f78-4fce-b280-d373397cfc45\");\n",
       "  if (element == null) {\n",
       "    console.log(\"Bokeh: ERROR: autoload.js configured with elementid '92789f5f-2f78-4fce-b280-d373397cfc45' but no matching script tag was found. \")\n",
       "    return false;\n",
       "  }\n",
       "\n",
       "  var js_urls = ['https://cdn.pydata.org/bokeh/release/bokeh-0.12.3.min.js', 'https://cdn.pydata.org/bokeh/release/bokeh-widgets-0.12.3.min.js'];\n",
       "\n",
       "  var inline_js = [\n",
       "    function(Bokeh) {\n",
       "      Bokeh.set_log_level(\"info\");\n",
       "    },\n",
       "    \n",
       "    function(Bokeh) {\n",
       "      \n",
       "      Bokeh.$(\"#92789f5f-2f78-4fce-b280-d373397cfc45\").text(\"BokehJS is loading...\");\n",
       "    },\n",
       "    function(Bokeh) {\n",
       "      console.log(\"Bokeh: injecting CSS: https://cdn.pydata.org/bokeh/release/bokeh-0.12.3.min.css\");\n",
       "      Bokeh.embed.inject_css(\"https://cdn.pydata.org/bokeh/release/bokeh-0.12.3.min.css\");\n",
       "      console.log(\"Bokeh: injecting CSS: https://cdn.pydata.org/bokeh/release/bokeh-widgets-0.12.3.min.css\");\n",
       "      Bokeh.embed.inject_css(\"https://cdn.pydata.org/bokeh/release/bokeh-widgets-0.12.3.min.css\");\n",
       "    }\n",
       "  ];\n",
       "\n",
       "  function run_inline_js() {\n",
       "    \n",
       "    if ((window.Bokeh !== undefined) || (force === \"1\")) {\n",
       "      for (var i = 0; i < inline_js.length; i++) {\n",
       "        inline_js[i](window.Bokeh);\n",
       "      }if (force === \"1\") {\n",
       "        display_loaded();\n",
       "      }} else if (Date.now() < window._bokeh_timeout) {\n",
       "      setTimeout(run_inline_js, 100);\n",
       "    } else if (!window._bokeh_failed_load) {\n",
       "      console.log(\"Bokeh: BokehJS failed to load within specified timeout.\");\n",
       "      window._bokeh_failed_load = true;\n",
       "    } else if (!force) {\n",
       "      var cell = $(\"#92789f5f-2f78-4fce-b280-d373397cfc45\").parents('.cell').data().cell;\n",
       "      cell.output_area.append_execute_result(NB_LOAD_WARNING)\n",
       "    }\n",
       "\n",
       "  }\n",
       "\n",
       "  if (window._bokeh_is_loading === 0) {\n",
       "    console.log(\"Bokeh: BokehJS loaded, going straight to plotting\");\n",
       "    run_inline_js();\n",
       "  } else {\n",
       "    load_libs(js_urls, function() {\n",
       "      console.log(\"Bokeh: BokehJS plotting callback run at\", now());\n",
       "      run_inline_js();\n",
       "    });\n",
       "  }\n",
       "}(this));"
      ]
     },
     "metadata": {},
     "output_type": "display_data"
    }
   ],
   "source": [
    "output_notebook()"
   ]
  },
  {
   "cell_type": "code",
   "execution_count": 16,
   "metadata": {
    "collapsed": false
   },
   "outputs": [
    {
     "data": {
      "text/html": [
       "\n",
       "\n",
       "    <div class=\"bk-root\">\n",
       "        <div class=\"plotdiv\" id=\"4e3967b0-ff0d-4470-aac9-467c92847aae\"></div>\n",
       "    </div>\n",
       "<script type=\"text/javascript\">\n",
       "  \n",
       "  (function(global) {\n",
       "    function now() {\n",
       "      return new Date();\n",
       "    }\n",
       "  \n",
       "    var force = \"\";\n",
       "  \n",
       "    if (typeof (window._bokeh_onload_callbacks) === \"undefined\" || force !== \"\") {\n",
       "      window._bokeh_onload_callbacks = [];\n",
       "      window._bokeh_is_loading = undefined;\n",
       "    }\n",
       "  \n",
       "  \n",
       "    \n",
       "    if (typeof (window._bokeh_timeout) === \"undefined\" || force !== \"\") {\n",
       "      window._bokeh_timeout = Date.now() + 0;\n",
       "      window._bokeh_failed_load = false;\n",
       "    }\n",
       "  \n",
       "    var NB_LOAD_WARNING = {'data': {'text/html':\n",
       "       \"<div style='background-color: #fdd'>\\n\"+\n",
       "       \"<p>\\n\"+\n",
       "       \"BokehJS does not appear to have successfully loaded. If loading BokehJS from CDN, this \\n\"+\n",
       "       \"may be due to a slow or bad network connection. Possible fixes:\\n\"+\n",
       "       \"</p>\\n\"+\n",
       "       \"<ul>\\n\"+\n",
       "       \"<li>re-rerun `output_notebook()` to attempt to load from CDN again, or</li>\\n\"+\n",
       "       \"<li>use INLINE resources instead, as so:</li>\\n\"+\n",
       "       \"</ul>\\n\"+\n",
       "       \"<code>\\n\"+\n",
       "       \"from bokeh.resources import INLINE\\n\"+\n",
       "       \"output_notebook(resources=INLINE)\\n\"+\n",
       "       \"</code>\\n\"+\n",
       "       \"</div>\"}};\n",
       "  \n",
       "    function display_loaded() {\n",
       "      if (window.Bokeh !== undefined) {\n",
       "        Bokeh.$(\"#4e3967b0-ff0d-4470-aac9-467c92847aae\").text(\"BokehJS successfully loaded.\");\n",
       "      } else if (Date.now() < window._bokeh_timeout) {\n",
       "        setTimeout(display_loaded, 100)\n",
       "      }\n",
       "    }\n",
       "  \n",
       "    function run_callbacks() {\n",
       "      window._bokeh_onload_callbacks.forEach(function(callback) { callback() });\n",
       "      delete window._bokeh_onload_callbacks\n",
       "      console.info(\"Bokeh: all callbacks have finished\");\n",
       "    }\n",
       "  \n",
       "    function load_libs(js_urls, callback) {\n",
       "      window._bokeh_onload_callbacks.push(callback);\n",
       "      if (window._bokeh_is_loading > 0) {\n",
       "        console.log(\"Bokeh: BokehJS is being loaded, scheduling callback at\", now());\n",
       "        return null;\n",
       "      }\n",
       "      if (js_urls == null || js_urls.length === 0) {\n",
       "        run_callbacks();\n",
       "        return null;\n",
       "      }\n",
       "      console.log(\"Bokeh: BokehJS not loaded, scheduling load and callback at\", now());\n",
       "      window._bokeh_is_loading = js_urls.length;\n",
       "      for (var i = 0; i < js_urls.length; i++) {\n",
       "        var url = js_urls[i];\n",
       "        var s = document.createElement('script');\n",
       "        s.src = url;\n",
       "        s.async = false;\n",
       "        s.onreadystatechange = s.onload = function() {\n",
       "          window._bokeh_is_loading--;\n",
       "          if (window._bokeh_is_loading === 0) {\n",
       "            console.log(\"Bokeh: all BokehJS libraries loaded\");\n",
       "            run_callbacks()\n",
       "          }\n",
       "        };\n",
       "        s.onerror = function() {\n",
       "          console.warn(\"failed to load library \" + url);\n",
       "        };\n",
       "        console.log(\"Bokeh: injecting script tag for BokehJS library: \", url);\n",
       "        document.getElementsByTagName(\"head\")[0].appendChild(s);\n",
       "      }\n",
       "    };var element = document.getElementById(\"4e3967b0-ff0d-4470-aac9-467c92847aae\");\n",
       "    if (element == null) {\n",
       "      console.log(\"Bokeh: ERROR: autoload.js configured with elementid '4e3967b0-ff0d-4470-aac9-467c92847aae' but no matching script tag was found. \")\n",
       "      return false;\n",
       "    }\n",
       "  \n",
       "    var js_urls = [];\n",
       "  \n",
       "    var inline_js = [\n",
       "      function(Bokeh) {\n",
       "        Bokeh.$(function() {\n",
       "            var docs_json = {\"edca9da7-ab4c-4c7f-92a9-093b8d0dd9ee\":{\"roots\":{\"references\":[{\"attributes\":{\"plot\":{\"id\":\"5161cdcb-7383-4fa6-8d49-63fb01b91db1\",\"subtype\":\"Chart\",\"type\":\"Plot\"},\"ticker\":{\"id\":\"c2d490b2-275e-43cf-9291-db1e399ee313\",\"type\":\"BasicTicker\"}},\"id\":\"a329e86a-b816-42e2-819e-3503a4deb53f\",\"type\":\"Grid\"},{\"attributes\":{\"plot\":{\"id\":\"5161cdcb-7383-4fa6-8d49-63fb01b91db1\",\"subtype\":\"Chart\",\"type\":\"Plot\"}},\"id\":\"f2dbc0e1-7323-4d4e-abd1-581ebc743a63\",\"type\":\"SaveTool\"},{\"attributes\":{},\"id\":\"99afec0e-9b33-4162-b24c-2051e3fcd18d\",\"type\":\"ToolEvents\"},{\"attributes\":{\"axis_label\":\"second\",\"formatter\":{\"id\":\"02e7227e-4890-42f5-84a7-70f418fe19eb\",\"type\":\"BasicTickFormatter\"},\"plot\":{\"id\":\"5161cdcb-7383-4fa6-8d49-63fb01b91db1\",\"subtype\":\"Chart\",\"type\":\"Plot\"},\"ticker\":{\"id\":\"bd129a1b-6553-4def-854c-8b6fe4d5f11f\",\"type\":\"BasicTicker\"}},\"id\":\"fd2a8456-6d7d-4cad-acbf-8b117b46c560\",\"type\":\"LinearAxis\"},{\"attributes\":{\"dimension\":1,\"plot\":{\"id\":\"97e65443-fb25-4de8-b38e-aa876e21b92d\",\"subtype\":\"Chart\",\"type\":\"Plot\"},\"ticker\":{\"id\":\"b1c5d126-af87-4518-9ee9-d162511cbbc1\",\"type\":\"BasicTicker\"}},\"id\":\"638fae0a-8ace-419f-ab66-94e89c80ae86\",\"type\":\"Grid\"},{\"attributes\":{\"callback\":null,\"column_names\":[\"y_values\",\"x_values\"],\"data\":{\"chart_index\":[null,null,null,null,null,null,null,null,null,null,null,null,null,null,null,null,null,null,null,null,null,null,null,null,null,null,null,null,null,null,null,null,null,null,null,null,null,null,null,null,null,null,null,null,null,null,null,null,null,null,null,null,null,null,null,null,null,null,null,null,null,null,null,null,null,null,null,null,null,null,null,null,null,null,null,null,null,null,null,null,null,null,null,null,null,null,null,null,null,null,null,null,null,null,null,null,null,null,null,null],\"x_values\":[-0.8267623297180005,-1.3621817346553948,1.492654800428367,0.8491732081515548,-0.5303156147540573,1.3253550878586087,2.0731963959543935,-2.3070139794284685,3.1841533159741218,1.0728605296559761,-1.1963681838435476,3.840747175725186,0.25711621422198094,2.058116113426557,-2.891606012166098,0.2677717928965202,3.8368807348379352,4.563683952578591,-0.00029080189018726443,2.181447124709792,3.558143855138429,2.7749098151194533,2.56181492697125,2.5284355059233254,1.0126442014350099,3.9920320919289782,-3.031416483135125,2.162829572579481,3.711946087544372,-1.7762002555904983,-1.1170903401487728,-2.1003375326727163,6.678381854897188,2.909289773206149,-4.7815398029394816,1.462324180044996,-1.452192339202405,1.218787932515016,3.056259322287577,-0.32704640212542246,1.460904168932216,-4.36167607238533,2.9311143540496585,5.628131794146481,3.3062929635668237,-1.216442406062106,-0.03188863008253939,6.006167896328472,3.992569616647006,3.173650653308395,0.7797823564019861,6.885104734176194,0.9137488938881637,1.5355605489236082,3.2469086706863575,1.994976028244912,0.4071920027527782,-2.980785571828802,0.6402895739311285,-0.18905686178208292,0.9801806897004888,4.4317086871805484,5.54726254042402,3.2629985351822572,4.268212976651626,5.610176374575888,-0.17896710490445855,4.953035690965112,0.3192716110520326,-1.7959251022975584,3.268340046183991,0.9537043343684317,0.7725315903286587,1.8590215211533203,-1.3676930852773754,0.5426744689416636,1.7956957542127367,7.143789041075216,-2.881572495130478,2.935975924652291,0.994936921566214,0.766380477107993,5.28741542864125,0.15020417139365372,1.6303385703589308,-1.6989827430504496,2.917721454911939,-5.309589623615222,0.9211221935486322,3.079413305794027,-2.205273550607923,-0.5758697864469768,-1.8979707745369354,2.2575793574480483,3.2531384021391756,-0.25648536324045423,4.309442757835103,2.074092130478458,-0.08558698005825782,2.6412499850706785],\"y_values\":[3.2458254035148992,2.978038511356959,1.2132167898617388,-0.5233817092720816,5.372817777208372,-2.5907194512041665,4.534337881813533,2.3946501177725854,3.6131820802162466,1.3424328807369201,2.6421783578366096,6.570258203299861,8.012110531218585,7.079370658373098,-1.5459177280898326,3.791170440483071,2.4958387453661457,1.6824613996455833,2.9102115429348805,-0.28032014246337456,-1.7368935229279838,5.48434691133127,-3.4129142014761786,1.988837428553348,-2.2443935562647352,-2.1873532218290013,10.06533742179447,2.3987684669368137,3.279410027684082,1.1284367212269937,-1.1282210119701679,1.3278034990820595,3.28316212456744,-1.020117588211214,0.6528949603134295,-0.6146998526550207,2.883186533000927,5.448969001596362,1.4926625095330126,2.6816735524852398,0.6596249491068806,2.7078665293354254,2.488326419861908,1.9597292177595482,4.742437358407859,-2.012591409070577,1.2441713655507658,3.474593601722268,3.278562173878943,1.4293203641268015,-4.206675511749906,2.1988152772040697,6.54679730386133,3.109874322059823,3.925504005229528,-6.862067528479869,4.627525604159713,1.4483541528045476,5.914644885448244,-0.46960332154615125,2.591825318525472,5.084576699560332,0.4305024435333529,7.618630085944682,7.588583668791576,3.932989392246019,4.6502698151254975,3.740215373923202,3.786875334328967,2.3943772228553426,-0.38954754347882137,1.5778903401885551,3.8222821829534257,1.072286475710499,-3.2365138722452382,0.9034063607596852,4.241782654858228,1.9160209503110353,6.714787309289809,-3.594843184100645,5.073212872819987,1.7840637258195238,4.425140691164392,4.361273343732483,6.867091352466497,1.7788401129351095,-0.7853355842157272,2.683733735805702,1.5888508651990196,2.0326415661407777,3.520326298452238,1.5287425802373495,-0.6648630923290573,0.1884852491884461,1.548279523499926,1.5546022990226294,5.4973007537843,-5.072284515052431,6.769543038953578,3.4777558692557173]}},\"id\":\"dda07410-d088-4829-b392-230d80794e4d\",\"type\":\"ColumnDataSource\"},{\"attributes\":{\"active_drag\":\"auto\",\"active_scroll\":\"auto\",\"active_tap\":\"auto\",\"tools\":[{\"id\":\"66e2a1bd-be2e-4270-a4a4-abaf4e3da3b0\",\"type\":\"PanTool\"},{\"id\":\"610d157a-e3ad-4894-9510-729963422a4c\",\"type\":\"WheelZoomTool\"},{\"id\":\"3899232c-dc1e-44a1-bea0-66c55b7aafdd\",\"type\":\"BoxZoomTool\"},{\"id\":\"63445b27-eff7-4467-bffa-1e2ca0f3a003\",\"type\":\"SaveTool\"},{\"id\":\"5a3858b0-6c85-4b5b-bfd6-0061c5896535\",\"type\":\"ResetTool\"},{\"id\":\"2b65fb11-6c2e-49a6-b939-e9a88ef97670\",\"type\":\"HelpTool\"}]},\"id\":\"10b80817-d9e8-44e6-a19c-7e8f39d4dc20\",\"type\":\"Toolbar\"},{\"attributes\":{\"plot\":{\"id\":\"93b21b2a-ed84-4d81-9234-1985071822b7\",\"subtype\":\"Chart\",\"type\":\"Plot\"},\"ticker\":{\"id\":\"40f97950-6a9b-4e18-b4ee-2baa6a13aec2\",\"type\":\"BasicTicker\"}},\"id\":\"35571aa2-fe77-40fd-86b8-fa4ee9168347\",\"type\":\"Grid\"},{\"attributes\":{\"plot\":{\"id\":\"97e65443-fb25-4de8-b38e-aa876e21b92d\",\"subtype\":\"Chart\",\"type\":\"Plot\"}},\"id\":\"7a780631-90e5-468e-a42d-eeeb1489ec55\",\"type\":\"WheelZoomTool\"},{\"attributes\":{},\"id\":\"c2d490b2-275e-43cf-9291-db1e399ee313\",\"type\":\"BasicTicker\"},{\"attributes\":{\"below\":[{\"id\":\"f1e41297-3314-479e-92c7-938f36e25d11\",\"type\":\"LinearAxis\"}],\"left\":[{\"id\":\"fd2a8456-6d7d-4cad-acbf-8b117b46c560\",\"type\":\"LinearAxis\"}],\"renderers\":[{\"id\":\"5e9475fc-a8b9-41e4-9e3f-4ee981431c51\",\"type\":\"BoxAnnotation\"},{\"id\":\"9bd64926-2109-4fa0-9667-d8d7403be033\",\"type\":\"GlyphRenderer\"},{\"id\":\"da995ef8-3f42-4609-8d3d-0163452f37b2\",\"type\":\"Legend\"},{\"id\":\"f1e41297-3314-479e-92c7-938f36e25d11\",\"type\":\"LinearAxis\"},{\"id\":\"fd2a8456-6d7d-4cad-acbf-8b117b46c560\",\"type\":\"LinearAxis\"},{\"id\":\"a329e86a-b816-42e2-819e-3503a4deb53f\",\"type\":\"Grid\"},{\"id\":\"0b776683-f528-4ee8-be2d-faf66fb65f77\",\"type\":\"Grid\"}],\"title\":{\"id\":\"f6d91da2-bfde-4397-8ff7-bf9cd96e87a1\",\"type\":\"Title\"},\"tool_events\":{\"id\":\"943b737b-525b-4ce4-ab4b-690467022134\",\"type\":\"ToolEvents\"},\"toolbar\":{\"id\":\"a5bb3635-e110-469e-9e92-180ca74daa19\",\"type\":\"Toolbar\"},\"x_mapper_type\":\"auto\",\"x_range\":{\"id\":\"2cc2c778-3605-4faa-bcd4-51c6f888a499\",\"type\":\"Range1d\"},\"y_mapper_type\":\"auto\",\"y_range\":{\"id\":\"2cc2c778-3605-4faa-bcd4-51c6f888a499\",\"type\":\"Range1d\"}},\"id\":\"5161cdcb-7383-4fa6-8d49-63fb01b91db1\",\"subtype\":\"Chart\",\"type\":\"Plot\"},{\"attributes\":{\"callback\":null,\"column_names\":[\"y_values\",\"x_values\"],\"data\":{\"chart_index\":[null,null,null,null,null,null,null,null,null,null,null,null,null,null,null,null,null,null,null,null,null,null,null,null,null,null,null,null,null,null,null,null,null,null,null,null,null,null,null,null,null,null,null,null,null,null,null,null,null,null,null,null,null,null,null,null,null,null,null,null,null,null,null,null,null,null,null,null,null,null,null,null,null,null,null,null,null,null,null,null,null,null,null,null,null,null,null,null,null,null,null,null,null,null,null,null,null,null,null,null],\"x_values\":[-2.184030697731603,-2.719450102668997,0.13538643241476467,-0.5080951598620476,-1.8875839827676597,-0.03191328015499373,0.7159280279407911,-3.6642823474420707,1.8268849479605194,-0.2844078383576263,-2.55363655185715,2.4834788077115837,-1.1001521537916215,0.7008477454129547,-4.2488743801797,-1.0894965751170822,2.479612366824333,3.206415584564989,-1.3575591699037897,0.8241787566961898,2.2008754871248266,1.417641447105851,1.2045465589576476,1.171167137909723,-0.3446241665785925,2.634763723915376,-4.388684851148727,0.8055612045658787,2.3546777195307698,-3.1334686236041005,-2.4743587081623755,-3.4576059006863185,5.321113486883585,1.5520214051925467,-6.138808170953084,0.10505581203139358,-2.809460707216007,-0.13848043549858646,1.6989909542739745,-1.6843147701390249,0.10363580091861357,-5.718944440398932,1.573845986036056,4.270863426132879,1.9490245955532213,-2.5737107740757086,-1.3891569980961418,4.64889952831487,2.6353012486334038,1.8163822852947924,-0.5774860116116163,5.5278363661625916,-0.4435194741254387,0.17829218091000576,1.889640302672755,0.6377076602313096,-0.9500763652608242,-4.338053939842404,-0.7169787940824739,-1.5463252297956853,-0.37708767831311363,3.0744403191669463,4.189994172410418,1.9057301671686548,2.910944608638024,4.2529080065622855,-1.536235472918061,3.5957673229515095,-1.0379967569615698,-3.1531934703111606,1.9110716781703887,-0.4035640336451707,-0.5847367776849437,0.5017531531397179,-2.7249614532909776,-0.8145938990719388,0.43842738619913435,5.786520673061614,-4.23884086314408,1.5787075566386888,-0.36233144644738835,-0.5908878909056094,3.9301470606276476,-1.2070641966199487,0.2730702023453284,-3.056251111064052,1.5604530868983366,-6.666857991628824,-0.43614617446497017,1.7221449377804248,-3.562541918621525,-1.9331381544605792,-3.255239142550538,0.9003109894344459,1.8958700341255732,-1.6137537312540566,2.9521743898215007,0.7168237624648557,-1.4428553480718602,1.2839816170570761],\"y_values\":[1.006648743824765,0.738861851666825,-1.0259598698283954,-2.7625583689622157,3.1336411175182377,-4.829896110894301,2.295161222123399,0.15547345808245128,1.3740054205261125,-0.896743778953214,0.40300169814647546,4.331081543609727,5.772933871528451,4.840193998682964,-3.7850943877799668,1.551993780792937,0.25666208567601156,-0.5567152600445509,0.6710348832447464,-2.5194968021535087,-3.976070182618118,3.2451702516411363,-5.652090861166313,-0.250339231136786,-4.483570215954869,-4.426529881519135,7.826160762104337,0.15959180724667954,1.040233367993948,-1.1107399384631405,-3.367397671660302,-0.9113731606080746,1.0439854648773057,-3.259294247901348,-1.5862816993767046,-2.853876512345155,0.6440098733107931,3.209792341906228,-0.7465141501571215,0.4424968927951056,-1.5795517105832535,0.46868986964529125,0.24914976017177404,-0.2794474419305859,2.5032606987177246,-4.251768068760711,-0.9950052941393683,1.235416942032134,1.039385514188809,-0.8098562955633326,-6.44585217144004,-0.04036138248606447,4.3076206441711955,0.8706976623696887,1.686327345539394,-9.101244188170003,2.3883489444695787,-0.7908225068855865,3.6754682257581095,-2.7087799812362854,0.3526486588353377,2.8454000398701975,-1.8086742161567813,5.379453426254548,5.349407009101442,1.6938127325558847,2.4110931554353634,1.5010387142330677,1.5476986746388328,0.15520056316520847,-2.6287242031689555,-0.661286319501579,1.5831055232632916,-1.166890183979635,-5.475690531935372,-1.335770298930449,2.0026059951680937,-0.3231557093790989,4.475610649599675,-5.834019843790779,2.8340362131298527,-0.45511293387061036,2.185964031474258,2.122096684042349,4.627914692776363,-0.46033654675502467,-3.0245122439058614,0.4445570761155677,-0.6503257944911145,-0.2065350935493564,1.2811496387621037,-0.7104340794527846,-2.9040397520191914,-2.0506914105016882,-0.6908971361902081,-0.6845743606675048,3.258124094094166,-7.311461174742565,4.530366379263444,1.2385792095655832]}},\"id\":\"e46352b2-a840-4469-9557-d994d076fa2f\",\"type\":\"ColumnDataSource\"},{\"attributes\":{\"data_source\":{\"id\":\"b00108af-80a1-4cd7-afc4-2c5a0271e793\",\"type\":\"ColumnDataSource\"},\"glyph\":{\"id\":\"8af36548-5dcc-408f-9bdb-8a0dea2b8aef\",\"type\":\"Circle\"},\"hover_glyph\":null,\"nonselection_glyph\":null,\"selection_glyph\":null},\"id\":\"29690ae6-791b-42b9-8903-b7a03281c1bb\",\"type\":\"GlyphRenderer\"},{\"attributes\":{},\"id\":\"943b737b-525b-4ce4-ab4b-690467022134\",\"type\":\"ToolEvents\"},{\"attributes\":{},\"id\":\"b1c5d126-af87-4518-9ee9-d162511cbbc1\",\"type\":\"BasicTicker\"},{\"attributes\":{},\"id\":\"e72e66c8-abc3-4077-adab-ebd9612c937e\",\"type\":\"BasicTickFormatter\"},{\"attributes\":{},\"id\":\"e1952957-9d1f-43a1-b570-6f7d127e22b5\",\"type\":\"BasicTicker\"},{\"attributes\":{\"below\":[{\"id\":\"9f558944-52cc-4939-bd34-8326bc2f2860\",\"type\":\"LinearAxis\"}],\"left\":[{\"id\":\"ab02fadd-c3df-4ca4-8891-344ce9b7f24e\",\"type\":\"LinearAxis\"}],\"renderers\":[{\"id\":\"3088c80c-8116-46b0-880c-255c467a282c\",\"type\":\"BoxAnnotation\"},{\"id\":\"b519845b-175a-4713-9a39-360975807321\",\"type\":\"GlyphRenderer\"},{\"id\":\"ddb802c2-a977-4368-a75c-b5115723cc57\",\"type\":\"Legend\"},{\"id\":\"9f558944-52cc-4939-bd34-8326bc2f2860\",\"type\":\"LinearAxis\"},{\"id\":\"ab02fadd-c3df-4ca4-8891-344ce9b7f24e\",\"type\":\"LinearAxis\"},{\"id\":\"9daaa11d-57f0-4392-b878-8747579f6473\",\"type\":\"Grid\"},{\"id\":\"638fae0a-8ace-419f-ab66-94e89c80ae86\",\"type\":\"Grid\"}],\"title\":{\"id\":\"643c26c0-5819-47d2-ab98-a2d7bb556d95\",\"type\":\"Title\"},\"tool_events\":{\"id\":\"99afec0e-9b33-4162-b24c-2051e3fcd18d\",\"type\":\"ToolEvents\"},\"toolbar\":{\"id\":\"c8b9b527-0758-41ac-b5f6-fc7d2781d2bd\",\"type\":\"Toolbar\"},\"x_mapper_type\":\"auto\",\"x_range\":{\"id\":\"2cc2c778-3605-4faa-bcd4-51c6f888a499\",\"type\":\"Range1d\"},\"y_mapper_type\":\"auto\",\"y_range\":{\"id\":\"2cc2c778-3605-4faa-bcd4-51c6f888a499\",\"type\":\"Range1d\"}},\"id\":\"97e65443-fb25-4de8-b38e-aa876e21b92d\",\"subtype\":\"Chart\",\"type\":\"Plot\"},{\"attributes\":{\"location\":\"top_left\",\"plot\":{\"id\":\"97e65443-fb25-4de8-b38e-aa876e21b92d\",\"subtype\":\"Chart\",\"type\":\"Plot\"}},\"id\":\"ddb802c2-a977-4368-a75c-b5115723cc57\",\"type\":\"Legend\"},{\"attributes\":{\"plot\":{\"id\":\"5161cdcb-7383-4fa6-8d49-63fb01b91db1\",\"subtype\":\"Chart\",\"type\":\"Plot\"}},\"id\":\"9c556297-2a30-4720-83fe-9e1f6fc80bb9\",\"type\":\"HelpTool\"},{\"attributes\":{\"overlay\":{\"id\":\"3088c80c-8116-46b0-880c-255c467a282c\",\"type\":\"BoxAnnotation\"},\"plot\":{\"id\":\"97e65443-fb25-4de8-b38e-aa876e21b92d\",\"subtype\":\"Chart\",\"type\":\"Plot\"}},\"id\":\"9dddef6b-0419-445b-a68a-ba308af1c6c2\",\"type\":\"BoxZoomTool\"},{\"attributes\":{\"axis_label\":\"second\",\"formatter\":{\"id\":\"e72e66c8-abc3-4077-adab-ebd9612c937e\",\"type\":\"BasicTickFormatter\"},\"plot\":{\"id\":\"97e65443-fb25-4de8-b38e-aa876e21b92d\",\"subtype\":\"Chart\",\"type\":\"Plot\"},\"ticker\":{\"id\":\"b1c5d126-af87-4518-9ee9-d162511cbbc1\",\"type\":\"BasicTicker\"}},\"id\":\"ab02fadd-c3df-4ca4-8891-344ce9b7f24e\",\"type\":\"LinearAxis\"},{\"attributes\":{},\"id\":\"4b11117c-0043-4950-bf71-aacd38942e37\",\"type\":\"ToolEvents\"},{\"attributes\":{\"bottom_units\":\"screen\",\"fill_alpha\":{\"value\":0.5},\"fill_color\":{\"value\":\"lightgrey\"},\"left_units\":\"screen\",\"level\":\"overlay\",\"line_alpha\":{\"value\":1.0},\"line_color\":{\"value\":\"black\"},\"line_dash\":[4,4],\"line_width\":{\"value\":2},\"plot\":null,\"render_mode\":\"css\",\"right_units\":\"screen\",\"top_units\":\"screen\"},\"id\":\"3088c80c-8116-46b0-880c-255c467a282c\",\"type\":\"BoxAnnotation\"},{\"attributes\":{\"data_source\":{\"id\":\"dda07410-d088-4829-b392-230d80794e4d\",\"type\":\"ColumnDataSource\"},\"glyph\":{\"id\":\"06491088-813a-45ff-a9ef-1a46cd57cb11\",\"type\":\"Circle\"},\"hover_glyph\":null,\"nonselection_glyph\":null,\"selection_glyph\":null},\"id\":\"b519845b-175a-4713-9a39-360975807321\",\"type\":\"GlyphRenderer\"},{\"attributes\":{\"plot\":null,\"text\":null},\"id\":\"f6d91da2-bfde-4397-8ff7-bf9cd96e87a1\",\"type\":\"Title\"},{\"attributes\":{\"plot\":{\"id\":\"97e65443-fb25-4de8-b38e-aa876e21b92d\",\"subtype\":\"Chart\",\"type\":\"Plot\"}},\"id\":\"0b4970e7-c481-4638-9ac6-f8948a086962\",\"type\":\"ResetTool\"},{\"attributes\":{},\"id\":\"f4682a9d-e6fe-449d-a523-abd9ed6139fb\",\"type\":\"BasicTickFormatter\"},{\"attributes\":{\"axis_label\":\"first\",\"formatter\":{\"id\":\"84e64072-83bb-4c1e-b31a-03c538dbfb11\",\"type\":\"BasicTickFormatter\"},\"plot\":{\"id\":\"5161cdcb-7383-4fa6-8d49-63fb01b91db1\",\"subtype\":\"Chart\",\"type\":\"Plot\"},\"ticker\":{\"id\":\"c2d490b2-275e-43cf-9291-db1e399ee313\",\"type\":\"BasicTicker\"}},\"id\":\"f1e41297-3314-479e-92c7-938f36e25d11\",\"type\":\"LinearAxis\"},{\"attributes\":{\"plot\":{\"id\":\"93b21b2a-ed84-4d81-9234-1985071822b7\",\"subtype\":\"Chart\",\"type\":\"Plot\"}},\"id\":\"2b65fb11-6c2e-49a6-b939-e9a88ef97670\",\"type\":\"HelpTool\"},{\"attributes\":{\"data_source\":{\"id\":\"e46352b2-a840-4469-9557-d994d076fa2f\",\"type\":\"ColumnDataSource\"},\"glyph\":{\"id\":\"2bdae8d0-6de5-4e76-8148-0a0b49d99e82\",\"type\":\"Circle\"},\"hover_glyph\":null,\"nonselection_glyph\":null,\"selection_glyph\":null},\"id\":\"9bd64926-2109-4fa0-9667-d8d7403be033\",\"type\":\"GlyphRenderer\"},{\"attributes\":{\"plot\":{\"id\":\"5161cdcb-7383-4fa6-8d49-63fb01b91db1\",\"subtype\":\"Chart\",\"type\":\"Plot\"}},\"id\":\"6db5181c-362b-4f59-b579-cf19c1ea02ae\",\"type\":\"WheelZoomTool\"},{\"attributes\":{\"dimension\":1,\"plot\":{\"id\":\"93b21b2a-ed84-4d81-9234-1985071822b7\",\"subtype\":\"Chart\",\"type\":\"Plot\"},\"ticker\":{\"id\":\"7508916d-fa99-44a5-b5d6-825c8b575bae\",\"type\":\"BasicTicker\"}},\"id\":\"44d4a159-9346-4616-b368-56f7a4bdd427\",\"type\":\"Grid\"},{\"attributes\":{\"bottom_units\":\"screen\",\"fill_alpha\":{\"value\":0.5},\"fill_color\":{\"value\":\"lightgrey\"},\"left_units\":\"screen\",\"level\":\"overlay\",\"line_alpha\":{\"value\":1.0},\"line_color\":{\"value\":\"black\"},\"line_dash\":[4,4],\"line_width\":{\"value\":2},\"plot\":null,\"render_mode\":\"css\",\"right_units\":\"screen\",\"top_units\":\"screen\"},\"id\":\"5e9475fc-a8b9-41e4-9e3f-4ee981431c51\",\"type\":\"BoxAnnotation\"},{\"attributes\":{\"axis_label\":\"second\",\"formatter\":{\"id\":\"a201ba4e-1ecd-4fcb-a825-9691f478f70d\",\"type\":\"BasicTickFormatter\"},\"plot\":{\"id\":\"93b21b2a-ed84-4d81-9234-1985071822b7\",\"subtype\":\"Chart\",\"type\":\"Plot\"},\"ticker\":{\"id\":\"7508916d-fa99-44a5-b5d6-825c8b575bae\",\"type\":\"BasicTicker\"}},\"id\":\"c54b1cd9-9b3a-444f-b349-3492a9bf9f19\",\"type\":\"LinearAxis\"},{\"attributes\":{},\"id\":\"a201ba4e-1ecd-4fcb-a825-9691f478f70d\",\"type\":\"BasicTickFormatter\"},{\"attributes\":{\"plot\":{\"id\":\"97e65443-fb25-4de8-b38e-aa876e21b92d\",\"subtype\":\"Chart\",\"type\":\"Plot\"}},\"id\":\"b1e29543-b32b-4ed7-91e3-c95329ca1adb\",\"type\":\"SaveTool\"},{\"attributes\":{\"below\":[{\"id\":\"f03fb97e-cc62-4b1c-aaff-6d294ac11846\",\"type\":\"LinearAxis\"}],\"left\":[{\"id\":\"c54b1cd9-9b3a-444f-b349-3492a9bf9f19\",\"type\":\"LinearAxis\"}],\"renderers\":[{\"id\":\"b9d46a7d-bcd2-42a3-a35a-30e938be6efd\",\"type\":\"BoxAnnotation\"},{\"id\":\"29690ae6-791b-42b9-8903-b7a03281c1bb\",\"type\":\"GlyphRenderer\"},{\"id\":\"bdd98a3d-4753-4452-9346-2a2b25519bd9\",\"type\":\"Legend\"},{\"id\":\"f03fb97e-cc62-4b1c-aaff-6d294ac11846\",\"type\":\"LinearAxis\"},{\"id\":\"c54b1cd9-9b3a-444f-b349-3492a9bf9f19\",\"type\":\"LinearAxis\"},{\"id\":\"35571aa2-fe77-40fd-86b8-fa4ee9168347\",\"type\":\"Grid\"},{\"id\":\"44d4a159-9346-4616-b368-56f7a4bdd427\",\"type\":\"Grid\"}],\"title\":{\"id\":\"2a84958e-ede8-481b-8828-5ae8cf95c1d3\",\"type\":\"Title\"},\"tool_events\":{\"id\":\"4b11117c-0043-4950-bf71-aacd38942e37\",\"type\":\"ToolEvents\"},\"toolbar\":{\"id\":\"10b80817-d9e8-44e6-a19c-7e8f39d4dc20\",\"type\":\"Toolbar\"},\"x_mapper_type\":\"auto\",\"x_range\":{\"id\":\"2cc2c778-3605-4faa-bcd4-51c6f888a499\",\"type\":\"Range1d\"},\"y_mapper_type\":\"auto\",\"y_range\":{\"id\":\"2cc2c778-3605-4faa-bcd4-51c6f888a499\",\"type\":\"Range1d\"}},\"id\":\"93b21b2a-ed84-4d81-9234-1985071822b7\",\"subtype\":\"Chart\",\"type\":\"Plot\"},{\"attributes\":{},\"id\":\"84e64072-83bb-4c1e-b31a-03c538dbfb11\",\"type\":\"BasicTickFormatter\"},{\"attributes\":{},\"id\":\"02e7227e-4890-42f5-84a7-70f418fe19eb\",\"type\":\"BasicTickFormatter\"},{\"attributes\":{\"fill_alpha\":{\"value\":0.7},\"fill_color\":{\"value\":\"#f22c40\"},\"line_color\":{\"value\":\"#f22c40\"},\"size\":{\"units\":\"screen\",\"value\":8},\"x\":{\"field\":\"x_values\"},\"y\":{\"field\":\"y_values\"}},\"id\":\"2bdae8d0-6de5-4e76-8148-0a0b49d99e82\",\"type\":\"Circle\"},{\"attributes\":{\"plot\":{\"id\":\"93b21b2a-ed84-4d81-9234-1985071822b7\",\"subtype\":\"Chart\",\"type\":\"Plot\"}},\"id\":\"610d157a-e3ad-4894-9510-729963422a4c\",\"type\":\"WheelZoomTool\"},{\"attributes\":{\"overlay\":{\"id\":\"5e9475fc-a8b9-41e4-9e3f-4ee981431c51\",\"type\":\"BoxAnnotation\"},\"plot\":{\"id\":\"5161cdcb-7383-4fa6-8d49-63fb01b91db1\",\"subtype\":\"Chart\",\"type\":\"Plot\"}},\"id\":\"66d9e099-69b2-41bc-9113-75b2da7e5225\",\"type\":\"BoxZoomTool\"},{\"attributes\":{\"fill_alpha\":{\"value\":0.7},\"fill_color\":{\"value\":\"#f22c40\"},\"line_color\":{\"value\":\"#f22c40\"},\"size\":{\"units\":\"screen\",\"value\":8},\"x\":{\"field\":\"x_values\"},\"y\":{\"field\":\"y_values\"}},\"id\":\"8af36548-5dcc-408f-9bdb-8a0dea2b8aef\",\"type\":\"Circle\"},{\"attributes\":{},\"id\":\"7508916d-fa99-44a5-b5d6-825c8b575bae\",\"type\":\"BasicTicker\"},{\"attributes\":{},\"id\":\"bd129a1b-6553-4def-854c-8b6fe4d5f11f\",\"type\":\"BasicTicker\"},{\"attributes\":{\"bottom_units\":\"screen\",\"fill_alpha\":{\"value\":0.5},\"fill_color\":{\"value\":\"lightgrey\"},\"left_units\":\"screen\",\"level\":\"overlay\",\"line_alpha\":{\"value\":1.0},\"line_color\":{\"value\":\"black\"},\"line_dash\":[4,4],\"line_width\":{\"value\":2},\"plot\":null,\"render_mode\":\"css\",\"right_units\":\"screen\",\"top_units\":\"screen\"},\"id\":\"b9d46a7d-bcd2-42a3-a35a-30e938be6efd\",\"type\":\"BoxAnnotation\"},{\"attributes\":{\"axis_label\":\"first\",\"formatter\":{\"id\":\"10981c83-9180-420c-b1be-73f398991f6e\",\"type\":\"BasicTickFormatter\"},\"plot\":{\"id\":\"93b21b2a-ed84-4d81-9234-1985071822b7\",\"subtype\":\"Chart\",\"type\":\"Plot\"},\"ticker\":{\"id\":\"40f97950-6a9b-4e18-b4ee-2baa6a13aec2\",\"type\":\"BasicTicker\"}},\"id\":\"f03fb97e-cc62-4b1c-aaff-6d294ac11846\",\"type\":\"LinearAxis\"},{\"attributes\":{\"plot\":{\"id\":\"93b21b2a-ed84-4d81-9234-1985071822b7\",\"subtype\":\"Chart\",\"type\":\"Plot\"}},\"id\":\"66e2a1bd-be2e-4270-a4a4-abaf4e3da3b0\",\"type\":\"PanTool\"},{\"attributes\":{\"overlay\":{\"id\":\"b9d46a7d-bcd2-42a3-a35a-30e938be6efd\",\"type\":\"BoxAnnotation\"},\"plot\":{\"id\":\"93b21b2a-ed84-4d81-9234-1985071822b7\",\"subtype\":\"Chart\",\"type\":\"Plot\"}},\"id\":\"3899232c-dc1e-44a1-bea0-66c55b7aafdd\",\"type\":\"BoxZoomTool\"},{\"attributes\":{},\"id\":\"10981c83-9180-420c-b1be-73f398991f6e\",\"type\":\"BasicTickFormatter\"},{\"attributes\":{\"callback\":null,\"column_names\":[\"y_values\",\"x_values\"],\"data\":{\"chart_index\":[null,null,null,null,null,null,null,null,null,null,null,null,null,null,null,null,null,null,null,null,null,null,null,null,null,null,null,null,null,null,null,null,null,null,null,null,null,null,null,null,null,null,null,null,null,null,null,null,null,null,null,null,null,null,null,null,null,null,null,null,null,null,null,null,null,null,null,null,null,null,null,null,null,null,null,null,null,null,null,null,null,null,null,null,null,null,null,null,null,null,null,null,null,null,null,null,null,null,null,null],\"x_values\":[-0.8452984383650131,-1.0525250068074694,0.05239941911753972,-0.19665110276073192,-0.7305628966541181,-0.01235158732253153,0.27708989833734665,-1.418209070613489,0.7070701868739716,-0.11007606343270118,-0.9883491984241037,0.9611956279055874,-0.4257984553650474,0.27125328656988246,-1.6444672147261106,-0.421674363142892,0.9596991762085402,1.2409981641728307,-0.5254242293845264,0.31898682408287393,0.8518179777576912,0.5486782317870866,0.4662028451717198,0.4532838085873694,-0.1333819484013167,1.0197483321089067,-1.6985788958943022,0.3117811617456749,0.9113449738776759,-1.2127650664202412,-0.9576658213352465,-1.3382178516846897,2.059462316851765,0.6006881091373542,-2.3759395715997025,0.04066037805399861,-1.0873623483974495,-0.05359690960051117,0.6575706110430156,-0.6518903998887882,0.0401107826763601,-2.213437205615491,0.609135006941561,1.652977766443476,0.754342623786052,-0.9961186444810496,-0.5376537254508877,1.7992913357316418,1.019956373509242,0.7030052786475285,-0.2235078583373135,2.139471506837215,-0.17165798962995055,0.0690054870805855,0.7313587664220482,0.24681580249160812,-0.3677137270628124,-1.6789829120536521,-0.2774965826296388,-0.5984834843705773,-0.1459464951366425,1.1899189893885012,1.62167845643179,0.7375861227252426,1.1266402685660248,1.6460283732234198,-0.5945783855361163,1.391691291689152,-0.4017420810975201,-1.2203992915873987,0.7396534796140284,-0.1561937969896018,-0.2263141656136258,0.19419651804081306,-1.0546580977383253,-0.3152771394204077,0.1696871684429622,2.2395916383346304,-1.6405838827334207,0.6110166096327113,-0.14023530263133346,-0.22869486768206995,1.5211082776189337,-0.4671772615050261,0.1056879904876184,-1.1828791115972035,0.6039514732402936,-2.580313845853141,-0.1688042574479511,0.6665320354956389,-1.3788318651145384,-0.7481939996569426,-1.2598946372688695,0.3484527365857202,0.7337698965741885,-0.6245807397998407,1.1425976768958261,0.27743657981722136,-0.5584369183906195,0.4969470698900908],\"y_values\":[0.3358918268149543,0.2465384858846571,-0.3423354343106214,-0.9217920182446374,1.045612430356227,-1.6116074628481725,0.7658340612483518,0.05187734468145674,0.4584689481661989,-0.29921947247765535,0.1344709139412709,1.4451663509161912,1.9262740018152436,1.6150435932391243,-1.2629850048268307,0.5178589149729613,0.08564128983491702,-0.18576102822284785,0.2239064362542667,-0.8406888586721324,-1.3267085320245076,1.082826726637266,-1.8859519135422929,-0.08353152197905467,-1.4960477522359676,-1.4770149145621645,2.6113810318213098,0.053251527913413636,0.34709811980869415,-0.37062428114613577,-1.1236107554745018,-0.30410090680056917,0.3483500944267215,-1.0875395273384767,-0.5292998785478277,-0.9522624461773274,0.21488891150981818,1.0710220620979722,-0.24909185371529977,0.14764940660052356,-0.5270542608543237,0.15638930410489296,0.08313462725501897,-0.09324415526730145,0.8352713041608326,-1.4187015605695044,-0.33200671832080736,0.41222567065513993,0.34681521361601564,-0.27022743756755,-2.150808883958665,-0.013467516429326885,1.4373380747478932,0.29052857832580353,0.5626824412943799,-3.0368423498331696,0.7969283177977166,-0.2638763701377268,1.2264056795615685,-0.9038476051539376,0.11766944822281022,0.9494340734782841,-0.603506327609109,1.794980075915287,1.7849543881977867,0.5651801152196788,0.804517454145054,0.5008565688246494,0.5164257526496422,0.051786286928845904,-0.8771351280291373,-0.22065360064045253,0.528240073324243,-0.38936011989658553,-1.8270918303209955,-0.44571090826395565,0.6682161878549816,-0.10782843790835077,1.493391857317207,-1.94665676088769,0.9456422677001134,-0.15185904289125482,0.7293978722845222,0.7080870425295271,1.5442116528096719,-0.15360202313643306,-1.009199036964758,0.14833683480557397,-0.2169963658888073,-0.06891525003061759,0.4274854513323986,-0.23705289679528588,-0.9690005808210453,-0.6842610079559726,-0.23053394010547423,-0.22842419861531707,1.087149078234596,-2.439639512527323,1.5116623833355165,0.41328083495669377]}},\"id\":\"b00108af-80a1-4cd7-afc4-2c5a0271e793\",\"type\":\"ColumnDataSource\"},{\"attributes\":{},\"id\":\"40f97950-6a9b-4e18-b4ee-2baa6a13aec2\",\"type\":\"BasicTicker\"},{\"attributes\":{\"plot\":null,\"text\":null},\"id\":\"2a84958e-ede8-481b-8828-5ae8cf95c1d3\",\"type\":\"Title\"},{\"attributes\":{\"dimension\":1,\"plot\":{\"id\":\"5161cdcb-7383-4fa6-8d49-63fb01b91db1\",\"subtype\":\"Chart\",\"type\":\"Plot\"},\"ticker\":{\"id\":\"bd129a1b-6553-4def-854c-8b6fe4d5f11f\",\"type\":\"BasicTicker\"}},\"id\":\"0b776683-f528-4ee8-be2d-faf66fb65f77\",\"type\":\"Grid\"},{\"attributes\":{\"fill_alpha\":{\"value\":0.7},\"fill_color\":{\"value\":\"#f22c40\"},\"line_color\":{\"value\":\"#f22c40\"},\"size\":{\"units\":\"screen\",\"value\":8},\"x\":{\"field\":\"x_values\"},\"y\":{\"field\":\"y_values\"}},\"id\":\"06491088-813a-45ff-a9ef-1a46cd57cb11\",\"type\":\"Circle\"},{\"attributes\":{\"plot\":{\"id\":\"97e65443-fb25-4de8-b38e-aa876e21b92d\",\"subtype\":\"Chart\",\"type\":\"Plot\"}},\"id\":\"c526ce04-ac76-478b-8e62-98bcaf4c91ff\",\"type\":\"PanTool\"},{\"attributes\":{\"location\":\"top_left\",\"plot\":{\"id\":\"5161cdcb-7383-4fa6-8d49-63fb01b91db1\",\"subtype\":\"Chart\",\"type\":\"Plot\"}},\"id\":\"da995ef8-3f42-4609-8d3d-0163452f37b2\",\"type\":\"Legend\"},{\"attributes\":{\"plot\":null,\"text\":null},\"id\":\"643c26c0-5819-47d2-ab98-a2d7bb556d95\",\"type\":\"Title\"},{\"attributes\":{\"plot\":{\"id\":\"93b21b2a-ed84-4d81-9234-1985071822b7\",\"subtype\":\"Chart\",\"type\":\"Plot\"}},\"id\":\"5a3858b0-6c85-4b5b-bfd6-0061c5896535\",\"type\":\"ResetTool\"},{\"attributes\":{\"plot\":{\"id\":\"5161cdcb-7383-4fa6-8d49-63fb01b91db1\",\"subtype\":\"Chart\",\"type\":\"Plot\"}},\"id\":\"ea6273fe-457e-433d-a763-d92846388f39\",\"type\":\"PanTool\"},{\"attributes\":{\"active_drag\":\"auto\",\"active_scroll\":\"auto\",\"active_tap\":\"auto\",\"tools\":[{\"id\":\"ea6273fe-457e-433d-a763-d92846388f39\",\"type\":\"PanTool\"},{\"id\":\"6db5181c-362b-4f59-b579-cf19c1ea02ae\",\"type\":\"WheelZoomTool\"},{\"id\":\"66d9e099-69b2-41bc-9113-75b2da7e5225\",\"type\":\"BoxZoomTool\"},{\"id\":\"f2dbc0e1-7323-4d4e-abd1-581ebc743a63\",\"type\":\"SaveTool\"},{\"id\":\"5c1bd8c3-cc11-4d29-8b0b-5e34ba673ecf\",\"type\":\"ResetTool\"},{\"id\":\"9c556297-2a30-4720-83fe-9e1f6fc80bb9\",\"type\":\"HelpTool\"}]},\"id\":\"a5bb3635-e110-469e-9e92-180ca74daa19\",\"type\":\"Toolbar\"},{\"attributes\":{\"plot\":{\"id\":\"93b21b2a-ed84-4d81-9234-1985071822b7\",\"subtype\":\"Chart\",\"type\":\"Plot\"}},\"id\":\"63445b27-eff7-4467-bffa-1e2ca0f3a003\",\"type\":\"SaveTool\"},{\"attributes\":{\"plot\":{\"id\":\"97e65443-fb25-4de8-b38e-aa876e21b92d\",\"subtype\":\"Chart\",\"type\":\"Plot\"}},\"id\":\"1b2d165a-b9dd-436b-9fd9-0245c466b10f\",\"type\":\"HelpTool\"},{\"attributes\":{\"location\":\"top_left\",\"plot\":{\"id\":\"93b21b2a-ed84-4d81-9234-1985071822b7\",\"subtype\":\"Chart\",\"type\":\"Plot\"}},\"id\":\"bdd98a3d-4753-4452-9346-2a2b25519bd9\",\"type\":\"Legend\"},{\"attributes\":{\"children\":[{\"id\":\"97e65443-fb25-4de8-b38e-aa876e21b92d\",\"subtype\":\"Chart\",\"type\":\"Plot\"},{\"id\":\"5161cdcb-7383-4fa6-8d49-63fb01b91db1\",\"subtype\":\"Chart\",\"type\":\"Plot\"},{\"id\":\"93b21b2a-ed84-4d81-9234-1985071822b7\",\"subtype\":\"Chart\",\"type\":\"Plot\"}]},\"id\":\"882ba545-c4b3-47f3-a492-2f498822f221\",\"type\":\"Column\"},{\"attributes\":{\"axis_label\":\"first\",\"formatter\":{\"id\":\"f4682a9d-e6fe-449d-a523-abd9ed6139fb\",\"type\":\"BasicTickFormatter\"},\"plot\":{\"id\":\"97e65443-fb25-4de8-b38e-aa876e21b92d\",\"subtype\":\"Chart\",\"type\":\"Plot\"},\"ticker\":{\"id\":\"e1952957-9d1f-43a1-b570-6f7d127e22b5\",\"type\":\"BasicTicker\"}},\"id\":\"9f558944-52cc-4939-bd34-8326bc2f2860\",\"type\":\"LinearAxis\"},{\"attributes\":{\"plot\":{\"id\":\"5161cdcb-7383-4fa6-8d49-63fb01b91db1\",\"subtype\":\"Chart\",\"type\":\"Plot\"}},\"id\":\"5c1bd8c3-cc11-4d29-8b0b-5e34ba673ecf\",\"type\":\"ResetTool\"},{\"attributes\":{\"callback\":null,\"end\":10,\"start\":-10},\"id\":\"2cc2c778-3605-4faa-bcd4-51c6f888a499\",\"type\":\"Range1d\"},{\"attributes\":{\"active_drag\":\"auto\",\"active_scroll\":\"auto\",\"active_tap\":\"auto\",\"tools\":[{\"id\":\"c526ce04-ac76-478b-8e62-98bcaf4c91ff\",\"type\":\"PanTool\"},{\"id\":\"7a780631-90e5-468e-a42d-eeeb1489ec55\",\"type\":\"WheelZoomTool\"},{\"id\":\"9dddef6b-0419-445b-a68a-ba308af1c6c2\",\"type\":\"BoxZoomTool\"},{\"id\":\"b1e29543-b32b-4ed7-91e3-c95329ca1adb\",\"type\":\"SaveTool\"},{\"id\":\"0b4970e7-c481-4638-9ac6-f8948a086962\",\"type\":\"ResetTool\"},{\"id\":\"1b2d165a-b9dd-436b-9fd9-0245c466b10f\",\"type\":\"HelpTool\"}]},\"id\":\"c8b9b527-0758-41ac-b5f6-fc7d2781d2bd\",\"type\":\"Toolbar\"},{\"attributes\":{\"plot\":{\"id\":\"97e65443-fb25-4de8-b38e-aa876e21b92d\",\"subtype\":\"Chart\",\"type\":\"Plot\"},\"ticker\":{\"id\":\"e1952957-9d1f-43a1-b570-6f7d127e22b5\",\"type\":\"BasicTicker\"}},\"id\":\"9daaa11d-57f0-4392-b878-8747579f6473\",\"type\":\"Grid\"}],\"root_ids\":[\"882ba545-c4b3-47f3-a492-2f498822f221\"]},\"title\":\"Bokeh Application\",\"version\":\"0.12.3\"}};\n",
       "            var render_items = [{\"docid\":\"edca9da7-ab4c-4c7f-92a9-093b8d0dd9ee\",\"elementid\":\"4e3967b0-ff0d-4470-aac9-467c92847aae\",\"modelid\":\"882ba545-c4b3-47f3-a492-2f498822f221\"}];\n",
       "            \n",
       "            Bokeh.embed.embed_items(docs_json, render_items);\n",
       "        });\n",
       "      },\n",
       "      function(Bokeh) {\n",
       "      }\n",
       "    ];\n",
       "  \n",
       "    function run_inline_js() {\n",
       "      \n",
       "      if ((window.Bokeh !== undefined) || (force === \"1\")) {\n",
       "        for (var i = 0; i < inline_js.length; i++) {\n",
       "          inline_js[i](window.Bokeh);\n",
       "        }if (force === \"1\") {\n",
       "          display_loaded();\n",
       "        }} else if (Date.now() < window._bokeh_timeout) {\n",
       "        setTimeout(run_inline_js, 100);\n",
       "      } else if (!window._bokeh_failed_load) {\n",
       "        console.log(\"Bokeh: BokehJS failed to load within specified timeout.\");\n",
       "        window._bokeh_failed_load = true;\n",
       "      } else if (!force) {\n",
       "        var cell = $(\"#4e3967b0-ff0d-4470-aac9-467c92847aae\").parents('.cell').data().cell;\n",
       "        cell.output_area.append_execute_result(NB_LOAD_WARNING)\n",
       "      }\n",
       "  \n",
       "    }\n",
       "  \n",
       "    if (window._bokeh_is_loading === 0) {\n",
       "      console.log(\"Bokeh: BokehJS loaded, going straight to plotting\");\n",
       "      run_inline_js();\n",
       "    } else {\n",
       "      load_libs(js_urls, function() {\n",
       "        console.log(\"Bokeh: BokehJS plotting callback run at\", now());\n",
       "        run_inline_js();\n",
       "      });\n",
       "    }\n",
       "  }(this));\n",
       "</script>"
      ]
     },
     "metadata": {},
     "output_type": "display_data"
    }
   ],
   "source": [
    "from sklearn.preprocessing import StandardScaler\n",
    "from bokeh.charts import Scatter\n",
    "from bokeh.layouts import column\n",
    "from bokeh.models import Range1d\n",
    "\n",
    "range_ = Range1d(-10, 10)\n",
    "\n",
    "from sklearn.datasets import make_blobs\n",
    "dims, labels = make_blobs(n_samples=100, n_features=2, centers=1, cluster_std=3, center_box=(2, 2), shuffle=True)\n",
    "\n",
    "df_1 = pd.DataFrame.from_records(dims, columns=[\"first\", \"second\"])\n",
    "dims_scaler_1 = StandardScaler(copy=True, with_mean=True, with_std=False)\n",
    "\n",
    "dims2 = dims_scaler_1.fit(dims).transform(dims)\n",
    "df_2 = pd.DataFrame.from_records(dims2, columns=[\"first\", \"second\"])\n",
    "dims_scaler_2 = StandardScaler(copy=True, with_mean=True, with_std=True)\n",
    "df_3 = pd.DataFrame.from_records(dims_scaler_2.fit(dims).transform(dims), columns=[\"first\", \"second\"])\n",
    "s1 = Scatter(df_1, x=\"first\", y=\"second\")\n",
    "s1.y_range = range_\n",
    "s1.x_range = range_\n",
    "s2 = Scatter(df_2, x=\"first\", y=\"second\")\n",
    "s2.y_range = range_\n",
    "s2.x_range = range_\n",
    "s3 = Scatter(df_3, x=\"first\", y=\"second\")\n",
    "s3.y_range = range_\n",
    "s3.x_range = range_\n",
    "show(column(s1, s2, s3))\n"
   ]
  },
  {
   "cell_type": "markdown",
   "metadata": {},
   "source": [
    "## Iris"
   ]
  },
  {
   "cell_type": "code",
   "execution_count": 17,
   "metadata": {
    "collapsed": false
   },
   "outputs": [
    {
     "data": {
      "text/plain": [
       "0.31578947368421051"
      ]
     },
     "execution_count": 17,
     "metadata": {},
     "output_type": "execute_result"
    }
   ],
   "source": [
    "from sklearn import datasets\n",
    "iris = datasets.load_iris()\n",
    "\n",
    "scaler = StandardScaler()\n",
    "scaler = scaler.fit(iris.data)\n",
    "iris.data = scaler.transform(iris.data)\n",
    "\n",
    "from sklearn.model_selection import train_test_split\n",
    "from sklearn.dummy import DummyClassifier\n",
    "\n",
    "X_train, X_test, Y_train, Y_test = train_test_split(iris.data, iris.target)\n",
    "clf = DummyClassifier()\n",
    "clf.fit(X_train, Y_train)\n",
    "clf.score(X_test,Y_test)\n"
   ]
  },
  {
   "cell_type": "code",
   "execution_count": 18,
   "metadata": {
    "collapsed": false
   },
   "outputs": [
    {
     "data": {
      "text/plain": [
       "0.97368421052631582"
      ]
     },
     "execution_count": 18,
     "metadata": {},
     "output_type": "execute_result"
    }
   ],
   "source": [
    "from sklearn.svm import LinearSVC\n",
    "X_train, X_test, Y_train, Y_test = train_test_split(iris.data, iris.target)\n",
    "clf = LinearSVC()\n",
    "clf.fit(X_train, Y_train)\n",
    "clf.score(X_test,Y_test)"
   ]
  },
  {
   "cell_type": "code",
   "execution_count": 19,
   "metadata": {
    "collapsed": false
   },
   "outputs": [
    {
     "data": {
      "text/plain": [
       "0.92105263157894735"
      ]
     },
     "execution_count": 19,
     "metadata": {},
     "output_type": "execute_result"
    }
   ],
   "source": [
    "from sklearn.svm import SVC\n",
    "X_train, X_test, Y_train, Y_test = train_test_split(iris.data, iris.target)\n",
    "clf = SVC()\n",
    "clf.fit(X_train, Y_train)\n",
    "clf.score(X_test,Y_test)"
   ]
  },
  {
   "cell_type": "markdown",
   "metadata": {},
   "source": [
    "### CROSS-VALIDATION\n"
   ]
  },
  {
   "cell_type": "code",
   "execution_count": 29,
   "metadata": {
    "collapsed": false
   },
   "outputs": [],
   "source": [
    "from sklearn.model_selection import cross_val_score\n",
    "from sklearn.svm import SVC\n",
    "\n",
    "from sklearn.neighbors import KNeighborsClassifier\n",
    "iris = datasets.load_iris()\n",
    "\n",
    "clf1 = SVC()\n",
    "clf2 = KNeighborsClassifier()\n",
    "\n",
    "score1 = cross_val_score(clf1, iris.data, iris.target, cv=3)\n",
    "score2 = cross_val_score(clf2, iris.data, iris.target, cv=3)\n"
   ]
  },
  {
   "cell_type": "code",
   "execution_count": 27,
   "metadata": {
    "collapsed": false
   },
   "outputs": [
    {
     "name": "stdout",
     "output_type": "stream",
     "text": [
      "[ 0.96        0.93333333]\n",
      "[ 0.96  0.92]\n"
     ]
    }
   ],
   "source": [
    "print(score1)\n",
    "print(score2)"
   ]
  },
  {
   "cell_type": "markdown",
   "metadata": {},
   "source": [
    "## Cancer data"
   ]
  },
  {
   "cell_type": "code",
   "execution_count": 99,
   "metadata": {
    "collapsed": false
   },
   "outputs": [
    {
     "data": {
      "text/plain": [
       "0.49650349650349651"
      ]
     },
     "execution_count": 99,
     "metadata": {},
     "output_type": "execute_result"
    }
   ],
   "source": [
    "from sklearn.datasets import load_breast_cancer\n",
    "cancer = load_breast_cancer()\n",
    "X_train, X_test, Y_train, Y_test = train_test_split(cancer.data, cancer.target)\n",
    "clf = DummyClassifier()\n",
    "clf.fit(X_train, Y_train)\n",
    "clf.score(X_test,Y_test)"
   ]
  },
  {
   "cell_type": "code",
   "execution_count": 103,
   "metadata": {
    "collapsed": false
   },
   "outputs": [
    {
     "data": {
      "text/plain": [
       "0.90909090909090906"
      ]
     },
     "execution_count": 103,
     "metadata": {},
     "output_type": "execute_result"
    }
   ],
   "source": [
    "#example\n",
    "X_train, X_test, Y_train, Y_test = train_test_split(cancer.data, cancer.target)\n",
    "clf = LinearSVC(class_weight={1: 10, 0:1})\n",
    "clf.fit(X_train, Y_train)\n",
    "clf.score(X_test,Y_test)\n"
   ]
  },
  {
   "cell_type": "markdown",
   "metadata": {
    "collapsed": false
   },
   "source": [
    "# 20 NEWSGROUPS"
   ]
  },
  {
   "cell_type": "code",
   "execution_count": 7,
   "metadata": {
    "collapsed": false
   },
   "outputs": [],
   "source": [
    "from sklearn.datasets import fetch_20newsgroups\n",
    "from sklearn.feature_extraction.text import TfidfVectorizer\n",
    "#cats = ['alt.atheism', 'sci.space']\n",
    "newsgroups_train = fetch_20newsgroups(subset='train')#, categories=cats)\n",
    "newsgroups_test = fetch_20newsgroups(subset='test')#, categories=cats)\n",
    "vectorizer = TfidfVectorizer()\n"
   ]
  },
  {
   "cell_type": "code",
   "execution_count": 2,
   "metadata": {
    "collapsed": false
   },
   "outputs": [
    {
     "data": {
      "text/plain": [
       "'From: bil@okcforum.osrhe.edu (Bill Conner)\\nSubject: Re: Not the Omni!\\nNntp-Posting-Host: okcforum.osrhe.edu\\nOrganization: Okcforum Unix Users Group\\nX-Newsreader: TIN [version 1.1 PL6]\\nLines: 18\\n\\nCharley Wingate (mangoe@cs.umd.edu) wrote:\\n: \\n: >> Please enlighten me.  How is omnipotence contradictory?\\n: \\n: >By definition, all that can occur in the universe is governed by the rules\\n: >of nature. Thus god cannot break them. Anything that god does must be allowed\\n: >in the rules somewhere. Therefore, omnipotence CANNOT exist! It contradicts\\n: >the rules of nature.\\n: \\n: Obviously, an omnipotent god can change the rules.\\n\\nWhen you say, \"By definition\", what exactly is being defined;\\ncertainly not omnipotence. You seem to be saying that the \"rules of\\nnature\" are pre-existant somehow, that they not only define nature but\\nactually cause it. If that\\'s what you mean I\\'d like to hear your\\nfurther thoughts on the question.\\n\\nBill\\n'"
      ]
     },
     "execution_count": 2,
     "metadata": {},
     "output_type": "execute_result"
    }
   ],
   "source": [
    "newsgroups_train.data[0]"
   ]
  },
  {
   "cell_type": "code",
   "execution_count": 8,
   "metadata": {
    "collapsed": false
   },
   "outputs": [
    {
     "data": {
      "text/plain": [
       "0.83523632501327671"
      ]
     },
     "execution_count": 8,
     "metadata": {},
     "output_type": "execute_result"
    }
   ],
   "source": [
    "vectorized = vectorizer.fit_transform(newsgroups_train.data)\n",
    "from sklearn.naive_bayes import MultinomialNB\n",
    "classifier = MultinomialNB(alpha=0.01)\n",
    "classifier.fit(vectorized, newsgroups_train.target)\n",
    "predicted = classifier.predict(vectorizer.transform(newsgroups_test.data))\n",
    "#from sklearn import metrics\n",
    "#metrics.\n",
    "classifier.score(vectorizer.transform(newsgroups_test.data), newsgroups_test.target)"
   ]
  },
  {
   "cell_type": "code",
   "execution_count": null,
   "metadata": {
    "collapsed": true
   },
   "outputs": [],
   "source": []
  }
 ],
 "metadata": {
  "kernelspec": {
   "display_name": "Python 3",
   "language": "python",
   "name": "python3"
  },
  "language_info": {
   "codemirror_mode": {
    "name": "ipython",
    "version": 3
   },
   "file_extension": ".py",
   "mimetype": "text/x-python",
   "name": "python",
   "nbconvert_exporter": "python",
   "pygments_lexer": "ipython3",
   "version": "3.5.2"
  }
 },
 "nbformat": 4,
 "nbformat_minor": 1
}
