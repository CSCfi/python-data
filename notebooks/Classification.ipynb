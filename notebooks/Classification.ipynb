{
 "cells": [
  {
   "cell_type": "markdown",
   "metadata": {
    "collapsed": true
   },
   "source": [
    "# Classification using Scikit-Learn\n",
    "\n",
    "Currently your mileage may vary as to whether or not this will run on the docker data science container in pb.csc.fi.\n",
    "\n",
    "If you want to run it locally you should install the latest version of scikit-learn, bokeh and numpy."
   ]
  },
  {
   "cell_type": "code",
   "execution_count": 4,
   "metadata": {
    "collapsed": true
   },
   "outputs": [],
   "source": [
    "import numpy as np\n",
    "\n",
    "from bokeh.plotting import figure, show, save\n",
    "\n",
    "from bokeh.io import output_notebook, output_file\n",
    "import pandas as pd"
   ]
  },
  {
   "cell_type": "code",
   "execution_count": 3,
   "metadata": {
    "collapsed": false
   },
   "outputs": [
    {
     "data": {
      "text/html": [
       "\n",
       "    <div class=\"bk-root\">\n",
       "        <a href=\"http://bokeh.pydata.org\" target=\"_blank\" class=\"bk-logo bk-logo-small bk-logo-notebook\"></a>\n",
       "        <span id=\"1025ef8e-585f-4c43-9ad7-504bfdc7bf35\">Loading BokehJS ...</span>\n",
       "    </div>"
      ]
     },
     "metadata": {},
     "output_type": "display_data"
    },
    {
     "data": {
      "application/javascript": [
       "\n",
       "(function(global) {\n",
       "  function now() {\n",
       "    return new Date();\n",
       "  }\n",
       "\n",
       "  var force = \"1\";\n",
       "\n",
       "  if (typeof (window._bokeh_onload_callbacks) === \"undefined\" || force !== \"\") {\n",
       "    window._bokeh_onload_callbacks = [];\n",
       "    window._bokeh_is_loading = undefined;\n",
       "  }\n",
       "\n",
       "\n",
       "  \n",
       "  if (typeof (window._bokeh_timeout) === \"undefined\" || force !== \"\") {\n",
       "    window._bokeh_timeout = Date.now() + 5000;\n",
       "    window._bokeh_failed_load = false;\n",
       "  }\n",
       "\n",
       "  var NB_LOAD_WARNING = {'data': {'text/html':\n",
       "     \"<div style='background-color: #fdd'>\\n\"+\n",
       "     \"<p>\\n\"+\n",
       "     \"BokehJS does not appear to have successfully loaded. If loading BokehJS from CDN, this \\n\"+\n",
       "     \"may be due to a slow or bad network connection. Possible fixes:\\n\"+\n",
       "     \"</p>\\n\"+\n",
       "     \"<ul>\\n\"+\n",
       "     \"<li>re-rerun `output_notebook()` to attempt to load from CDN again, or</li>\\n\"+\n",
       "     \"<li>use INLINE resources instead, as so:</li>\\n\"+\n",
       "     \"</ul>\\n\"+\n",
       "     \"<code>\\n\"+\n",
       "     \"from bokeh.resources import INLINE\\n\"+\n",
       "     \"output_notebook(resources=INLINE)\\n\"+\n",
       "     \"</code>\\n\"+\n",
       "     \"</div>\"}};\n",
       "\n",
       "  function display_loaded() {\n",
       "    if (window.Bokeh !== undefined) {\n",
       "      Bokeh.$(\"#1025ef8e-585f-4c43-9ad7-504bfdc7bf35\").text(\"BokehJS successfully loaded.\");\n",
       "    } else if (Date.now() < window._bokeh_timeout) {\n",
       "      setTimeout(display_loaded, 100)\n",
       "    }\n",
       "  }\n",
       "\n",
       "  function run_callbacks() {\n",
       "    window._bokeh_onload_callbacks.forEach(function(callback) { callback() });\n",
       "    delete window._bokeh_onload_callbacks\n",
       "    console.info(\"Bokeh: all callbacks have finished\");\n",
       "  }\n",
       "\n",
       "  function load_libs(js_urls, callback) {\n",
       "    window._bokeh_onload_callbacks.push(callback);\n",
       "    if (window._bokeh_is_loading > 0) {\n",
       "      console.log(\"Bokeh: BokehJS is being loaded, scheduling callback at\", now());\n",
       "      return null;\n",
       "    }\n",
       "    if (js_urls == null || js_urls.length === 0) {\n",
       "      run_callbacks();\n",
       "      return null;\n",
       "    }\n",
       "    console.log(\"Bokeh: BokehJS not loaded, scheduling load and callback at\", now());\n",
       "    window._bokeh_is_loading = js_urls.length;\n",
       "    for (var i = 0; i < js_urls.length; i++) {\n",
       "      var url = js_urls[i];\n",
       "      var s = document.createElement('script');\n",
       "      s.src = url;\n",
       "      s.async = false;\n",
       "      s.onreadystatechange = s.onload = function() {\n",
       "        window._bokeh_is_loading--;\n",
       "        if (window._bokeh_is_loading === 0) {\n",
       "          console.log(\"Bokeh: all BokehJS libraries loaded\");\n",
       "          run_callbacks()\n",
       "        }\n",
       "      };\n",
       "      s.onerror = function() {\n",
       "        console.warn(\"failed to load library \" + url);\n",
       "      };\n",
       "      console.log(\"Bokeh: injecting script tag for BokehJS library: \", url);\n",
       "      document.getElementsByTagName(\"head\")[0].appendChild(s);\n",
       "    }\n",
       "  };var element = document.getElementById(\"1025ef8e-585f-4c43-9ad7-504bfdc7bf35\");\n",
       "  if (element == null) {\n",
       "    console.log(\"Bokeh: ERROR: autoload.js configured with elementid '1025ef8e-585f-4c43-9ad7-504bfdc7bf35' but no matching script tag was found. \")\n",
       "    return false;\n",
       "  }\n",
       "\n",
       "  var js_urls = ['https://cdn.pydata.org/bokeh/release/bokeh-0.12.3.min.js', 'https://cdn.pydata.org/bokeh/release/bokeh-widgets-0.12.3.min.js'];\n",
       "\n",
       "  var inline_js = [\n",
       "    function(Bokeh) {\n",
       "      Bokeh.set_log_level(\"info\");\n",
       "    },\n",
       "    \n",
       "    function(Bokeh) {\n",
       "      \n",
       "      Bokeh.$(\"#1025ef8e-585f-4c43-9ad7-504bfdc7bf35\").text(\"BokehJS is loading...\");\n",
       "    },\n",
       "    function(Bokeh) {\n",
       "      console.log(\"Bokeh: injecting CSS: https://cdn.pydata.org/bokeh/release/bokeh-0.12.3.min.css\");\n",
       "      Bokeh.embed.inject_css(\"https://cdn.pydata.org/bokeh/release/bokeh-0.12.3.min.css\");\n",
       "      console.log(\"Bokeh: injecting CSS: https://cdn.pydata.org/bokeh/release/bokeh-widgets-0.12.3.min.css\");\n",
       "      Bokeh.embed.inject_css(\"https://cdn.pydata.org/bokeh/release/bokeh-widgets-0.12.3.min.css\");\n",
       "    }\n",
       "  ];\n",
       "\n",
       "  function run_inline_js() {\n",
       "    \n",
       "    if ((window.Bokeh !== undefined) || (force === \"1\")) {\n",
       "      for (var i = 0; i < inline_js.length; i++) {\n",
       "        inline_js[i](window.Bokeh);\n",
       "      }if (force === \"1\") {\n",
       "        display_loaded();\n",
       "      }} else if (Date.now() < window._bokeh_timeout) {\n",
       "      setTimeout(run_inline_js, 100);\n",
       "    } else if (!window._bokeh_failed_load) {\n",
       "      console.log(\"Bokeh: BokehJS failed to load within specified timeout.\");\n",
       "      window._bokeh_failed_load = true;\n",
       "    } else if (!force) {\n",
       "      var cell = $(\"#1025ef8e-585f-4c43-9ad7-504bfdc7bf35\").parents('.cell').data().cell;\n",
       "      cell.output_area.append_execute_result(NB_LOAD_WARNING)\n",
       "    }\n",
       "\n",
       "  }\n",
       "\n",
       "  if (window._bokeh_is_loading === 0) {\n",
       "    console.log(\"Bokeh: BokehJS loaded, going straight to plotting\");\n",
       "    run_inline_js();\n",
       "  } else {\n",
       "    load_libs(js_urls, function() {\n",
       "      console.log(\"Bokeh: BokehJS plotting callback run at\", now());\n",
       "      run_inline_js();\n",
       "    });\n",
       "  }\n",
       "}(this));"
      ]
     },
     "metadata": {},
     "output_type": "display_data"
    }
   ],
   "source": [
    "output_notebook()"
   ]
  },
  {
   "cell_type": "code",
   "execution_count": 4,
   "metadata": {
    "collapsed": false
   },
   "outputs": [
    {
     "data": {
      "text/html": [
       "\n",
       "\n",
       "    <div class=\"bk-root\">\n",
       "        <div class=\"plotdiv\" id=\"08f43265-4cac-483c-b3d2-9b2f0219b242\"></div>\n",
       "    </div>\n",
       "<script type=\"text/javascript\">\n",
       "  \n",
       "  (function(global) {\n",
       "    function now() {\n",
       "      return new Date();\n",
       "    }\n",
       "  \n",
       "    var force = \"\";\n",
       "  \n",
       "    if (typeof (window._bokeh_onload_callbacks) === \"undefined\" || force !== \"\") {\n",
       "      window._bokeh_onload_callbacks = [];\n",
       "      window._bokeh_is_loading = undefined;\n",
       "    }\n",
       "  \n",
       "  \n",
       "    \n",
       "    if (typeof (window._bokeh_timeout) === \"undefined\" || force !== \"\") {\n",
       "      window._bokeh_timeout = Date.now() + 0;\n",
       "      window._bokeh_failed_load = false;\n",
       "    }\n",
       "  \n",
       "    var NB_LOAD_WARNING = {'data': {'text/html':\n",
       "       \"<div style='background-color: #fdd'>\\n\"+\n",
       "       \"<p>\\n\"+\n",
       "       \"BokehJS does not appear to have successfully loaded. If loading BokehJS from CDN, this \\n\"+\n",
       "       \"may be due to a slow or bad network connection. Possible fixes:\\n\"+\n",
       "       \"</p>\\n\"+\n",
       "       \"<ul>\\n\"+\n",
       "       \"<li>re-rerun `output_notebook()` to attempt to load from CDN again, or</li>\\n\"+\n",
       "       \"<li>use INLINE resources instead, as so:</li>\\n\"+\n",
       "       \"</ul>\\n\"+\n",
       "       \"<code>\\n\"+\n",
       "       \"from bokeh.resources import INLINE\\n\"+\n",
       "       \"output_notebook(resources=INLINE)\\n\"+\n",
       "       \"</code>\\n\"+\n",
       "       \"</div>\"}};\n",
       "  \n",
       "    function display_loaded() {\n",
       "      if (window.Bokeh !== undefined) {\n",
       "        Bokeh.$(\"#08f43265-4cac-483c-b3d2-9b2f0219b242\").text(\"BokehJS successfully loaded.\");\n",
       "      } else if (Date.now() < window._bokeh_timeout) {\n",
       "        setTimeout(display_loaded, 100)\n",
       "      }\n",
       "    }\n",
       "  \n",
       "    function run_callbacks() {\n",
       "      window._bokeh_onload_callbacks.forEach(function(callback) { callback() });\n",
       "      delete window._bokeh_onload_callbacks\n",
       "      console.info(\"Bokeh: all callbacks have finished\");\n",
       "    }\n",
       "  \n",
       "    function load_libs(js_urls, callback) {\n",
       "      window._bokeh_onload_callbacks.push(callback);\n",
       "      if (window._bokeh_is_loading > 0) {\n",
       "        console.log(\"Bokeh: BokehJS is being loaded, scheduling callback at\", now());\n",
       "        return null;\n",
       "      }\n",
       "      if (js_urls == null || js_urls.length === 0) {\n",
       "        run_callbacks();\n",
       "        return null;\n",
       "      }\n",
       "      console.log(\"Bokeh: BokehJS not loaded, scheduling load and callback at\", now());\n",
       "      window._bokeh_is_loading = js_urls.length;\n",
       "      for (var i = 0; i < js_urls.length; i++) {\n",
       "        var url = js_urls[i];\n",
       "        var s = document.createElement('script');\n",
       "        s.src = url;\n",
       "        s.async = false;\n",
       "        s.onreadystatechange = s.onload = function() {\n",
       "          window._bokeh_is_loading--;\n",
       "          if (window._bokeh_is_loading === 0) {\n",
       "            console.log(\"Bokeh: all BokehJS libraries loaded\");\n",
       "            run_callbacks()\n",
       "          }\n",
       "        };\n",
       "        s.onerror = function() {\n",
       "          console.warn(\"failed to load library \" + url);\n",
       "        };\n",
       "        console.log(\"Bokeh: injecting script tag for BokehJS library: \", url);\n",
       "        document.getElementsByTagName(\"head\")[0].appendChild(s);\n",
       "      }\n",
       "    };var element = document.getElementById(\"08f43265-4cac-483c-b3d2-9b2f0219b242\");\n",
       "    if (element == null) {\n",
       "      console.log(\"Bokeh: ERROR: autoload.js configured with elementid '08f43265-4cac-483c-b3d2-9b2f0219b242' but no matching script tag was found. \")\n",
       "      return false;\n",
       "    }\n",
       "  \n",
       "    var js_urls = [];\n",
       "  \n",
       "    var inline_js = [\n",
       "      function(Bokeh) {\n",
       "        Bokeh.$(function() {\n",
       "            var docs_json = {\"d3809f6c-76eb-4638-9cae-e1e0c903ea9e\":{\"roots\":{\"references\":[{\"attributes\":{},\"id\":\"b1da735e-9353-4740-8e97-8f731ca50b87\",\"type\":\"BasicTickFormatter\"},{\"attributes\":{\"plot\":{\"id\":\"3bcebe3e-89e5-49a5-9f4e-2c4ce5b0bdf5\",\"subtype\":\"Chart\",\"type\":\"Plot\"},\"ticker\":{\"id\":\"d04724b1-23cb-4eba-88c8-011b16ff2f28\",\"type\":\"BasicTicker\"}},\"id\":\"ac4f6a28-2349-4514-b45a-b042a5cd6166\",\"type\":\"Grid\"},{\"attributes\":{\"axis_label\":\"second\",\"formatter\":{\"id\":\"bb225932-0525-4ff3-8210-6d0906894d80\",\"type\":\"BasicTickFormatter\"},\"plot\":{\"id\":\"f42b5dde-f4cd-493b-b0ab-e2ff895a14ac\",\"subtype\":\"Chart\",\"type\":\"Plot\"},\"ticker\":{\"id\":\"a88e2513-4122-4ad4-8b1f-237906afe0c6\",\"type\":\"BasicTicker\"}},\"id\":\"d464d1d0-b28e-4312-a3e2-7bfa8bd67c57\",\"type\":\"LinearAxis\"},{\"attributes\":{\"plot\":{\"id\":\"3bcebe3e-89e5-49a5-9f4e-2c4ce5b0bdf5\",\"subtype\":\"Chart\",\"type\":\"Plot\"}},\"id\":\"737d5834-4932-48af-8567-32b7b258e6f4\",\"type\":\"WheelZoomTool\"},{\"attributes\":{\"children\":[{\"id\":\"6349bfc0-beea-458f-bca5-ef49b231bc52\",\"subtype\":\"Chart\",\"type\":\"Plot\"},{\"id\":\"3bcebe3e-89e5-49a5-9f4e-2c4ce5b0bdf5\",\"subtype\":\"Chart\",\"type\":\"Plot\"},{\"id\":\"f42b5dde-f4cd-493b-b0ab-e2ff895a14ac\",\"subtype\":\"Chart\",\"type\":\"Plot\"}]},\"id\":\"e8a02eba-dfbf-41b9-ae8b-4e397dce61c6\",\"type\":\"Column\"},{\"attributes\":{\"active_drag\":\"auto\",\"active_scroll\":\"auto\",\"active_tap\":\"auto\",\"tools\":[{\"id\":\"cbffb80a-f792-4a19-9c12-261e7f976222\",\"type\":\"PanTool\"},{\"id\":\"af3e6ab3-6431-4a90-986a-a30f8aeb84f1\",\"type\":\"WheelZoomTool\"},{\"id\":\"f27c6c7c-1223-4b81-8b06-5d300a95ef8a\",\"type\":\"BoxZoomTool\"},{\"id\":\"0ff31cc2-730b-42d9-ab83-99d81d34394a\",\"type\":\"SaveTool\"},{\"id\":\"80941068-74f9-4f34-b8f6-c2fe353b35e4\",\"type\":\"ResetTool\"},{\"id\":\"9b6dbded-b774-46bf-bd30-c9dc5433fd20\",\"type\":\"HelpTool\"}]},\"id\":\"59eb2a18-4a5b-4f37-977e-ffa289310bc3\",\"type\":\"Toolbar\"},{\"attributes\":{\"location\":\"top_left\",\"plot\":{\"id\":\"3bcebe3e-89e5-49a5-9f4e-2c4ce5b0bdf5\",\"subtype\":\"Chart\",\"type\":\"Plot\"}},\"id\":\"843c2c8b-cd93-444a-aaff-939d7f46d6ba\",\"type\":\"Legend\"},{\"attributes\":{\"active_drag\":\"auto\",\"active_scroll\":\"auto\",\"active_tap\":\"auto\",\"tools\":[{\"id\":\"c4fcae6d-9afa-4eab-8f47-cb1274836f0f\",\"type\":\"PanTool\"},{\"id\":\"737d5834-4932-48af-8567-32b7b258e6f4\",\"type\":\"WheelZoomTool\"},{\"id\":\"7e73c89c-834e-4387-8b00-3861268881f7\",\"type\":\"BoxZoomTool\"},{\"id\":\"800339f4-827d-4f18-9f45-c9c1a6cc90ff\",\"type\":\"SaveTool\"},{\"id\":\"d9a6fea3-64e7-47a6-8ffa-9aa16c13f2b5\",\"type\":\"ResetTool\"},{\"id\":\"81538d7c-bc04-4273-bf30-0469a16c2c6a\",\"type\":\"HelpTool\"}]},\"id\":\"38f6e454-bed5-4632-b8ec-0ce872deb4a2\",\"type\":\"Toolbar\"},{\"attributes\":{\"plot\":{\"id\":\"3bcebe3e-89e5-49a5-9f4e-2c4ce5b0bdf5\",\"subtype\":\"Chart\",\"type\":\"Plot\"}},\"id\":\"800339f4-827d-4f18-9f45-c9c1a6cc90ff\",\"type\":\"SaveTool\"},{\"attributes\":{\"data_source\":{\"id\":\"fe5fa884-f3bc-4bfc-ba8d-e55754be1fef\",\"type\":\"ColumnDataSource\"},\"glyph\":{\"id\":\"72bf0e78-2337-409d-bf24-1f0587cdaabf\",\"type\":\"Circle\"},\"hover_glyph\":null,\"nonselection_glyph\":null,\"selection_glyph\":null},\"id\":\"8b3723a1-1082-4e7e-9dd7-44db53af9483\",\"type\":\"GlyphRenderer\"},{\"attributes\":{\"plot\":null,\"text\":null},\"id\":\"1899555c-b1f2-4394-bd34-2b4d8329cea7\",\"type\":\"Title\"},{\"attributes\":{\"callback\":null,\"column_names\":[\"x_values\",\"y_values\"],\"data\":{\"chart_index\":[null,null,null,null,null,null,null,null,null,null,null,null,null,null,null,null,null,null,null,null,null,null,null,null,null,null,null,null,null,null,null,null,null,null,null,null,null,null,null,null,null,null,null,null,null,null,null,null,null,null,null,null,null,null,null,null,null,null,null,null,null,null,null,null,null,null,null,null,null,null,null,null,null,null,null,null,null,null,null,null,null,null,null,null,null,null,null,null,null,null,null,null,null,null,null,null,null,null,null,null],\"x_values\":[-0.006174319729658043,0.7790339804655984,-0.2103879124095315,0.1584264290748749,-0.009492751681093058,-0.7544085799313257,-1.9588793545336571,0.38034349230133857,0.08332517281375222,-0.2745524905063304,-0.6683965081062329,0.2385945766290022,0.40089211644286027,0.6027818498019876,1.0798975512960132,1.2227572185094695,0.8965033751485976,-0.14946332248122635,0.39660573218202116,-0.23229745771743782,0.19316843837270628,0.4669075440419657,2.2400959040765844,-1.106818107416552,0.532157451139741,-1.4417233639247602,-0.4099870701446351,1.3486359613586465,-0.7907731909399693,0.5862828853314734,0.4292233755671179,-0.09100274082801163,0.19810903768305757,0.6951661938822424,-0.69409101872293,0.9881044176260708,0.3038210960852044,0.8259526418565496,1.3524704521645783,-1.5142001764967403,-1.6331137817387975,-0.6915043280691927,-0.299787853020863,-0.38712275751522407,-1.1003691935170463,-2.287728871756786,0.6020507648622877,0.3883380832242137,0.8362242852639822,2.1153265595722552,0.3776545038290494,0.7576490361269564,0.8822846743311765,-1.2515145351690977,-0.2565776456380875,-0.652943556585134,0.39629291371611364,0.17318554118053697,-0.3853138051310829,-2.0950985302024288,0.656929214355971,0.28594743853442117,-0.21039734250137906,-1.559916088760664,0.8882290939517796,-0.4149761859668765,1.0330398185929581,0.18427656335278636,0.17938044718561463,-0.6623970227415915,-1.4131448697419609,1.0138458594303346,-0.43392360913831685,-0.49726030404497285,-1.3681062329754967,-0.18390057378678776,0.7814824379393852,-0.010839978681032486,-0.9254649627908978,-0.40621060226125755,0.9154063684941594,0.5007775886578748,-0.13670618098368117,0.8389363349174866,1.7364931408060635,-0.4454836497906726,1.0056101126107462,-1.9873514238326844,1.5256287297586602,-2.5806699709000096,-0.563557611695911,-0.7745538015464812,-1.1860224356007691,0.4379670911042149,-0.4428154193365824,-1.8722454974680438,0.289659998455709,0.8238413449948266,0.47440563084871973,2.929546518510179],\"y_values\":[-1.171864378180162,-0.5451574490695883,3.319782396713686,0.6783645060462675,-1.0968949553527307,-1.2862036021002605,-0.03499335269678116,-0.8684404968069066,0.7038596045590685,0.24272982802421078,-1.0485570716792696,-0.8078227180823521,-0.4538070230824674,-0.910788370941227,-1.679009286885461,1.3542573427403557,-1.3080337460237512,-0.7999322718310727,0.495118134681223,0.9335778159738229,0.4110162687779069,-0.6917640314691277,-0.4390664991429969,0.983322475732709,-1.9866781720321374,-0.13871489981519897,0.2669677909474829,-1.4259665689093428,0.7634421360843507,0.4057670221200814,-0.8111040459859912,0.0433490916422218,0.012131523056324159,-2.2660671661805005,0.409677100164488,-1.1853021187550297,-0.4703147811804869,1.295173408782462,0.3852803106311738,1.234079098132955,-0.1565536636787118,0.1507798215911461,-2.1687136600135077,0.15535046094504495,-0.14736018435686227,0.7854507800350652,0.560439344067498,-0.5997753838428534,-0.2979934222014396,0.3902442817869162,-1.001813222172014,-1.5568198116382377,0.591327039813838,0.2830241675671029,0.2875980627593492,0.8550484137707903,1.170381672613828,1.7223722195373703,0.22673879225623134,0.23938816319625691,0.2064085944789192,1.4688745548026398,-1.11275831523112,1.3582242925977568,0.0033393811867048176,-0.8470239582979172,1.9100012138099776,0.8542950881180571,1.2003386322989318,-2.021949164740902,-0.12616340393273326,1.2826544017939956,0.9647476904831227,0.440164636210152,-0.3395958690171156,-0.9163802857391179,0.7145739718906561,-0.3014315898307734,-0.06279344183718147,-1.0816211132105364,0.8835770678075923,-0.4613703462907041,-0.6500541138643801,0.15273718919790857,1.1517996647574686,0.8606165790619711,0.42878868127609976,-0.6360408168317961,2.2006757994936756,1.017150773780356,-1.6850887480533763,0.17191448835715883,-0.8351972708237323,-0.2968523473513796,0.18936550871461183,0.8855883385062989,-0.055115496226642254,-0.41534970465167914,-0.7952273713317981,0.2936500879940753]}},\"id\":\"fe5fa884-f3bc-4bfc-ba8d-e55754be1fef\",\"type\":\"ColumnDataSource\"},{\"attributes\":{},\"id\":\"69c9c8f8-f84a-4939-9678-dfb887ffc474\",\"type\":\"BasicTickFormatter\"},{\"attributes\":{\"below\":[{\"id\":\"2801565f-dc90-435a-a933-874bf6922531\",\"type\":\"LinearAxis\"}],\"left\":[{\"id\":\"d464d1d0-b28e-4312-a3e2-7bfa8bd67c57\",\"type\":\"LinearAxis\"}],\"renderers\":[{\"id\":\"e1aa8463-4f23-4e46-ba85-dcc5bf2ac41e\",\"type\":\"BoxAnnotation\"},{\"id\":\"8b3723a1-1082-4e7e-9dd7-44db53af9483\",\"type\":\"GlyphRenderer\"},{\"id\":\"f02982df-2e6e-48fa-80d5-3408c0da50d1\",\"type\":\"Legend\"},{\"id\":\"2801565f-dc90-435a-a933-874bf6922531\",\"type\":\"LinearAxis\"},{\"id\":\"d464d1d0-b28e-4312-a3e2-7bfa8bd67c57\",\"type\":\"LinearAxis\"},{\"id\":\"3979b40c-a3c2-4d0f-88f6-90ee6a1c29ea\",\"type\":\"Grid\"},{\"id\":\"a12e28a3-f633-4347-92f1-c10a6a8e657b\",\"type\":\"Grid\"}],\"title\":{\"id\":\"1899555c-b1f2-4394-bd34-2b4d8329cea7\",\"type\":\"Title\"},\"tool_events\":{\"id\":\"97dfd84b-6421-4a93-bf4e-eee6d1669971\",\"type\":\"ToolEvents\"},\"toolbar\":{\"id\":\"c12ff1b9-5cec-44f4-a5ce-d737515fa936\",\"type\":\"Toolbar\"},\"x_mapper_type\":\"auto\",\"x_range\":{\"id\":\"c320c70d-0e63-43c1-83fb-8aad187eac45\",\"type\":\"Range1d\"},\"y_mapper_type\":\"auto\",\"y_range\":{\"id\":\"c320c70d-0e63-43c1-83fb-8aad187eac45\",\"type\":\"Range1d\"}},\"id\":\"f42b5dde-f4cd-493b-b0ab-e2ff895a14ac\",\"subtype\":\"Chart\",\"type\":\"Plot\"},{\"attributes\":{},\"id\":\"27874e49-39de-4875-a96a-9bcc15b50e79\",\"type\":\"ToolEvents\"},{\"attributes\":{},\"id\":\"736164d0-bb6e-40ef-87d9-2bd8a4c66f1c\",\"type\":\"BasicTicker\"},{\"attributes\":{\"plot\":{\"id\":\"f42b5dde-f4cd-493b-b0ab-e2ff895a14ac\",\"subtype\":\"Chart\",\"type\":\"Plot\"}},\"id\":\"5ec4a8d2-767a-4799-96e9-c6927c0db92c\",\"type\":\"PanTool\"},{\"attributes\":{\"overlay\":{\"id\":\"4293d863-d661-4504-bdee-56774842c9bb\",\"type\":\"BoxAnnotation\"},\"plot\":{\"id\":\"6349bfc0-beea-458f-bca5-ef49b231bc52\",\"subtype\":\"Chart\",\"type\":\"Plot\"}},\"id\":\"f27c6c7c-1223-4b81-8b06-5d300a95ef8a\",\"type\":\"BoxZoomTool\"},{\"attributes\":{\"active_drag\":\"auto\",\"active_scroll\":\"auto\",\"active_tap\":\"auto\",\"tools\":[{\"id\":\"5ec4a8d2-767a-4799-96e9-c6927c0db92c\",\"type\":\"PanTool\"},{\"id\":\"3090b6ea-e649-4985-ba67-d51e77e625d6\",\"type\":\"WheelZoomTool\"},{\"id\":\"8f647a0d-4d99-4fb7-b50e-91317ada106a\",\"type\":\"BoxZoomTool\"},{\"id\":\"01df5a74-7125-4630-9bd9-67591cffb6e6\",\"type\":\"SaveTool\"},{\"id\":\"1e5b5078-cb5e-4201-bdba-fa8835bb223d\",\"type\":\"ResetTool\"},{\"id\":\"653e5777-92bf-4a06-abe5-1f88f29ff4db\",\"type\":\"HelpTool\"}]},\"id\":\"c12ff1b9-5cec-44f4-a5ce-d737515fa936\",\"type\":\"Toolbar\"},{\"attributes\":{},\"id\":\"a88e2513-4122-4ad4-8b1f-237906afe0c6\",\"type\":\"BasicTicker\"},{\"attributes\":{\"callback\":null,\"end\":10,\"start\":-10},\"id\":\"c320c70d-0e63-43c1-83fb-8aad187eac45\",\"type\":\"Range1d\"},{\"attributes\":{\"fill_alpha\":{\"value\":0.7},\"fill_color\":{\"value\":\"#f22c40\"},\"line_color\":{\"value\":\"#f22c40\"},\"size\":{\"units\":\"screen\",\"value\":8},\"x\":{\"field\":\"x_values\"},\"y\":{\"field\":\"y_values\"}},\"id\":\"220dfcdd-3dd5-401d-9117-9916e24854cf\",\"type\":\"Circle\"},{\"attributes\":{\"data_source\":{\"id\":\"11ffef7e-8c46-4bb7-bb6d-076e17d4c232\",\"type\":\"ColumnDataSource\"},\"glyph\":{\"id\":\"220dfcdd-3dd5-401d-9117-9916e24854cf\",\"type\":\"Circle\"},\"hover_glyph\":null,\"nonselection_glyph\":null,\"selection_glyph\":null},\"id\":\"603dba15-89f2-4de0-a585-ee0793b17899\",\"type\":\"GlyphRenderer\"},{\"attributes\":{\"plot\":{\"id\":\"3bcebe3e-89e5-49a5-9f4e-2c4ce5b0bdf5\",\"subtype\":\"Chart\",\"type\":\"Plot\"}},\"id\":\"81538d7c-bc04-4273-bf30-0469a16c2c6a\",\"type\":\"HelpTool\"},{\"attributes\":{\"location\":\"top_left\",\"plot\":{\"id\":\"f42b5dde-f4cd-493b-b0ab-e2ff895a14ac\",\"subtype\":\"Chart\",\"type\":\"Plot\"}},\"id\":\"f02982df-2e6e-48fa-80d5-3408c0da50d1\",\"type\":\"Legend\"},{\"attributes\":{},\"id\":\"97dfd84b-6421-4a93-bf4e-eee6d1669971\",\"type\":\"ToolEvents\"},{\"attributes\":{},\"id\":\"d04724b1-23cb-4eba-88c8-011b16ff2f28\",\"type\":\"BasicTicker\"},{\"attributes\":{},\"id\":\"d46a9dbf-a906-4c50-b34f-0c3da4928435\",\"type\":\"ToolEvents\"},{\"attributes\":{\"fill_alpha\":{\"value\":0.7},\"fill_color\":{\"value\":\"#f22c40\"},\"line_color\":{\"value\":\"#f22c40\"},\"size\":{\"units\":\"screen\",\"value\":8},\"x\":{\"field\":\"x_values\"},\"y\":{\"field\":\"y_values\"}},\"id\":\"72bf0e78-2337-409d-bf24-1f0587cdaabf\",\"type\":\"Circle\"},{\"attributes\":{\"axis_label\":\"first\",\"formatter\":{\"id\":\"cacd0fbb-0c39-4961-924f-e4b9ed9a6ed9\",\"type\":\"BasicTickFormatter\"},\"plot\":{\"id\":\"6349bfc0-beea-458f-bca5-ef49b231bc52\",\"subtype\":\"Chart\",\"type\":\"Plot\"},\"ticker\":{\"id\":\"392530f2-d639-4ed0-a78a-553a7823b7eb\",\"type\":\"BasicTicker\"}},\"id\":\"c3ee37ca-4b96-47df-8646-7cb8808efeef\",\"type\":\"LinearAxis\"},{\"attributes\":{\"plot\":{\"id\":\"6349bfc0-beea-458f-bca5-ef49b231bc52\",\"subtype\":\"Chart\",\"type\":\"Plot\"}},\"id\":\"0ff31cc2-730b-42d9-ab83-99d81d34394a\",\"type\":\"SaveTool\"},{\"attributes\":{},\"id\":\"cacd0fbb-0c39-4961-924f-e4b9ed9a6ed9\",\"type\":\"BasicTickFormatter\"},{\"attributes\":{\"plot\":{\"id\":\"6349bfc0-beea-458f-bca5-ef49b231bc52\",\"subtype\":\"Chart\",\"type\":\"Plot\"}},\"id\":\"80941068-74f9-4f34-b8f6-c2fe353b35e4\",\"type\":\"ResetTool\"},{\"attributes\":{\"plot\":{\"id\":\"f42b5dde-f4cd-493b-b0ab-e2ff895a14ac\",\"subtype\":\"Chart\",\"type\":\"Plot\"}},\"id\":\"01df5a74-7125-4630-9bd9-67591cffb6e6\",\"type\":\"SaveTool\"},{\"attributes\":{\"plot\":null,\"text\":null},\"id\":\"77a6585e-c373-4874-85e8-ca42d49645b2\",\"type\":\"Title\"},{\"attributes\":{\"plot\":{\"id\":\"f42b5dde-f4cd-493b-b0ab-e2ff895a14ac\",\"subtype\":\"Chart\",\"type\":\"Plot\"},\"ticker\":{\"id\":\"a6829259-42e4-414e-af34-37248f3e7829\",\"type\":\"BasicTicker\"}},\"id\":\"3979b40c-a3c2-4d0f-88f6-90ee6a1c29ea\",\"type\":\"Grid\"},{\"attributes\":{\"axis_label\":\"second\",\"formatter\":{\"id\":\"ae1567c8-5478-4a5c-b4c3-9365f4cb4f17\",\"type\":\"BasicTickFormatter\"},\"plot\":{\"id\":\"6349bfc0-beea-458f-bca5-ef49b231bc52\",\"subtype\":\"Chart\",\"type\":\"Plot\"},\"ticker\":{\"id\":\"736164d0-bb6e-40ef-87d9-2bd8a4c66f1c\",\"type\":\"BasicTicker\"}},\"id\":\"5d4c0e13-4817-4264-8a68-122c0904dce5\",\"type\":\"LinearAxis\"},{\"attributes\":{\"plot\":{\"id\":\"f42b5dde-f4cd-493b-b0ab-e2ff895a14ac\",\"subtype\":\"Chart\",\"type\":\"Plot\"}},\"id\":\"1e5b5078-cb5e-4201-bdba-fa8835bb223d\",\"type\":\"ResetTool\"},{\"attributes\":{},\"id\":\"ae1567c8-5478-4a5c-b4c3-9365f4cb4f17\",\"type\":\"BasicTickFormatter\"},{\"attributes\":{\"plot\":{\"id\":\"6349bfc0-beea-458f-bca5-ef49b231bc52\",\"subtype\":\"Chart\",\"type\":\"Plot\"}},\"id\":\"9b6dbded-b774-46bf-bd30-c9dc5433fd20\",\"type\":\"HelpTool\"},{\"attributes\":{\"below\":[{\"id\":\"44584793-2936-4c29-a00f-353a9830021f\",\"type\":\"LinearAxis\"}],\"left\":[{\"id\":\"a54c2b98-4a29-467f-821d-03e55cf00673\",\"type\":\"LinearAxis\"}],\"renderers\":[{\"id\":\"34638195-add6-4b3a-94e0-9679f2bf3b20\",\"type\":\"BoxAnnotation\"},{\"id\":\"53195064-4876-45c5-966c-e12fd00fef20\",\"type\":\"GlyphRenderer\"},{\"id\":\"843c2c8b-cd93-444a-aaff-939d7f46d6ba\",\"type\":\"Legend\"},{\"id\":\"44584793-2936-4c29-a00f-353a9830021f\",\"type\":\"LinearAxis\"},{\"id\":\"a54c2b98-4a29-467f-821d-03e55cf00673\",\"type\":\"LinearAxis\"},{\"id\":\"ac4f6a28-2349-4514-b45a-b042a5cd6166\",\"type\":\"Grid\"},{\"id\":\"e64b2af1-513d-4a95-969b-ce20bc40b4ca\",\"type\":\"Grid\"}],\"title\":{\"id\":\"77a6585e-c373-4874-85e8-ca42d49645b2\",\"type\":\"Title\"},\"tool_events\":{\"id\":\"d46a9dbf-a906-4c50-b34f-0c3da4928435\",\"type\":\"ToolEvents\"},\"toolbar\":{\"id\":\"38f6e454-bed5-4632-b8ec-0ce872deb4a2\",\"type\":\"Toolbar\"},\"x_mapper_type\":\"auto\",\"x_range\":{\"id\":\"c320c70d-0e63-43c1-83fb-8aad187eac45\",\"type\":\"Range1d\"},\"y_mapper_type\":\"auto\",\"y_range\":{\"id\":\"c320c70d-0e63-43c1-83fb-8aad187eac45\",\"type\":\"Range1d\"}},\"id\":\"3bcebe3e-89e5-49a5-9f4e-2c4ce5b0bdf5\",\"subtype\":\"Chart\",\"type\":\"Plot\"},{\"attributes\":{\"dimension\":1,\"plot\":{\"id\":\"3bcebe3e-89e5-49a5-9f4e-2c4ce5b0bdf5\",\"subtype\":\"Chart\",\"type\":\"Plot\"},\"ticker\":{\"id\":\"9307b59a-974a-43d3-a6a4-ab42da6db5e6\",\"type\":\"BasicTicker\"}},\"id\":\"e64b2af1-513d-4a95-969b-ce20bc40b4ca\",\"type\":\"Grid\"},{\"attributes\":{\"bottom_units\":\"screen\",\"fill_alpha\":{\"value\":0.5},\"fill_color\":{\"value\":\"lightgrey\"},\"left_units\":\"screen\",\"level\":\"overlay\",\"line_alpha\":{\"value\":1.0},\"line_color\":{\"value\":\"black\"},\"line_dash\":[4,4],\"line_width\":{\"value\":2},\"plot\":null,\"render_mode\":\"css\",\"right_units\":\"screen\",\"top_units\":\"screen\"},\"id\":\"4293d863-d661-4504-bdee-56774842c9bb\",\"type\":\"BoxAnnotation\"},{\"attributes\":{\"plot\":{\"id\":\"f42b5dde-f4cd-493b-b0ab-e2ff895a14ac\",\"subtype\":\"Chart\",\"type\":\"Plot\"}},\"id\":\"3090b6ea-e649-4985-ba67-d51e77e625d6\",\"type\":\"WheelZoomTool\"},{\"attributes\":{},\"id\":\"a6829259-42e4-414e-af34-37248f3e7829\",\"type\":\"BasicTicker\"},{\"attributes\":{\"plot\":{\"id\":\"3bcebe3e-89e5-49a5-9f4e-2c4ce5b0bdf5\",\"subtype\":\"Chart\",\"type\":\"Plot\"}},\"id\":\"c4fcae6d-9afa-4eab-8f47-cb1274836f0f\",\"type\":\"PanTool\"},{\"attributes\":{\"below\":[{\"id\":\"c3ee37ca-4b96-47df-8646-7cb8808efeef\",\"type\":\"LinearAxis\"}],\"left\":[{\"id\":\"5d4c0e13-4817-4264-8a68-122c0904dce5\",\"type\":\"LinearAxis\"}],\"renderers\":[{\"id\":\"4293d863-d661-4504-bdee-56774842c9bb\",\"type\":\"BoxAnnotation\"},{\"id\":\"603dba15-89f2-4de0-a585-ee0793b17899\",\"type\":\"GlyphRenderer\"},{\"id\":\"778af3b2-5ea0-4f76-b972-d986cfd7661e\",\"type\":\"Legend\"},{\"id\":\"c3ee37ca-4b96-47df-8646-7cb8808efeef\",\"type\":\"LinearAxis\"},{\"id\":\"5d4c0e13-4817-4264-8a68-122c0904dce5\",\"type\":\"LinearAxis\"},{\"id\":\"3a21d47b-1639-43c3-8ca4-eee1bfa8db69\",\"type\":\"Grid\"},{\"id\":\"5311c62a-ad2e-4717-867d-5a289e4b75d1\",\"type\":\"Grid\"}],\"title\":{\"id\":\"fc4f92c6-628e-4e6c-bac0-76661b7cd8ae\",\"type\":\"Title\"},\"tool_events\":{\"id\":\"27874e49-39de-4875-a96a-9bcc15b50e79\",\"type\":\"ToolEvents\"},\"toolbar\":{\"id\":\"59eb2a18-4a5b-4f37-977e-ffa289310bc3\",\"type\":\"Toolbar\"},\"x_mapper_type\":\"auto\",\"x_range\":{\"id\":\"c320c70d-0e63-43c1-83fb-8aad187eac45\",\"type\":\"Range1d\"},\"y_mapper_type\":\"auto\",\"y_range\":{\"id\":\"c320c70d-0e63-43c1-83fb-8aad187eac45\",\"type\":\"Range1d\"}},\"id\":\"6349bfc0-beea-458f-bca5-ef49b231bc52\",\"subtype\":\"Chart\",\"type\":\"Plot\"},{\"attributes\":{},\"id\":\"392530f2-d639-4ed0-a78a-553a7823b7eb\",\"type\":\"BasicTicker\"},{\"attributes\":{\"plot\":null,\"text\":null},\"id\":\"fc4f92c6-628e-4e6c-bac0-76661b7cd8ae\",\"type\":\"Title\"},{\"attributes\":{\"location\":\"top_left\",\"plot\":{\"id\":\"6349bfc0-beea-458f-bca5-ef49b231bc52\",\"subtype\":\"Chart\",\"type\":\"Plot\"}},\"id\":\"778af3b2-5ea0-4f76-b972-d986cfd7661e\",\"type\":\"Legend\"},{\"attributes\":{\"plot\":{\"id\":\"6349bfc0-beea-458f-bca5-ef49b231bc52\",\"subtype\":\"Chart\",\"type\":\"Plot\"}},\"id\":\"cbffb80a-f792-4a19-9c12-261e7f976222\",\"type\":\"PanTool\"},{\"attributes\":{\"axis_label\":\"first\",\"formatter\":{\"id\":\"69c9c8f8-f84a-4939-9678-dfb887ffc474\",\"type\":\"BasicTickFormatter\"},\"plot\":{\"id\":\"f42b5dde-f4cd-493b-b0ab-e2ff895a14ac\",\"subtype\":\"Chart\",\"type\":\"Plot\"},\"ticker\":{\"id\":\"a6829259-42e4-414e-af34-37248f3e7829\",\"type\":\"BasicTicker\"}},\"id\":\"2801565f-dc90-435a-a933-874bf6922531\",\"type\":\"LinearAxis\"},{\"attributes\":{\"bottom_units\":\"screen\",\"fill_alpha\":{\"value\":0.5},\"fill_color\":{\"value\":\"lightgrey\"},\"left_units\":\"screen\",\"level\":\"overlay\",\"line_alpha\":{\"value\":1.0},\"line_color\":{\"value\":\"black\"},\"line_dash\":[4,4],\"line_width\":{\"value\":2},\"plot\":null,\"render_mode\":\"css\",\"right_units\":\"screen\",\"top_units\":\"screen\"},\"id\":\"34638195-add6-4b3a-94e0-9679f2bf3b20\",\"type\":\"BoxAnnotation\"},{\"attributes\":{\"dimension\":1,\"plot\":{\"id\":\"6349bfc0-beea-458f-bca5-ef49b231bc52\",\"subtype\":\"Chart\",\"type\":\"Plot\"},\"ticker\":{\"id\":\"736164d0-bb6e-40ef-87d9-2bd8a4c66f1c\",\"type\":\"BasicTicker\"}},\"id\":\"5311c62a-ad2e-4717-867d-5a289e4b75d1\",\"type\":\"Grid\"},{\"attributes\":{},\"id\":\"4bb1ff03-4601-486e-ae60-f484c617df17\",\"type\":\"BasicTickFormatter\"},{\"attributes\":{},\"id\":\"bb225932-0525-4ff3-8210-6d0906894d80\",\"type\":\"BasicTickFormatter\"},{\"attributes\":{\"axis_label\":\"second\",\"formatter\":{\"id\":\"b1da735e-9353-4740-8e97-8f731ca50b87\",\"type\":\"BasicTickFormatter\"},\"plot\":{\"id\":\"3bcebe3e-89e5-49a5-9f4e-2c4ce5b0bdf5\",\"subtype\":\"Chart\",\"type\":\"Plot\"},\"ticker\":{\"id\":\"9307b59a-974a-43d3-a6a4-ab42da6db5e6\",\"type\":\"BasicTicker\"}},\"id\":\"a54c2b98-4a29-467f-821d-03e55cf00673\",\"type\":\"LinearAxis\"},{\"attributes\":{\"dimension\":1,\"plot\":{\"id\":\"f42b5dde-f4cd-493b-b0ab-e2ff895a14ac\",\"subtype\":\"Chart\",\"type\":\"Plot\"},\"ticker\":{\"id\":\"a88e2513-4122-4ad4-8b1f-237906afe0c6\",\"type\":\"BasicTicker\"}},\"id\":\"a12e28a3-f633-4347-92f1-c10a6a8e657b\",\"type\":\"Grid\"},{\"attributes\":{},\"id\":\"9307b59a-974a-43d3-a6a4-ab42da6db5e6\",\"type\":\"BasicTicker\"},{\"attributes\":{\"bottom_units\":\"screen\",\"fill_alpha\":{\"value\":0.5},\"fill_color\":{\"value\":\"lightgrey\"},\"left_units\":\"screen\",\"level\":\"overlay\",\"line_alpha\":{\"value\":1.0},\"line_color\":{\"value\":\"black\"},\"line_dash\":[4,4],\"line_width\":{\"value\":2},\"plot\":null,\"render_mode\":\"css\",\"right_units\":\"screen\",\"top_units\":\"screen\"},\"id\":\"e1aa8463-4f23-4e46-ba85-dcc5bf2ac41e\",\"type\":\"BoxAnnotation\"},{\"attributes\":{\"overlay\":{\"id\":\"e1aa8463-4f23-4e46-ba85-dcc5bf2ac41e\",\"type\":\"BoxAnnotation\"},\"plot\":{\"id\":\"f42b5dde-f4cd-493b-b0ab-e2ff895a14ac\",\"subtype\":\"Chart\",\"type\":\"Plot\"}},\"id\":\"8f647a0d-4d99-4fb7-b50e-91317ada106a\",\"type\":\"BoxZoomTool\"},{\"attributes\":{\"data_source\":{\"id\":\"5766d549-c78a-4f29-a66a-4553663701c8\",\"type\":\"ColumnDataSource\"},\"glyph\":{\"id\":\"557a5a01-ad4d-42fd-9603-11a022d37cb7\",\"type\":\"Circle\"},\"hover_glyph\":null,\"nonselection_glyph\":null,\"selection_glyph\":null},\"id\":\"53195064-4876-45c5-966c-e12fd00fef20\",\"type\":\"GlyphRenderer\"},{\"attributes\":{\"overlay\":{\"id\":\"34638195-add6-4b3a-94e0-9679f2bf3b20\",\"type\":\"BoxAnnotation\"},\"plot\":{\"id\":\"3bcebe3e-89e5-49a5-9f4e-2c4ce5b0bdf5\",\"subtype\":\"Chart\",\"type\":\"Plot\"}},\"id\":\"7e73c89c-834e-4387-8b00-3861268881f7\",\"type\":\"BoxZoomTool\"},{\"attributes\":{\"callback\":null,\"column_names\":[\"x_values\",\"y_values\"],\"data\":{\"chart_index\":[null,null,null,null,null,null,null,null,null,null,null,null,null,null,null,null,null,null,null,null,null,null,null,null,null,null,null,null,null,null,null,null,null,null,null,null,null,null,null,null,null,null,null,null,null,null,null,null,null,null,null,null,null,null,null,null,null,null,null,null,null,null,null,null,null,null,null,null,null,null,null,null,null,null,null,null,null,null,null,null,null,null,null,null,null,null,null,null,null,null,null,null,null,null,null,null,null,null,null,null],\"x_values\":[-0.020956601177870127,2.644162457963673,-0.7140892869270656,0.5377239332470007,-0.032219875188135294,-2.5605800196647346,-6.648741106058512,1.2909449506591906,0.2828185923620161,-0.9318738416306149,-2.2686416742851665,0.8098270910071088,1.3606901760026915,2.045935321891516,3.6653401971981268,4.150228120286208,3.0428718482714814,-0.5073017558376307,1.3461415213520391,-0.7884536903123918,0.6556437146725136,1.5847568016967961,7.603233800221968,-3.756712750419605,1.8062251317822686,-4.893433263823196,-1.3915598629973176,4.577480145799305,-2.6840071635873146,1.9899352711336062,1.4568508745622468,-0.30887745195070115,0.6724128769219759,2.359502150099205,-2.3558528384346613,3.353780029047514,1.03121603980065,2.803411689882564,4.590495003801252,-5.139430834765048,-5.543042100263684,-2.347073208163733,-1.0175265857306235,-1.3139548308706055,-3.734824133933939,-7.764907498750639,2.043453905933278,1.3180798352920915,2.8382752446960406,7.179747245186322,1.2818181056862992,2.571578631835723,2.9946113668994467,-4.247834924366457,-0.8708644233252376,-2.216191954117117,1.3450797668401036,0.5878186545572892,-1.3078149652134856,-7.1110901683457,2.2297198963021803,0.9705500669838623,-0.7141212941250361,-5.294597749137105,3.014787651361117,-1.4084936978317353,3.506297766719465,0.6254633082998349,0.6088451287547949,-2.248278488126321,-4.796433411033555,3.441150484944716,-1.4728041981197082,-1.6877787885523192,-4.6435652750062,-0.6241871412520184,2.6524729033286345,-0.036792573099805104,-3.1411719798280364,-1.3787419438162256,3.107031546822242,1.6997169994142514,-0.464002034048115,2.8474803629036494,5.893927718899523,-1.5120407735091725,3.4131970797021944,-6.745379736245136,5.178221121507028,-8.759195137251577,-1.9128021589705235,-2.6289560341106215,-4.025544555378579,1.4865284046136158,-1.5029843844776132,-6.354692324894208,0.9831510726048789,2.7962456200584365,1.6102064741605342,9.94333638498438],\"y_values\":[-2.961158000098714,-1.377546217534771,8.388684207537446,1.7141441633215118,-2.771719435106254,-3.2500792387166744,-0.08842392363633977,-2.1944429514300996,1.778567159984082,0.6133485969022046,-2.6495755133242875,-2.0412692363136973,-1.1467148604589086,-2.301450851503616,-4.242651175916668,3.422042720400456,-3.3052413432451324,-2.0213310433995915,1.251102988369747,2.359036992641278,1.0385878563460424,-1.7480031257084787,-1.1094673587840185,2.4847356655849557,-5.020092830085175,-0.3505155911971227,0.6745949656396875,-3.6032431670604526,1.929124932007338,1.025323651865785,-2.0495607507190563,0.10953785429737062,0.030654875445060625,-5.726074657476098,1.035203940999742,-2.995113527502247,-1.1884279467731764,3.272744843466592,0.9735562368383726,3.118366990441273,-0.39559196633905214,0.3810021733499924,-5.480074250780802,0.39255162014637146,-0.37236116817714104,1.984738084279437,1.4161616976810338,-1.515559060585675,-0.7529929423223118,0.9860995850054299,-2.5314595209781663,-3.9338933120433177,1.4942111282012511,0.7151674661483394,0.7267251400501318,2.160602795044456,2.957411384422625,4.352224004753182,0.5729412047364388,0.6049046184664826,0.5215692807213361,3.7116664010641793,-2.811804205909924,3.432066717652148,0.008438207953505916,-2.1403259772126564,4.8263395319301585,2.158699233228937,3.0331089587169613,-5.109218316084823,-0.31879949577037414,3.241110843502571,2.437799454393568,1.1122422168837767,-0.8581172387048246,-2.3155809364758717,1.805641056188007,-0.7616807715377478,-0.1586713497842296,-2.7331243035417634,2.232691215604106,-1.1658264534404978,-1.6426072637824085,0.38594820196543655,2.910456922587028,2.174672867917101,1.083496569700573,-1.60719737558337,5.560838669244436,2.570215638573872,-4.258013230953804,0.43440689213732075,-2.1104413840114917,-0.750109585695145,0.4785034868487379,2.237773450742176,-0.13927012000687422,-1.0495379189509513,-2.009442335104924,0.7420178678386826]}},\"id\":\"5766d549-c78a-4f29-a66a-4553663701c8\",\"type\":\"ColumnDataSource\"},{\"attributes\":{\"plot\":{\"id\":\"f42b5dde-f4cd-493b-b0ab-e2ff895a14ac\",\"subtype\":\"Chart\",\"type\":\"Plot\"}},\"id\":\"653e5777-92bf-4a06-abe5-1f88f29ff4db\",\"type\":\"HelpTool\"},{\"attributes\":{\"axis_label\":\"first\",\"formatter\":{\"id\":\"4bb1ff03-4601-486e-ae60-f484c617df17\",\"type\":\"BasicTickFormatter\"},\"plot\":{\"id\":\"3bcebe3e-89e5-49a5-9f4e-2c4ce5b0bdf5\",\"subtype\":\"Chart\",\"type\":\"Plot\"},\"ticker\":{\"id\":\"d04724b1-23cb-4eba-88c8-011b16ff2f28\",\"type\":\"BasicTicker\"}},\"id\":\"44584793-2936-4c29-a00f-353a9830021f\",\"type\":\"LinearAxis\"},{\"attributes\":{\"plot\":{\"id\":\"6349bfc0-beea-458f-bca5-ef49b231bc52\",\"subtype\":\"Chart\",\"type\":\"Plot\"},\"ticker\":{\"id\":\"392530f2-d639-4ed0-a78a-553a7823b7eb\",\"type\":\"BasicTicker\"}},\"id\":\"3a21d47b-1639-43c3-8ca4-eee1bfa8db69\",\"type\":\"Grid\"},{\"attributes\":{\"plot\":{\"id\":\"6349bfc0-beea-458f-bca5-ef49b231bc52\",\"subtype\":\"Chart\",\"type\":\"Plot\"}},\"id\":\"af3e6ab3-6431-4a90-986a-a30f8aeb84f1\",\"type\":\"WheelZoomTool\"},{\"attributes\":{\"plot\":{\"id\":\"3bcebe3e-89e5-49a5-9f4e-2c4ce5b0bdf5\",\"subtype\":\"Chart\",\"type\":\"Plot\"}},\"id\":\"d9a6fea3-64e7-47a6-8ffa-9aa16c13f2b5\",\"type\":\"ResetTool\"},{\"attributes\":{\"fill_alpha\":{\"value\":0.7},\"fill_color\":{\"value\":\"#f22c40\"},\"line_color\":{\"value\":\"#f22c40\"},\"size\":{\"units\":\"screen\",\"value\":8},\"x\":{\"field\":\"x_values\"},\"y\":{\"field\":\"y_values\"}},\"id\":\"557a5a01-ad4d-42fd-9603-11a022d37cb7\",\"type\":\"Circle\"},{\"attributes\":{\"callback\":null,\"column_names\":[\"x_values\",\"y_values\"],\"data\":{\"chart_index\":[null,null,null,null,null,null,null,null,null,null,null,null,null,null,null,null,null,null,null,null,null,null,null,null,null,null,null,null,null,null,null,null,null,null,null,null,null,null,null,null,null,null,null,null,null,null,null,null,null,null,null,null,null,null,null,null,null,null,null,null,null,null,null,null,null,null,null,null,null,null,null,null,null,null,null,null,null,null,null,null,null,null,null,null,null,null,null,null,null,null,null,null,null,null,null,null,null,null,null,null],\"x_values\":[2.1007780281009953,4.765897087242538,1.4076453423517998,2.659458562525866,2.08951475409073,-0.4388453903858691,-4.527006476779647,3.412679579938056,2.4045532216408816,1.1898607876482505,-0.14690704500630103,2.9315617202859743,3.482424805281557,4.167669951170382,5.787074826476992,6.271962749565073,5.164606477550347,1.6144328734412348,3.4678761506309046,1.3332809389664737,2.777378343951379,3.7064914309756616,9.724968429500834,-1.6349781211407395,3.927959761061134,-2.7716986345443306,0.7301747662815479,6.69921477507817,-0.5622725343084491,4.111669900412472,3.5785855038411123,1.8128571773281643,2.7941475062008414,4.4812367793780705,-0.23411820915579584,5.47551465832638,3.1529506690795155,4.9251463191614295,6.712229633080118,-3.0176962054861827,-3.421307470984819,-0.2253385788848674,1.104208043548242,0.80777979840826,-1.6130895046550737,-5.6431728694717735,4.165188535212144,3.439814464570957,4.960009873974906,9.301481874465187,3.4035527349651646,4.6933132611145885,5.116345996178312,-2.126100295087592,1.2508702059536279,-0.09445732483825164,3.466814396118969,2.7095532838361547,0.8139196640653799,-4.9893555390668345,4.351454525581046,3.0922846962627277,1.4076133351538294,-3.1728631198582393,5.136522280639983,0.7132409314471302,5.62803239599833,2.7471979375787003,2.7305797580336604,-0.12654385884745567,-2.6746987817546897,5.562885114223581,0.6489304311591573,0.43395584072654625,-2.5218306457273343,1.4975474880268471,4.7742075326075,2.0849420561790604,-1.019437350549171,0.7429926854626399,5.228766176101107,3.821451628693117,1.6577325952307504,4.969214992182515,8.015662348178388,0.6096938557696929,5.53493170898106,-4.62364510696627,7.299955750785894,-6.637460507972712,0.20893247030834194,-0.507221404831756,-1.9038099260997132,3.6082630338924813,0.6187502448012523,-4.232957695615343,3.1048857018837444,4.917980249337302,3.7319411034393997,12.065071014263246],\"y_values\":[-1.3327844939878215,0.2508272885761218,10.01705771364834,3.3425176694324046,-1.1433459289953616,-1.6217057326057818,1.539949582474553,-0.5660694453192066,3.406940666094975,2.2417221030130974,-1.0212020072133945,-0.4128957302028047,0.48165864565198424,-0.6730773453927235,-2.6142776698057757,5.050416226511349,-1.6768678371342398,-0.3929575372886984,2.87947649448064,3.987410498752171,2.6669613624569353,-0.11962961959758589,0.5189061473268743,4.113109171695848,-3.391719323974282,1.27785791491377,2.3029684717505803,-1.97486966094956,3.557498438118231,2.6536971579766777,-0.42118724460816326,1.7379113604082634,1.6590283815559534,-4.0977011513652055,2.663577447110635,-1.3667400213913545,0.4399455593377164,4.901118349577485,2.6019297429492654,4.746740496552166,1.2327815397718407,2.0093756794608852,-3.851700744669909,2.0209251262572643,1.2560123379337518,3.61311159039033,3.0445352037919267,0.1128144455252178,0.875380563788581,2.6144730911163228,-0.9030860148672737,-2.305519805932425,3.122584634312144,2.343540972259232,2.3550986461610246,3.788976301155349,4.5857848905335175,5.980597510864075,2.2013147108473317,2.2332781245773754,2.149942786832229,5.340039907175072,-1.1834306997990316,5.060440223763041,1.6368117140643987,-0.5119524711017638,6.454713038041051,3.7870727393398296,4.661482464827854,-3.48084480997393,1.3095740103405187,4.869484349613463,4.066172960504461,2.7406157229946695,0.7702562674060682,-0.6872074303649787,3.4340145622989,0.866692734573145,1.4697021563266632,-1.1047507974308708,3.8610647217149987,0.462547052670395,-0.01423375767151569,2.0143217080763294,4.538830428697921,3.803046374027994,2.7118700758114658,0.021176130527522874,7.189212175355329,4.198589144684765,-2.629639724842911,2.0627803982482136,-0.48206787790059913,0.8782639204157479,2.1068769929596307,3.8661469568530684,1.4891033861040186,0.5788355871599415,-0.38106882899403116,2.3703913739495754]}},\"id\":\"11ffef7e-8c46-4bb7-bb6d-076e17d4c232\",\"type\":\"ColumnDataSource\"}],\"root_ids\":[\"e8a02eba-dfbf-41b9-ae8b-4e397dce61c6\"]},\"title\":\"Bokeh Application\",\"version\":\"0.12.3\"}};\n",
       "            var render_items = [{\"docid\":\"d3809f6c-76eb-4638-9cae-e1e0c903ea9e\",\"elementid\":\"08f43265-4cac-483c-b3d2-9b2f0219b242\",\"modelid\":\"e8a02eba-dfbf-41b9-ae8b-4e397dce61c6\"}];\n",
       "            \n",
       "            Bokeh.embed.embed_items(docs_json, render_items);\n",
       "        });\n",
       "      },\n",
       "      function(Bokeh) {\n",
       "      }\n",
       "    ];\n",
       "  \n",
       "    function run_inline_js() {\n",
       "      \n",
       "      if ((window.Bokeh !== undefined) || (force === \"1\")) {\n",
       "        for (var i = 0; i < inline_js.length; i++) {\n",
       "          inline_js[i](window.Bokeh);\n",
       "        }if (force === \"1\") {\n",
       "          display_loaded();\n",
       "        }} else if (Date.now() < window._bokeh_timeout) {\n",
       "        setTimeout(run_inline_js, 100);\n",
       "      } else if (!window._bokeh_failed_load) {\n",
       "        console.log(\"Bokeh: BokehJS failed to load within specified timeout.\");\n",
       "        window._bokeh_failed_load = true;\n",
       "      } else if (!force) {\n",
       "        var cell = $(\"#08f43265-4cac-483c-b3d2-9b2f0219b242\").parents('.cell').data().cell;\n",
       "        cell.output_area.append_execute_result(NB_LOAD_WARNING)\n",
       "      }\n",
       "  \n",
       "    }\n",
       "  \n",
       "    if (window._bokeh_is_loading === 0) {\n",
       "      console.log(\"Bokeh: BokehJS loaded, going straight to plotting\");\n",
       "      run_inline_js();\n",
       "    } else {\n",
       "      load_libs(js_urls, function() {\n",
       "        console.log(\"Bokeh: BokehJS plotting callback run at\", now());\n",
       "        run_inline_js();\n",
       "      });\n",
       "    }\n",
       "  }(this));\n",
       "</script>"
      ]
     },
     "metadata": {},
     "output_type": "display_data"
    }
   ],
   "source": [
    "from sklearn.preprocessing import StandardScaler\n",
    "from bokeh.charts import Scatter\n",
    "from bokeh.layouts import column\n",
    "from bokeh.models import Range1d\n",
    "\n",
    "range_ = Range1d(-10, 10)\n",
    "\n",
    "from sklearn.datasets import make_blobs\n",
    "dims, labels = make_blobs(n_samples=100, n_features=2, centers=1, cluster_std=3, center_box=(2, 2), shuffle=True)\n",
    "\n",
    "df_1 = pd.DataFrame.from_records(dims, columns=[\"first\", \"second\"])\n",
    "dims_scaler_1 = StandardScaler(copy=True, with_mean=True, with_std=False)\n",
    "\n",
    "dims2 = dims_scaler_1.fit(dims).transform(dims)\n",
    "df_2 = pd.DataFrame.from_records(dims2, columns=[\"first\", \"second\"])\n",
    "dims_scaler_2 = StandardScaler(copy=True, with_mean=True, with_std=True)\n",
    "df_3 = pd.DataFrame.from_records(dims_scaler_2.fit(dims).transform(dims), columns=[\"first\", \"second\"])\n",
    "s1 = Scatter(df_1, x=\"first\", y=\"second\")\n",
    "s1.y_range = range_\n",
    "s1.x_range = range_\n",
    "s2 = Scatter(df_2, x=\"first\", y=\"second\")\n",
    "s2.y_range = range_\n",
    "s2.x_range = range_\n",
    "s3 = Scatter(df_3, x=\"first\", y=\"second\")\n",
    "s3.y_range = range_\n",
    "s3.x_range = range_\n",
    "show(column(s1, s2, s3))\n"
   ]
  },
  {
   "cell_type": "markdown",
   "metadata": {},
   "source": [
    "## Iris\n",
    "\n",
    "See [here](http://archive.ics.uci.edu/ml/datasets/Iris) for more info about the dataset. The iris dataset is a classic in the machine learning community. \n",
    "\n",
    "[Scikit-learn documentation](http://scikit-learn.org/stable/auto_examples/datasets/plot_iris_dataset.html)"
   ]
  },
  {
   "cell_type": "code",
   "execution_count": 17,
   "metadata": {
    "collapsed": false
   },
   "outputs": [
    {
     "data": {
      "text/plain": [
       "0.31578947368421051"
      ]
     },
     "execution_count": 17,
     "metadata": {},
     "output_type": "execute_result"
    }
   ],
   "source": [
    "from sklearn import datasets\n",
    "iris = datasets.load_iris()\n",
    "\n",
    "scaler = StandardScaler()\n",
    "scaler = scaler.fit(iris.data)\n",
    "iris.data = scaler.transform(iris.data)\n",
    "\n",
    "from sklearn.model_selection import train_test_split\n",
    "from sklearn.dummy import DummyClassifier\n",
    "\n",
    "X_train, X_test, Y_train, Y_test = train_test_split(iris.data, iris.target)\n",
    "clf = DummyClassifier()\n",
    "clf.fit(X_train, Y_train)\n",
    "clf.score(X_test,Y_test)\n"
   ]
  },
  {
   "cell_type": "code",
   "execution_count": 18,
   "metadata": {
    "collapsed": false
   },
   "outputs": [
    {
     "data": {
      "text/plain": [
       "0.97368421052631582"
      ]
     },
     "execution_count": 18,
     "metadata": {},
     "output_type": "execute_result"
    }
   ],
   "source": [
    "from sklearn.svm import LinearSVC\n",
    "X_train, X_test, Y_train, Y_test = train_test_split(iris.data, iris.target)\n",
    "clf = LinearSVC()\n",
    "clf.fit(X_train, Y_train)\n",
    "clf.score(X_test,Y_test)"
   ]
  },
  {
   "cell_type": "code",
   "execution_count": 19,
   "metadata": {
    "collapsed": false
   },
   "outputs": [
    {
     "data": {
      "text/plain": [
       "0.92105263157894735"
      ]
     },
     "execution_count": 19,
     "metadata": {},
     "output_type": "execute_result"
    }
   ],
   "source": [
    "from sklearn.svm import SVC\n",
    "X_train, X_test, Y_train, Y_test = train_test_split(iris.data, iris.target)\n",
    "clf = SVC()\n",
    "clf.fit(X_train, Y_train)\n",
    "clf.score(X_test,Y_test)"
   ]
  },
  {
   "cell_type": "markdown",
   "metadata": {},
   "source": [
    "## CROSS-VALIDATION\n",
    "\n",
    "[Overfitting](http://scikit-learn.org/stable/auto_examples/model_selection/plot_underfitting_overfitting.html) is a real problem in training ML models. For this reason it is usually necessary to either withhold a third validation set or do [cross-validation](https://en.wikipedia.org/wiki/Cross-validation_%28statistics%29) . \n",
    "\n",
    "See also [Scikit-learn documentation](http://scikit-learn.org/stable/modules/cross_validation.html]).\n",
    "\n",
    "\n"
   ]
  },
  {
   "cell_type": "code",
   "execution_count": 29,
   "metadata": {
    "collapsed": false
   },
   "outputs": [],
   "source": [
    "from sklearn.model_selection import cross_val_score\n",
    "from sklearn.svm import SVC\n",
    "\n",
    "from sklearn.neighbors import KNeighborsClassifier\n",
    "iris = datasets.load_iris()\n",
    "\n",
    "clf1 = SVC()\n",
    "clf2 = KNeighborsClassifier()\n",
    "\n",
    "score1 = cross_val_score(clf1, iris.data, iris.target, cv=3)\n",
    "score2 = cross_val_score(clf2, iris.data, iris.target, cv=3)\n"
   ]
  },
  {
   "cell_type": "code",
   "execution_count": 27,
   "metadata": {
    "collapsed": false
   },
   "outputs": [
    {
     "name": "stdout",
     "output_type": "stream",
     "text": [
      "[ 0.96        0.93333333]\n",
      "[ 0.96  0.92]\n"
     ]
    }
   ],
   "source": [
    "print(score1)\n",
    "print(score2)"
   ]
  },
  {
   "cell_type": "markdown",
   "metadata": {},
   "source": [
    "## Cancer data\n",
    "\n",
    "[Description](https://archive.ics.uci.edu/ml/datasets/Breast+Cancer+Wisconsin+(Original)) of the dataset. \n",
    "\n"
   ]
  },
  {
   "cell_type": "code",
   "execution_count": 40,
   "metadata": {
    "collapsed": false
   },
   "outputs": [
    {
     "data": {
      "text/plain": [
       "array([0, 0, 0, 0, 0, 0, 0, 0, 0, 0, 0, 0, 0, 0, 0, 0, 0, 0, 0, 1, 1, 1, 0,\n",
       "       0, 0, 0, 0, 0, 0, 0, 0, 0, 0, 0, 0, 0, 0, 1, 0, 0, 0, 0, 0, 0, 0, 0,\n",
       "       1, 0, 1, 1, 1, 1, 1, 0, 0, 1, 0, 0, 1, 1, 1, 1, 0, 1, 0, 0, 1, 1, 1,\n",
       "       1, 0, 1, 0, 0, 1, 0, 1, 0, 0, 1, 1, 1, 0, 0, 1, 0, 0, 0, 1, 1, 1, 0,\n",
       "       1, 1, 0, 0, 1, 1, 1, 0, 0, 1, 1, 1, 1, 0, 1, 1, 0, 1, 1, 1, 1, 1, 1,\n",
       "       1, 1, 0, 0, 0, 1, 0, 0, 1, 1, 1, 0, 0, 1, 0, 1, 0, 0, 1, 0, 0, 1, 1,\n",
       "       0, 1, 1, 0, 1, 1, 1, 1, 0, 1, 1, 1, 1, 1, 1, 1, 1, 1, 0, 1, 1, 1, 1,\n",
       "       0, 0, 1, 0, 1, 1, 0, 0, 1, 1, 0, 0, 1, 1, 1, 1, 0, 1, 1, 0, 0, 0, 1,\n",
       "       0, 1, 0, 1, 1, 1, 0, 1, 1, 0, 0, 1, 0, 0, 0, 0, 1, 0, 0, 0, 1, 0, 1,\n",
       "       0, 1, 1, 0, 1, 0, 0, 0, 0, 1, 1, 0, 0, 1, 1, 1, 0, 1, 1, 1, 1, 1, 0,\n",
       "       0, 1, 1, 0, 1, 1, 0, 0, 1, 0, 1, 1, 1, 1, 0, 1, 1, 1, 1, 1, 0, 1, 0,\n",
       "       0, 0, 0, 0, 0, 0, 0, 0, 0, 0, 0, 0, 0, 1, 1, 1, 1, 1, 1, 0, 1, 0, 1,\n",
       "       1, 0, 1, 1, 0, 1, 0, 0, 1, 1, 1, 1, 1, 1, 1, 1, 1, 1, 1, 1, 1, 0, 1,\n",
       "       1, 0, 1, 0, 1, 1, 1, 1, 1, 1, 1, 1, 1, 1, 1, 1, 1, 1, 0, 1, 1, 1, 0,\n",
       "       1, 0, 1, 1, 1, 1, 0, 0, 0, 1, 1, 1, 1, 0, 1, 0, 1, 0, 1, 1, 1, 0, 1,\n",
       "       1, 1, 1, 1, 1, 1, 0, 0, 0, 1, 1, 1, 1, 1, 1, 1, 1, 1, 1, 1, 0, 0, 1,\n",
       "       0, 0, 0, 1, 0, 0, 1, 1, 1, 1, 1, 0, 1, 1, 1, 1, 1, 0, 1, 1, 1, 0, 1,\n",
       "       1, 0, 0, 1, 1, 1, 1, 1, 1, 0, 1, 1, 1, 1, 1, 1, 1, 0, 1, 1, 1, 1, 1,\n",
       "       0, 1, 1, 0, 1, 1, 1, 1, 1, 1, 1, 1, 1, 1, 1, 1, 0, 1, 0, 0, 1, 0, 1,\n",
       "       1, 1, 1, 1, 0, 1, 1, 0, 1, 0, 1, 1, 0, 1, 0, 1, 1, 1, 1, 1, 1, 1, 1,\n",
       "       0, 0, 1, 1, 1, 1, 1, 1, 0, 1, 1, 1, 1, 1, 1, 1, 1, 1, 1, 0, 1, 1, 1,\n",
       "       1, 1, 1, 1, 0, 1, 0, 1, 1, 0, 1, 1, 1, 1, 1, 0, 0, 1, 0, 1, 0, 1, 1,\n",
       "       1, 1, 1, 0, 1, 1, 0, 1, 0, 1, 0, 0, 1, 1, 1, 0, 1, 1, 1, 1, 1, 1, 1,\n",
       "       1, 1, 1, 1, 0, 1, 0, 0, 1, 1, 1, 1, 1, 1, 1, 1, 1, 1, 1, 1, 1, 1, 1,\n",
       "       1, 1, 1, 1, 1, 1, 1, 1, 1, 1, 0, 0, 0, 0, 0, 0, 1])"
      ]
     },
     "execution_count": 40,
     "metadata": {},
     "output_type": "execute_result"
    }
   ],
   "source": [
    "from sklearn.datasets import load_breast_cancer\n",
    "cancer = load_breast_cancer()\n",
    "X_train, X_test, Y_train, Y_test = train_test_split(cancer.data, cancer.target)\n",
    "#clf = DummyClassifier()\n",
    "#clf.fit(X_train, Y_train)\n",
    "#clf.score(X_test,Y_test)\n",
    "cancer.target"
   ]
  },
  {
   "cell_type": "code",
   "execution_count": 47,
   "metadata": {
    "collapsed": false
   },
   "outputs": [
    {
     "data": {
      "text/plain": [
       "0.74825174825174823"
      ]
     },
     "execution_count": 47,
     "metadata": {},
     "output_type": "execute_result"
    }
   ],
   "source": [
    "#example\n",
    "from sklearn.svm import LinearSVC\n",
    "X_train, X_test, Y_train, Y_test = train_test_split(cancer.data, cancer.target)\n",
    "clf = LinearSVC()\n",
    "clf.fit(X_train, Y_train)\n",
    "clf.score(X_test,Y_test)\n",
    "\n",
    "\n"
   ]
  },
  {
   "cell_type": "code",
   "execution_count": 45,
   "metadata": {
    "collapsed": false
   },
   "outputs": [
    {
     "name": "stdout",
     "output_type": "stream",
     "text": [
      "<generator object <genexpr> at 0x109df55c8>\n"
     ]
    },
    {
     "ename": "TypeError",
     "evalue": "Singleton array array(<generator object <genexpr> at 0x109df55c8>, dtype=object) cannot be considered a valid collection.",
     "output_type": "error",
     "traceback": [
      "\u001b[0;31m---------------------------------------------------------------------------\u001b[0m",
      "\u001b[0;31mTypeError\u001b[0m                                 Traceback (most recent call last)",
      "\u001b[0;32m<ipython-input-45-f056eb5ddf57>\u001b[0m in \u001b[0;36m<module>\u001b[0;34m()\u001b[0m\n\u001b[1;32m      8\u001b[0m \u001b[0;32mfrom\u001b[0m \u001b[0msklearn\u001b[0m\u001b[0;34m.\u001b[0m\u001b[0msvm\u001b[0m \u001b[0;32mimport\u001b[0m \u001b[0mSVC\u001b[0m\u001b[0;34m\u001b[0m\u001b[0m\n\u001b[1;32m      9\u001b[0m \u001b[0;32mfrom\u001b[0m \u001b[0msklearn\u001b[0m\u001b[0;34m.\u001b[0m\u001b[0mmodel_selection\u001b[0m \u001b[0;32mimport\u001b[0m \u001b[0mcross_val_score\u001b[0m\u001b[0;34m\u001b[0m\u001b[0m\n\u001b[0;32m---> 10\u001b[0;31m \u001b[0mx1\u001b[0m\u001b[0;34m,\u001b[0m \u001b[0mx2\u001b[0m\u001b[0;34m,\u001b[0m \u001b[0my1\u001b[0m\u001b[0;34m,\u001b[0m \u001b[0my2\u001b[0m \u001b[0;34m=\u001b[0m \u001b[0mtrain_test_split\u001b[0m\u001b[0;34m(\u001b[0m\u001b[0mdata\u001b[0m\u001b[0;34m,\u001b[0m \u001b[0mtarget\u001b[0m\u001b[0;34m)\u001b[0m\u001b[0;34m\u001b[0m\u001b[0m\n\u001b[0m\u001b[1;32m     11\u001b[0m \u001b[0mclf\u001b[0m \u001b[0;34m=\u001b[0m \u001b[0mSVC\u001b[0m\u001b[0;34m(\u001b[0m\u001b[0;34m)\u001b[0m\u001b[0;34m\u001b[0m\u001b[0m\n\u001b[1;32m     12\u001b[0m \u001b[0mx1\u001b[0m\u001b[0;34m.\u001b[0m\u001b[0mshape\u001b[0m\u001b[0;34m\u001b[0m\u001b[0m\n",
      "\u001b[0;32m/Users/suvileht/.envs/jupyter/lib/python3.5/site-packages/sklearn/model_selection/_split.py\u001b[0m in \u001b[0;36mtrain_test_split\u001b[0;34m(*arrays, **options)\u001b[0m\n\u001b[1;32m   1660\u001b[0m         \u001b[0mtest_size\u001b[0m \u001b[0;34m=\u001b[0m \u001b[0;36m0.25\u001b[0m\u001b[0;34m\u001b[0m\u001b[0m\n\u001b[1;32m   1661\u001b[0m \u001b[0;34m\u001b[0m\u001b[0m\n\u001b[0;32m-> 1662\u001b[0;31m     \u001b[0marrays\u001b[0m \u001b[0;34m=\u001b[0m \u001b[0mindexable\u001b[0m\u001b[0;34m(\u001b[0m\u001b[0;34m*\u001b[0m\u001b[0marrays\u001b[0m\u001b[0;34m)\u001b[0m\u001b[0;34m\u001b[0m\u001b[0m\n\u001b[0m\u001b[1;32m   1663\u001b[0m \u001b[0;34m\u001b[0m\u001b[0m\n\u001b[1;32m   1664\u001b[0m     \u001b[0;32mif\u001b[0m \u001b[0mstratify\u001b[0m \u001b[0;32mis\u001b[0m \u001b[0;32mnot\u001b[0m \u001b[0;32mNone\u001b[0m\u001b[0;34m:\u001b[0m\u001b[0;34m\u001b[0m\u001b[0m\n",
      "\u001b[0;32m/Users/suvileht/.envs/jupyter/lib/python3.5/site-packages/sklearn/utils/validation.py\u001b[0m in \u001b[0;36mindexable\u001b[0;34m(*iterables)\u001b[0m\n\u001b[1;32m    204\u001b[0m         \u001b[0;32melse\u001b[0m\u001b[0;34m:\u001b[0m\u001b[0;34m\u001b[0m\u001b[0m\n\u001b[1;32m    205\u001b[0m             \u001b[0mresult\u001b[0m\u001b[0;34m.\u001b[0m\u001b[0mappend\u001b[0m\u001b[0;34m(\u001b[0m\u001b[0mnp\u001b[0m\u001b[0;34m.\u001b[0m\u001b[0marray\u001b[0m\u001b[0;34m(\u001b[0m\u001b[0mX\u001b[0m\u001b[0;34m)\u001b[0m\u001b[0;34m)\u001b[0m\u001b[0;34m\u001b[0m\u001b[0m\n\u001b[0;32m--> 206\u001b[0;31m     \u001b[0mcheck_consistent_length\u001b[0m\u001b[0;34m(\u001b[0m\u001b[0;34m*\u001b[0m\u001b[0mresult\u001b[0m\u001b[0;34m)\u001b[0m\u001b[0;34m\u001b[0m\u001b[0m\n\u001b[0m\u001b[1;32m    207\u001b[0m     \u001b[0;32mreturn\u001b[0m \u001b[0mresult\u001b[0m\u001b[0;34m\u001b[0m\u001b[0m\n\u001b[1;32m    208\u001b[0m \u001b[0;34m\u001b[0m\u001b[0m\n",
      "\u001b[0;32m/Users/suvileht/.envs/jupyter/lib/python3.5/site-packages/sklearn/utils/validation.py\u001b[0m in \u001b[0;36mcheck_consistent_length\u001b[0;34m(*arrays)\u001b[0m\n\u001b[1;32m    175\u001b[0m     \"\"\"\n\u001b[1;32m    176\u001b[0m \u001b[0;34m\u001b[0m\u001b[0m\n\u001b[0;32m--> 177\u001b[0;31m     \u001b[0mlengths\u001b[0m \u001b[0;34m=\u001b[0m \u001b[0;34m[\u001b[0m\u001b[0m_num_samples\u001b[0m\u001b[0;34m(\u001b[0m\u001b[0mX\u001b[0m\u001b[0;34m)\u001b[0m \u001b[0;32mfor\u001b[0m \u001b[0mX\u001b[0m \u001b[0;32min\u001b[0m \u001b[0marrays\u001b[0m \u001b[0;32mif\u001b[0m \u001b[0mX\u001b[0m \u001b[0;32mis\u001b[0m \u001b[0;32mnot\u001b[0m \u001b[0;32mNone\u001b[0m\u001b[0;34m]\u001b[0m\u001b[0;34m\u001b[0m\u001b[0m\n\u001b[0m\u001b[1;32m    178\u001b[0m     \u001b[0muniques\u001b[0m \u001b[0;34m=\u001b[0m \u001b[0mnp\u001b[0m\u001b[0;34m.\u001b[0m\u001b[0munique\u001b[0m\u001b[0;34m(\u001b[0m\u001b[0mlengths\u001b[0m\u001b[0;34m)\u001b[0m\u001b[0;34m\u001b[0m\u001b[0m\n\u001b[1;32m    179\u001b[0m     \u001b[0;32mif\u001b[0m \u001b[0mlen\u001b[0m\u001b[0;34m(\u001b[0m\u001b[0muniques\u001b[0m\u001b[0;34m)\u001b[0m \u001b[0;34m>\u001b[0m \u001b[0;36m1\u001b[0m\u001b[0;34m:\u001b[0m\u001b[0;34m\u001b[0m\u001b[0m\n",
      "\u001b[0;32m/Users/suvileht/.envs/jupyter/lib/python3.5/site-packages/sklearn/utils/validation.py\u001b[0m in \u001b[0;36m<listcomp>\u001b[0;34m(.0)\u001b[0m\n\u001b[1;32m    175\u001b[0m     \"\"\"\n\u001b[1;32m    176\u001b[0m \u001b[0;34m\u001b[0m\u001b[0m\n\u001b[0;32m--> 177\u001b[0;31m     \u001b[0mlengths\u001b[0m \u001b[0;34m=\u001b[0m \u001b[0;34m[\u001b[0m\u001b[0m_num_samples\u001b[0m\u001b[0;34m(\u001b[0m\u001b[0mX\u001b[0m\u001b[0;34m)\u001b[0m \u001b[0;32mfor\u001b[0m \u001b[0mX\u001b[0m \u001b[0;32min\u001b[0m \u001b[0marrays\u001b[0m \u001b[0;32mif\u001b[0m \u001b[0mX\u001b[0m \u001b[0;32mis\u001b[0m \u001b[0;32mnot\u001b[0m \u001b[0;32mNone\u001b[0m\u001b[0;34m]\u001b[0m\u001b[0;34m\u001b[0m\u001b[0m\n\u001b[0m\u001b[1;32m    178\u001b[0m     \u001b[0muniques\u001b[0m \u001b[0;34m=\u001b[0m \u001b[0mnp\u001b[0m\u001b[0;34m.\u001b[0m\u001b[0munique\u001b[0m\u001b[0;34m(\u001b[0m\u001b[0mlengths\u001b[0m\u001b[0;34m)\u001b[0m\u001b[0;34m\u001b[0m\u001b[0m\n\u001b[1;32m    179\u001b[0m     \u001b[0;32mif\u001b[0m \u001b[0mlen\u001b[0m\u001b[0;34m(\u001b[0m\u001b[0muniques\u001b[0m\u001b[0;34m)\u001b[0m \u001b[0;34m>\u001b[0m \u001b[0;36m1\u001b[0m\u001b[0;34m:\u001b[0m\u001b[0;34m\u001b[0m\u001b[0m\n",
      "\u001b[0;32m/Users/suvileht/.envs/jupyter/lib/python3.5/site-packages/sklearn/utils/validation.py\u001b[0m in \u001b[0;36m_num_samples\u001b[0;34m(x)\u001b[0m\n\u001b[1;32m    124\u001b[0m         \u001b[0;32mif\u001b[0m \u001b[0mlen\u001b[0m\u001b[0;34m(\u001b[0m\u001b[0mx\u001b[0m\u001b[0;34m.\u001b[0m\u001b[0mshape\u001b[0m\u001b[0;34m)\u001b[0m \u001b[0;34m==\u001b[0m \u001b[0;36m0\u001b[0m\u001b[0;34m:\u001b[0m\u001b[0;34m\u001b[0m\u001b[0m\n\u001b[1;32m    125\u001b[0m             raise TypeError(\"Singleton array %r cannot be considered\"\n\u001b[0;32m--> 126\u001b[0;31m                             \" a valid collection.\" % x)\n\u001b[0m\u001b[1;32m    127\u001b[0m         \u001b[0;32mreturn\u001b[0m \u001b[0mx\u001b[0m\u001b[0;34m.\u001b[0m\u001b[0mshape\u001b[0m\u001b[0;34m[\u001b[0m\u001b[0;36m0\u001b[0m\u001b[0;34m]\u001b[0m\u001b[0;34m\u001b[0m\u001b[0m\n\u001b[1;32m    128\u001b[0m     \u001b[0;32melse\u001b[0m\u001b[0;34m:\u001b[0m\u001b[0;34m\u001b[0m\u001b[0m\n",
      "\u001b[0;31mTypeError\u001b[0m: Singleton array array(<generator object <genexpr> at 0x109df55c8>, dtype=object) cannot be considered a valid collection."
     ]
    }
   ],
   "source": [
    "from sklearn.model_selection import train_test_split\n",
    "\n",
    "data = pd.read_csv(\"./cancer.csv\", usecols=range(2,11)).as_matrix()\n",
    "target = pd.read_csv(\"./cancer.csv\", usecols=[11]).replace(\"malignant\", 1).replace(\"benign\", 2).as_matrix()\n",
    "target = np.fromfile(\"./cancer.csv\")\n",
    "target = np.array(int(x) for x in target)\n",
    "print(target)\n",
    "from sklearn.svm import SVC\n",
    "from sklearn.model_selection import cross_val_score\n",
    "x1, x2, y1, y2 = train_test_split(data, target)\n",
    "clf = SVC()\n",
    "x1.shape\n",
    "y1.shape\n",
    "clf.fit(x1, y1)\n",
    "clf.score(x2, y2)"
   ]
  },
  {
   "cell_type": "markdown",
   "metadata": {
    "collapsed": false
   },
   "source": [
    "# 20 NEWSGROUPS\n",
    "\n",
    "The [20 newsgroups](https://archive.ics.uci.edu/ml/datasets/Twenty+Newsgroups) dataset contains discussions from 20 Usenet news discussion groups.\n",
    "\n",
    "As the data is text and not numeric we need to transform it into a numeric format first as a form of preprocessing. To do so we use the rather intuitive [inverse document frequency](https://en.wikipedia.org/wiki/Tf%E2%80%93idf) to obtain weights [TfidfVectorizer](http://scikit-learn.org/stable/modules/generated/sklearn.feature_extraction.text.TfidfVectorizer.html) . This is way the more important terms get larger weights and more common terms get smaller weights."
   ]
  },
  {
   "cell_type": "code",
   "execution_count": 17,
   "metadata": {
    "collapsed": false
   },
   "outputs": [
    {
     "name": "stdout",
     "output_type": "stream",
     "text": [
      "(11314, 130107)\n",
      "1787565\n",
      "0.001214353154362896\n"
     ]
    }
   ],
   "source": [
    "from sklearn.datasets import fetch_20newsgroups\n",
    "from sklearn.feature_extraction.text import TfidfVectorizer\n",
    "#cats = ['alt.atheism', 'sci.space']\n",
    "newsgroups_train = fetch_20newsgroups(subset='train')#, categories=cats)\n",
    "newsgroups_test = fetch_20newsgroups(subset='test')#, categories=cats)\n",
    "vectorizer = TfidfVectorizer()\n",
    "vectorized = vectorizer.fit_transform(newsgroups_train.data)\n",
    "vectorized_test = vectorizer.transform(newsgroups_test.data)\n",
    "print(vectorized.shape)\n",
    "print(vectorized.count_nonzero())\n",
    "print(vectorized.count_nonzero()/(vectorized.shape[0]*vectorized.shape[1]))#ratio"
   ]
  },
  {
   "cell_type": "code",
   "execution_count": 14,
   "metadata": {
    "collapsed": false
   },
   "outputs": [
    {
     "data": {
      "text/plain": [
       "1787565"
      ]
     },
     "execution_count": 14,
     "metadata": {},
     "output_type": "execute_result"
    }
   ],
   "source": [
    "vectorized.size"
   ]
  },
  {
   "cell_type": "markdown",
   "metadata": {
    "collapsed": false
   },
   "source": [
    "As you can see the dataset has roughly 11 000 rows and 130 000 columns. The matrix is [sparse](https://en.wikipedia.org/wiki/Sparse_matrix), \n",
    "as is typical for text matrices. \n",
    "\n",
    "The original file in zipped format is 17 megabytes. Assuming 4 bytes per cell (i.e. a single precision float), the memory \n",
    "taken up by the data is 11k*130k*4 ~ 5.7 gigabytes! Yet only roughly 0.1% of the cells are nonzero. \n",
    "Fortunately Scikit (and NumPy) support sparse matrices.\n",
    "\n",
    "Any assumptions about the data columns being normally distributed can be thrown out of the window. \n",
    "\n",
    "Fortunately a Naive Bayes classifier can be fitted with a single read-through of the data."
   ]
  },
  {
   "cell_type": "code",
   "execution_count": null,
   "metadata": {
    "collapsed": false
   },
   "outputs": [
    {
     "data": {
      "text/plain": [
       "0.83523632501327671"
      ]
     },
     "execution_count": 4,
     "metadata": {},
     "output_type": "execute_result"
    }
   ],
   "source": [
    "from sklearn.naive_bayes import MultinomialNB\n",
    "classifier = MultinomialNB(alpha=0.01)\n",
    "classifier.fit(vectorized, newsgroups_train.target)\n",
    "\n",
    "classifier.score(vectorized_test, newsgroups_test.target)"
   ]
  },
  {
   "cell_type": "code",
   "execution_count": null,
   "metadata": {
    "collapsed": false
   },
   "outputs": [],
   "source": [
    "#from sklearn.decomposition import PCA\n",
    "from sklearn.svm import SVC\n",
    "from sklearn.decomposition import TruncatedSVD\n",
    "svd = TruncatedSVD(n_components = 200)\n",
    "svd.fit(vectorized)\n",
    "svd_vectorized = svd.transform(vectorized)\n",
    "svd_vectorized_test = svd.transform(vectorized_test)\n",
    "clf = SVC()\n",
    "clf.fit(pca_vectorized, newsgroups_train.target)\n",
    "clf.score(pca_vectorized_test, newsgroups_test.target)"
   ]
  },
  {
   "cell_type": "markdown",
   "metadata": {
    "collapsed": true
   },
   "source": [
    "## Handwritten digits\n",
    "\n",
    "The [handwritten digits](http://scikit-learn.org/stable/auto_examples/classification/plot_digits_classification.html) dataset benefits particularly much from scaling.\n",
    "\n",
    "Try it out without the scaling feature!"
   ]
  },
  {
   "cell_type": "code",
   "execution_count": 22,
   "metadata": {
    "collapsed": false
   },
   "outputs": [
    {
     "data": {
      "text/plain": [
       "array([ 0.96179402,  0.95993322,  0.95134228])"
      ]
     },
     "execution_count": 22,
     "metadata": {},
     "output_type": "execute_result"
    }
   ],
   "source": [
    "from sklearn.datasets import load_digits\n",
    "from sklearn.preprocessing import scale\n",
    "digits = load_digits()\n",
    "digits.data = scale(digits.data)\n",
    "n_samples = len(digits.images)\n",
    "data = digits.images.reshape((n_samples, -1))\n",
    "from sklearn.svm import SVC\n",
    "clf = SVC()\n",
    "from sklearn.model_selection import cross_val_score\n",
    "cross_val_score(clf, scale(digits.data), digits.target)"
   ]
  },
  {
   "cell_type": "code",
   "execution_count": 8,
   "metadata": {
    "collapsed": false
   },
   "outputs": [
    {
     "data": {
      "text/plain": [
       "array([ 0.91860465,  0.88146912,  0.91610738])"
      ]
     },
     "execution_count": 8,
     "metadata": {},
     "output_type": "execute_result"
    }
   ],
   "source": []
  },
  {
   "cell_type": "code",
   "execution_count": null,
   "metadata": {
    "collapsed": true
   },
   "outputs": [],
   "source": []
  }
 ],
 "metadata": {
  "kernelspec": {
   "display_name": "Python 3",
   "language": "python",
   "name": "python3"
  },
  "language_info": {
   "codemirror_mode": {
    "name": "ipython",
    "version": 3
   },
   "file_extension": ".py",
   "mimetype": "text/x-python",
   "name": "python",
   "nbconvert_exporter": "python",
   "pygments_lexer": "ipython3",
   "version": "3.5.2"
  }
 },
 "nbformat": 4,
 "nbformat_minor": 1
}
