{
 "cells": [
  {
   "cell_type": "code",
   "execution_count": null,
   "metadata": {
    "collapsed": true
   },
   "outputs": [],
   "source": [
    "#Classification using Scikit-Learn"
   ]
  },
  {
   "cell_type": "code",
   "execution_count": 14,
   "metadata": {
    "collapsed": true
   },
   "outputs": [],
   "source": [
    "import numpy as np\n",
    "\n",
    "from bokeh.plotting import figure, show, save\n",
    "\n",
    "from bokeh.io import output_notebook, output_file\n",
    "import pandas as pd"
   ]
  },
  {
   "cell_type": "code",
   "execution_count": 15,
   "metadata": {
    "collapsed": false
   },
   "outputs": [
    {
     "data": {
      "text/html": [
       "\n",
       "    <div class=\"bk-root\">\n",
       "        <a href=\"http://bokeh.pydata.org\" target=\"_blank\" class=\"bk-logo bk-logo-small bk-logo-notebook\"></a>\n",
       "        <span id=\"bfffa1f3-01ec-48ed-9c3f-b9c6c69c4f00\">Loading BokehJS ...</span>\n",
       "    </div>"
      ]
     },
     "metadata": {},
     "output_type": "display_data"
    },
    {
     "data": {
      "application/javascript": [
       "\n",
       "(function(global) {\n",
       "  function now() {\n",
       "    return new Date();\n",
       "  }\n",
       "\n",
       "  var force = \"1\";\n",
       "\n",
       "  if (typeof (window._bokeh_onload_callbacks) === \"undefined\" || force !== \"\") {\n",
       "    window._bokeh_onload_callbacks = [];\n",
       "    window._bokeh_is_loading = undefined;\n",
       "  }\n",
       "\n",
       "\n",
       "  \n",
       "  if (typeof (window._bokeh_timeout) === \"undefined\" || force !== \"\") {\n",
       "    window._bokeh_timeout = Date.now() + 5000;\n",
       "    window._bokeh_failed_load = false;\n",
       "  }\n",
       "\n",
       "  var NB_LOAD_WARNING = {'data': {'text/html':\n",
       "     \"<div style='background-color: #fdd'>\\n\"+\n",
       "     \"<p>\\n\"+\n",
       "     \"BokehJS does not appear to have successfully loaded. If loading BokehJS from CDN, this \\n\"+\n",
       "     \"may be due to a slow or bad network connection. Possible fixes:\\n\"+\n",
       "     \"</p>\\n\"+\n",
       "     \"<ul>\\n\"+\n",
       "     \"<li>re-rerun `output_notebook()` to attempt to load from CDN again, or</li>\\n\"+\n",
       "     \"<li>use INLINE resources instead, as so:</li>\\n\"+\n",
       "     \"</ul>\\n\"+\n",
       "     \"<code>\\n\"+\n",
       "     \"from bokeh.resources import INLINE\\n\"+\n",
       "     \"output_notebook(resources=INLINE)\\n\"+\n",
       "     \"</code>\\n\"+\n",
       "     \"</div>\"}};\n",
       "\n",
       "  function display_loaded() {\n",
       "    if (window.Bokeh !== undefined) {\n",
       "      Bokeh.$(\"#bfffa1f3-01ec-48ed-9c3f-b9c6c69c4f00\").text(\"BokehJS successfully loaded.\");\n",
       "    } else if (Date.now() < window._bokeh_timeout) {\n",
       "      setTimeout(display_loaded, 100)\n",
       "    }\n",
       "  }\n",
       "\n",
       "  function run_callbacks() {\n",
       "    window._bokeh_onload_callbacks.forEach(function(callback) { callback() });\n",
       "    delete window._bokeh_onload_callbacks\n",
       "    console.info(\"Bokeh: all callbacks have finished\");\n",
       "  }\n",
       "\n",
       "  function load_libs(js_urls, callback) {\n",
       "    window._bokeh_onload_callbacks.push(callback);\n",
       "    if (window._bokeh_is_loading > 0) {\n",
       "      console.log(\"Bokeh: BokehJS is being loaded, scheduling callback at\", now());\n",
       "      return null;\n",
       "    }\n",
       "    if (js_urls == null || js_urls.length === 0) {\n",
       "      run_callbacks();\n",
       "      return null;\n",
       "    }\n",
       "    console.log(\"Bokeh: BokehJS not loaded, scheduling load and callback at\", now());\n",
       "    window._bokeh_is_loading = js_urls.length;\n",
       "    for (var i = 0; i < js_urls.length; i++) {\n",
       "      var url = js_urls[i];\n",
       "      var s = document.createElement('script');\n",
       "      s.src = url;\n",
       "      s.async = false;\n",
       "      s.onreadystatechange = s.onload = function() {\n",
       "        window._bokeh_is_loading--;\n",
       "        if (window._bokeh_is_loading === 0) {\n",
       "          console.log(\"Bokeh: all BokehJS libraries loaded\");\n",
       "          run_callbacks()\n",
       "        }\n",
       "      };\n",
       "      s.onerror = function() {\n",
       "        console.warn(\"failed to load library \" + url);\n",
       "      };\n",
       "      console.log(\"Bokeh: injecting script tag for BokehJS library: \", url);\n",
       "      document.getElementsByTagName(\"head\")[0].appendChild(s);\n",
       "    }\n",
       "  };var element = document.getElementById(\"bfffa1f3-01ec-48ed-9c3f-b9c6c69c4f00\");\n",
       "  if (element == null) {\n",
       "    console.log(\"Bokeh: ERROR: autoload.js configured with elementid 'bfffa1f3-01ec-48ed-9c3f-b9c6c69c4f00' but no matching script tag was found. \")\n",
       "    return false;\n",
       "  }\n",
       "\n",
       "  var js_urls = ['https://cdn.pydata.org/bokeh/release/bokeh-0.12.3.min.js', 'https://cdn.pydata.org/bokeh/release/bokeh-widgets-0.12.3.min.js'];\n",
       "\n",
       "  var inline_js = [\n",
       "    function(Bokeh) {\n",
       "      Bokeh.set_log_level(\"info\");\n",
       "    },\n",
       "    \n",
       "    function(Bokeh) {\n",
       "      \n",
       "      Bokeh.$(\"#bfffa1f3-01ec-48ed-9c3f-b9c6c69c4f00\").text(\"BokehJS is loading...\");\n",
       "    },\n",
       "    function(Bokeh) {\n",
       "      console.log(\"Bokeh: injecting CSS: https://cdn.pydata.org/bokeh/release/bokeh-0.12.3.min.css\");\n",
       "      Bokeh.embed.inject_css(\"https://cdn.pydata.org/bokeh/release/bokeh-0.12.3.min.css\");\n",
       "      console.log(\"Bokeh: injecting CSS: https://cdn.pydata.org/bokeh/release/bokeh-widgets-0.12.3.min.css\");\n",
       "      Bokeh.embed.inject_css(\"https://cdn.pydata.org/bokeh/release/bokeh-widgets-0.12.3.min.css\");\n",
       "    }\n",
       "  ];\n",
       "\n",
       "  function run_inline_js() {\n",
       "    \n",
       "    if ((window.Bokeh !== undefined) || (force === \"1\")) {\n",
       "      for (var i = 0; i < inline_js.length; i++) {\n",
       "        inline_js[i](window.Bokeh);\n",
       "      }if (force === \"1\") {\n",
       "        display_loaded();\n",
       "      }} else if (Date.now() < window._bokeh_timeout) {\n",
       "      setTimeout(run_inline_js, 100);\n",
       "    } else if (!window._bokeh_failed_load) {\n",
       "      console.log(\"Bokeh: BokehJS failed to load within specified timeout.\");\n",
       "      window._bokeh_failed_load = true;\n",
       "    } else if (!force) {\n",
       "      var cell = $(\"#bfffa1f3-01ec-48ed-9c3f-b9c6c69c4f00\").parents('.cell').data().cell;\n",
       "      cell.output_area.append_execute_result(NB_LOAD_WARNING)\n",
       "    }\n",
       "\n",
       "  }\n",
       "\n",
       "  if (window._bokeh_is_loading === 0) {\n",
       "    console.log(\"Bokeh: BokehJS loaded, going straight to plotting\");\n",
       "    run_inline_js();\n",
       "  } else {\n",
       "    load_libs(js_urls, function() {\n",
       "      console.log(\"Bokeh: BokehJS plotting callback run at\", now());\n",
       "      run_inline_js();\n",
       "    });\n",
       "  }\n",
       "}(this));"
      ]
     },
     "metadata": {},
     "output_type": "display_data"
    }
   ],
   "source": [
    "output_notebook()"
   ]
  },
  {
   "cell_type": "code",
   "execution_count": 70,
   "metadata": {
    "collapsed": false
   },
   "outputs": [
    {
     "data": {
      "text/html": [
       "\n",
       "\n",
       "    <div class=\"bk-root\">\n",
       "        <div class=\"plotdiv\" id=\"03c3935d-9623-49ea-bf62-0a1b395b147a\"></div>\n",
       "    </div>\n",
       "<script type=\"text/javascript\">\n",
       "  \n",
       "  (function(global) {\n",
       "    function now() {\n",
       "      return new Date();\n",
       "    }\n",
       "  \n",
       "    var force = \"\";\n",
       "  \n",
       "    if (typeof (window._bokeh_onload_callbacks) === \"undefined\" || force !== \"\") {\n",
       "      window._bokeh_onload_callbacks = [];\n",
       "      window._bokeh_is_loading = undefined;\n",
       "    }\n",
       "  \n",
       "  \n",
       "    \n",
       "    if (typeof (window._bokeh_timeout) === \"undefined\" || force !== \"\") {\n",
       "      window._bokeh_timeout = Date.now() + 0;\n",
       "      window._bokeh_failed_load = false;\n",
       "    }\n",
       "  \n",
       "    var NB_LOAD_WARNING = {'data': {'text/html':\n",
       "       \"<div style='background-color: #fdd'>\\n\"+\n",
       "       \"<p>\\n\"+\n",
       "       \"BokehJS does not appear to have successfully loaded. If loading BokehJS from CDN, this \\n\"+\n",
       "       \"may be due to a slow or bad network connection. Possible fixes:\\n\"+\n",
       "       \"</p>\\n\"+\n",
       "       \"<ul>\\n\"+\n",
       "       \"<li>re-rerun `output_notebook()` to attempt to load from CDN again, or</li>\\n\"+\n",
       "       \"<li>use INLINE resources instead, as so:</li>\\n\"+\n",
       "       \"</ul>\\n\"+\n",
       "       \"<code>\\n\"+\n",
       "       \"from bokeh.resources import INLINE\\n\"+\n",
       "       \"output_notebook(resources=INLINE)\\n\"+\n",
       "       \"</code>\\n\"+\n",
       "       \"</div>\"}};\n",
       "  \n",
       "    function display_loaded() {\n",
       "      if (window.Bokeh !== undefined) {\n",
       "        Bokeh.$(\"#03c3935d-9623-49ea-bf62-0a1b395b147a\").text(\"BokehJS successfully loaded.\");\n",
       "      } else if (Date.now() < window._bokeh_timeout) {\n",
       "        setTimeout(display_loaded, 100)\n",
       "      }\n",
       "    }\n",
       "  \n",
       "    function run_callbacks() {\n",
       "      window._bokeh_onload_callbacks.forEach(function(callback) { callback() });\n",
       "      delete window._bokeh_onload_callbacks\n",
       "      console.info(\"Bokeh: all callbacks have finished\");\n",
       "    }\n",
       "  \n",
       "    function load_libs(js_urls, callback) {\n",
       "      window._bokeh_onload_callbacks.push(callback);\n",
       "      if (window._bokeh_is_loading > 0) {\n",
       "        console.log(\"Bokeh: BokehJS is being loaded, scheduling callback at\", now());\n",
       "        return null;\n",
       "      }\n",
       "      if (js_urls == null || js_urls.length === 0) {\n",
       "        run_callbacks();\n",
       "        return null;\n",
       "      }\n",
       "      console.log(\"Bokeh: BokehJS not loaded, scheduling load and callback at\", now());\n",
       "      window._bokeh_is_loading = js_urls.length;\n",
       "      for (var i = 0; i < js_urls.length; i++) {\n",
       "        var url = js_urls[i];\n",
       "        var s = document.createElement('script');\n",
       "        s.src = url;\n",
       "        s.async = false;\n",
       "        s.onreadystatechange = s.onload = function() {\n",
       "          window._bokeh_is_loading--;\n",
       "          if (window._bokeh_is_loading === 0) {\n",
       "            console.log(\"Bokeh: all BokehJS libraries loaded\");\n",
       "            run_callbacks()\n",
       "          }\n",
       "        };\n",
       "        s.onerror = function() {\n",
       "          console.warn(\"failed to load library \" + url);\n",
       "        };\n",
       "        console.log(\"Bokeh: injecting script tag for BokehJS library: \", url);\n",
       "        document.getElementsByTagName(\"head\")[0].appendChild(s);\n",
       "      }\n",
       "    };var element = document.getElementById(\"03c3935d-9623-49ea-bf62-0a1b395b147a\");\n",
       "    if (element == null) {\n",
       "      console.log(\"Bokeh: ERROR: autoload.js configured with elementid '03c3935d-9623-49ea-bf62-0a1b395b147a' but no matching script tag was found. \")\n",
       "      return false;\n",
       "    }\n",
       "  \n",
       "    var js_urls = [];\n",
       "  \n",
       "    var inline_js = [\n",
       "      function(Bokeh) {\n",
       "        Bokeh.$(function() {\n",
       "            var docs_json = {\"35190833-0bc0-4ba8-9799-6470dcec9619\":{\"roots\":{\"references\":[{\"attributes\":{\"active_drag\":\"auto\",\"active_scroll\":\"auto\",\"active_tap\":\"auto\",\"tools\":[{\"id\":\"f17ed2c1-b00d-489b-ba70-5f5baf6c9aff\",\"type\":\"PanTool\"},{\"id\":\"9b8f2c29-c0c3-4447-bb65-d0b732e0a9c0\",\"type\":\"WheelZoomTool\"},{\"id\":\"369e4a7b-858f-4faa-91e5-b156a6750fc4\",\"type\":\"BoxZoomTool\"},{\"id\":\"548b4369-6880-4ba2-ab46-8dce518f4d4a\",\"type\":\"SaveTool\"},{\"id\":\"f3e5c32f-491d-47ff-a9c1-03f1d95a48b8\",\"type\":\"ResetTool\"},{\"id\":\"5120fdf7-0f62-4d97-b55f-f8e441c10a98\",\"type\":\"HelpTool\"}]},\"id\":\"b7888464-369f-4300-863b-bd693e138087\",\"type\":\"Toolbar\"},{\"attributes\":{\"fill_alpha\":{\"value\":0.7},\"fill_color\":{\"value\":\"#f22c40\"},\"line_color\":{\"value\":\"#f22c40\"},\"size\":{\"units\":\"screen\",\"value\":8},\"x\":{\"field\":\"x_values\"},\"y\":{\"field\":\"y_values\"}},\"id\":\"c5eaaffc-b3ae-42cd-9ac7-47a584ef09d6\",\"type\":\"Circle\"},{\"attributes\":{\"bottom_units\":\"screen\",\"fill_alpha\":{\"value\":0.5},\"fill_color\":{\"value\":\"lightgrey\"},\"left_units\":\"screen\",\"level\":\"overlay\",\"line_alpha\":{\"value\":1.0},\"line_color\":{\"value\":\"black\"},\"line_dash\":[4,4],\"line_width\":{\"value\":2},\"plot\":null,\"render_mode\":\"css\",\"right_units\":\"screen\",\"top_units\":\"screen\"},\"id\":\"713ad8f0-71f5-4208-9f37-99b82638658a\",\"type\":\"BoxAnnotation\"},{\"attributes\":{\"below\":[{\"id\":\"45af3869-767e-40dd-8d0b-04036a2799b5\",\"type\":\"LinearAxis\"}],\"left\":[{\"id\":\"a3143530-7191-4425-b5a6-ef2bf94ef7f0\",\"type\":\"LinearAxis\"}],\"renderers\":[{\"id\":\"3497c145-5a34-4311-ab60-ae5b0fe344ff\",\"type\":\"BoxAnnotation\"},{\"id\":\"2c271473-caeb-439a-9323-62a12de1ba6f\",\"type\":\"GlyphRenderer\"},{\"id\":\"5a77a1ec-63be-4a60-a3ed-e774f86d797e\",\"type\":\"Legend\"},{\"id\":\"45af3869-767e-40dd-8d0b-04036a2799b5\",\"type\":\"LinearAxis\"},{\"id\":\"a3143530-7191-4425-b5a6-ef2bf94ef7f0\",\"type\":\"LinearAxis\"},{\"id\":\"1b45f6b0-4e51-40af-be09-dcab9c321196\",\"type\":\"Grid\"},{\"id\":\"e05c79f5-067b-42cb-95cf-0131bc2af662\",\"type\":\"Grid\"}],\"title\":{\"id\":\"62ad022b-8c66-4fdc-8f70-e30ebf0787ef\",\"type\":\"Title\"},\"tool_events\":{\"id\":\"544f33b6-bf47-4d48-9098-1669adf53c1b\",\"type\":\"ToolEvents\"},\"toolbar\":{\"id\":\"b7888464-369f-4300-863b-bd693e138087\",\"type\":\"Toolbar\"},\"x_mapper_type\":\"auto\",\"x_range\":{\"id\":\"0e411e1a-5d40-46b4-939e-101fab692b11\",\"type\":\"Range1d\"},\"y_mapper_type\":\"auto\",\"y_range\":{\"id\":\"0e411e1a-5d40-46b4-939e-101fab692b11\",\"type\":\"Range1d\"}},\"id\":\"cc1862ca-dede-4850-a557-37b935af23f0\",\"subtype\":\"Chart\",\"type\":\"Plot\"},{\"attributes\":{\"bottom_units\":\"screen\",\"fill_alpha\":{\"value\":0.5},\"fill_color\":{\"value\":\"lightgrey\"},\"left_units\":\"screen\",\"level\":\"overlay\",\"line_alpha\":{\"value\":1.0},\"line_color\":{\"value\":\"black\"},\"line_dash\":[4,4],\"line_width\":{\"value\":2},\"plot\":null,\"render_mode\":\"css\",\"right_units\":\"screen\",\"top_units\":\"screen\"},\"id\":\"3497c145-5a34-4311-ab60-ae5b0fe344ff\",\"type\":\"BoxAnnotation\"},{\"attributes\":{\"location\":\"top_left\",\"plot\":{\"id\":\"14114b7e-16e4-4868-87b2-6135b096f66a\",\"subtype\":\"Chart\",\"type\":\"Plot\"}},\"id\":\"8143d474-4dd9-49a1-b24b-f393ddf1558c\",\"type\":\"Legend\"},{\"attributes\":{\"plot\":{\"id\":\"14114b7e-16e4-4868-87b2-6135b096f66a\",\"subtype\":\"Chart\",\"type\":\"Plot\"}},\"id\":\"8aa3abb6-af5b-476e-988d-f49dbe35474d\",\"type\":\"HelpTool\"},{\"attributes\":{},\"id\":\"4d30cf10-2723-4a29-a7ad-235975ffd6fd\",\"type\":\"ToolEvents\"},{\"attributes\":{},\"id\":\"dd9be191-f964-4f3d-9b13-4cd14ec503ab\",\"type\":\"BasicTicker\"},{\"attributes\":{\"data_source\":{\"id\":\"3ccfbcb0-2b7a-4047-99c8-c94b0b6601fa\",\"type\":\"ColumnDataSource\"},\"glyph\":{\"id\":\"ac930376-b826-4ca3-9263-62863116d48c\",\"type\":\"Circle\"},\"hover_glyph\":null,\"nonselection_glyph\":null,\"selection_glyph\":null},\"id\":\"9c7c1827-ffe9-4149-be15-88190d5c899e\",\"type\":\"GlyphRenderer\"},{\"attributes\":{\"plot\":{\"id\":\"cc1862ca-dede-4850-a557-37b935af23f0\",\"subtype\":\"Chart\",\"type\":\"Plot\"}},\"id\":\"9b8f2c29-c0c3-4447-bb65-d0b732e0a9c0\",\"type\":\"WheelZoomTool\"},{\"attributes\":{},\"id\":\"cb0ed738-5ec4-401a-a415-d3209cf15296\",\"type\":\"BasicTickFormatter\"},{\"attributes\":{\"plot\":{\"id\":\"cc1862ca-dede-4850-a557-37b935af23f0\",\"subtype\":\"Chart\",\"type\":\"Plot\"}},\"id\":\"5120fdf7-0f62-4d97-b55f-f8e441c10a98\",\"type\":\"HelpTool\"},{\"attributes\":{\"axis_label\":\"first\",\"formatter\":{\"id\":\"a657c1d9-7174-4d7f-905d-3a3205fcfb72\",\"type\":\"BasicTickFormatter\"},\"plot\":{\"id\":\"cc1862ca-dede-4850-a557-37b935af23f0\",\"subtype\":\"Chart\",\"type\":\"Plot\"},\"ticker\":{\"id\":\"b9249ee7-5fcb-41b6-b39c-ff0b347172e6\",\"type\":\"BasicTicker\"}},\"id\":\"45af3869-767e-40dd-8d0b-04036a2799b5\",\"type\":\"LinearAxis\"},{\"attributes\":{\"axis_label\":\"second\",\"formatter\":{\"id\":\"3863c288-41d4-491d-86dd-fd569e2c6157\",\"type\":\"BasicTickFormatter\"},\"plot\":{\"id\":\"74388d8d-1c13-4907-bef9-7d7344cace69\",\"subtype\":\"Chart\",\"type\":\"Plot\"},\"ticker\":{\"id\":\"72bbe4a8-c089-409b-8192-7e783f11a8c8\",\"type\":\"BasicTicker\"}},\"id\":\"0dc8ace6-5597-4c8d-9a6e-f02e9bb17bbf\",\"type\":\"LinearAxis\"},{\"attributes\":{\"plot\":{\"id\":\"14114b7e-16e4-4868-87b2-6135b096f66a\",\"subtype\":\"Chart\",\"type\":\"Plot\"}},\"id\":\"8af237ce-1e9f-49d8-a4fd-3a81b6354089\",\"type\":\"SaveTool\"},{\"attributes\":{\"data_source\":{\"id\":\"6f0cfeaa-60e9-4305-a09f-fa280cdbcb2f\",\"type\":\"ColumnDataSource\"},\"glyph\":{\"id\":\"c5eaaffc-b3ae-42cd-9ac7-47a584ef09d6\",\"type\":\"Circle\"},\"hover_glyph\":null,\"nonselection_glyph\":null,\"selection_glyph\":null},\"id\":\"2c271473-caeb-439a-9323-62a12de1ba6f\",\"type\":\"GlyphRenderer\"},{\"attributes\":{},\"id\":\"72bbe4a8-c089-409b-8192-7e783f11a8c8\",\"type\":\"BasicTicker\"},{\"attributes\":{\"overlay\":{\"id\":\"713ad8f0-71f5-4208-9f37-99b82638658a\",\"type\":\"BoxAnnotation\"},\"plot\":{\"id\":\"74388d8d-1c13-4907-bef9-7d7344cace69\",\"subtype\":\"Chart\",\"type\":\"Plot\"}},\"id\":\"6985e8ed-fdeb-499d-a7aa-9c931fee2109\",\"type\":\"BoxZoomTool\"},{\"attributes\":{\"plot\":null,\"text\":null},\"id\":\"62ad022b-8c66-4fdc-8f70-e30ebf0787ef\",\"type\":\"Title\"},{\"attributes\":{\"plot\":{\"id\":\"74388d8d-1c13-4907-bef9-7d7344cace69\",\"subtype\":\"Chart\",\"type\":\"Plot\"}},\"id\":\"e101ae2e-7d14-4e70-80e9-03a2f0e348fc\",\"type\":\"PanTool\"},{\"attributes\":{\"callback\":null,\"column_names\":[\"y_values\",\"x_values\"],\"data\":{\"chart_index\":[null,null,null,null,null,null,null,null,null,null,null,null,null,null,null,null,null,null,null,null,null,null,null,null,null,null,null,null,null,null,null,null,null,null,null,null,null,null,null,null,null,null,null,null,null,null,null,null,null,null,null,null,null,null,null,null,null,null,null,null,null,null,null,null,null,null,null,null,null,null,null,null,null,null,null,null,null,null,null,null,null,null,null,null,null,null,null,null,null,null,null,null,null,null,null,null,null,null,null,null],\"x_values\":[-0.04895947133370726,-0.3523523441435724,0.38567167306656724,-1.6389234891461495,1.7079449830089726,-0.6218806570694015,-1.1950657614649207,-0.7466500872384912,1.0273833708366191,-1.5989601311852966,0.42313378556278,-0.8530716269911911,1.4564067797459077,-0.5707381763738071,-1.8102720780531156,0.866304579797184,0.30290386902364536,0.504260287095482,0.28047277595906317,0.8212549208706138,-0.9997100742349787,1.699004270029353,0.44531897204140336,-0.14003360296665207,-0.5380644149082393,-0.0880092846017983,0.422622598927206,0.7586889993049923,0.17708344530997297,0.2840449422722183,-0.8516864955250116,2.269879660833001,1.1406034928054278,-1.5298571111006167,1.1577677360121723,0.42284818161866566,0.891585598652566,0.2685261213585439,-0.4987133763088172,0.07887704771306255,-0.6418867425340733,0.8888084332073176,0.144536576140589,-0.22525113484393103,0.692241150718446,0.35110279414182094,-1.2265433609217298,-0.7019446785563251,-1.2433129166427865,-0.1817994716386359,0.318055415822328,2.337571925308845,-1.2360446775429836,0.8549105233213133,1.1109964029459676,0.16994245510762385,-1.8194538795946373,0.0943663053737389,0.4069100377894447,-0.27452430624165564,-0.24865727846479443,-0.6740686598373988,-0.8101980683085066,0.9696736097185925,1.7903308791336265,0.3195944960689166,-0.4724373730298614,-1.2801724669914225,1.2553317589846107,-0.21587843775483412,0.6529577312132303,0.768875169263727,0.5495077248886774,-0.9317644163680018,-0.7507819135998265,-1.1175678516160763,-0.6429064906441738,0.5398189488565108,-1.37510375951475,0.779364058351397,0.8918812786307986,-0.47969329364501817,-0.824158206341646,1.26136958475008,-0.43833953351264593,1.2366850680885915,0.812795028463352,-2.38491457564879,-0.5619886532382321,0.7432216163906702,-1.2587061546928462,-0.7413459473523227,1.7512212637912068,1.1985866365766258,-0.8796377762132709,-0.2034688632255512,-1.499388387920758,1.3313931881125678,-0.6019566218146879,-1.9877940721081027],\"y_values\":[-0.1580115299471396,0.43791444343792607,-0.3951400074225351,-0.4676388800733334,0.4706747537760531,-3.0022854279681543,-0.3574586439046138,-0.031295142789186145,2.7633770202271584,1.6064612394330042,-1.389103586542747,0.10198377159228428,-0.11901555010822208,-0.32237771436134943,-0.31302978575617524,-0.6233692431360498,0.7679738035966148,0.1422419314240576,0.27455869543650835,0.07843817793210449,0.3206045011441207,0.8613909779882253,-0.1741829399828915,-0.2475971470028784,-0.03415558865266762,0.6966297146485133,0.9867142968637355,0.6632956218897665,-1.07608413587068,1.1198787535874741,0.08397418266752285,-0.3159398975094015,0.3176286516826697,-0.10445216975144254,0.15183795561183383,-0.014062876550234847,0.285782929341432,0.7114787503063774,-1.7698170408413798,0.5508996893014804,4.344822796783637,-0.9741483211957831,0.1300295243417804,-0.7958948551406432,-1.8062934956962973,0.6655461599558721,-0.5200097701428059,1.901435354982979,0.02163415591939302,0.056460504749050726,0.5417039744636913,-0.32651031096619443,-0.41848476892321584,1.0415251593099728,-0.2979314816851817,-1.615248242868295,-0.09795002437450016,0.764022755911937,-0.939324829661889,-0.10663547747062332,-0.4414974303252648,-0.9641974706884872,0.8808345897704927,2.4074374622446326,-0.4105804754012665,-1.8151877744586853,0.547710265338865,0.7510141264221377,-0.2422458995492767,-3.063717432952011,-0.5795341825311134,-1.3922984171422335,-0.34591756410448177,0.3112375779841363,0.4869181493272146,0.3814083250391461,-0.3969495609334453,0.18851669983196173,0.2554780372304092,-0.060826025394567586,0.28786956563216687,-0.05191116546148811,-0.02868960519206453,-1.1736066654319484,0.00344784575814308,-0.7687187421215611,0.144268230285824,-0.293922032645535,-0.7410355557276354,-0.5145977902647793,0.6152128246122255,0.5208549448540414,-0.3916228514894352,-0.572896907628316,0.2792094437334609,1.999268410456866,0.444336045292256,-0.4121414845793709,0.03733853441039471,0.07226259378793543]}},\"id\":\"201c25ef-9431-4b28-b01e-ad5e04ba741a\",\"type\":\"ColumnDataSource\"},{\"attributes\":{\"plot\":{\"id\":\"14114b7e-16e4-4868-87b2-6135b096f66a\",\"subtype\":\"Chart\",\"type\":\"Plot\"}},\"id\":\"b6e566df-a97a-4206-94cd-82357398704c\",\"type\":\"WheelZoomTool\"},{\"attributes\":{},\"id\":\"544f33b6-bf47-4d48-9098-1669adf53c1b\",\"type\":\"ToolEvents\"},{\"attributes\":{},\"id\":\"b9249ee7-5fcb-41b6-b39c-ff0b347172e6\",\"type\":\"BasicTicker\"},{\"attributes\":{},\"id\":\"5213915f-4854-49a4-9adc-eb5b96ead343\",\"type\":\"BasicTicker\"},{\"attributes\":{\"location\":\"top_left\",\"plot\":{\"id\":\"cc1862ca-dede-4850-a557-37b935af23f0\",\"subtype\":\"Chart\",\"type\":\"Plot\"}},\"id\":\"5a77a1ec-63be-4a60-a3ed-e774f86d797e\",\"type\":\"Legend\"},{\"attributes\":{\"below\":[{\"id\":\"95c6cd25-3c0f-47bf-bda3-daa8fbb30835\",\"type\":\"LinearAxis\"}],\"left\":[{\"id\":\"b038ee5f-24a2-4fd8-8041-dd3dc6fcbf61\",\"type\":\"LinearAxis\"}],\"renderers\":[{\"id\":\"69ec1bda-23e4-4b9c-ab8e-7a0e0daca256\",\"type\":\"BoxAnnotation\"},{\"id\":\"d0fe73a8-9f34-4a71-a0d7-985651a610e7\",\"type\":\"GlyphRenderer\"},{\"id\":\"8143d474-4dd9-49a1-b24b-f393ddf1558c\",\"type\":\"Legend\"},{\"id\":\"95c6cd25-3c0f-47bf-bda3-daa8fbb30835\",\"type\":\"LinearAxis\"},{\"id\":\"b038ee5f-24a2-4fd8-8041-dd3dc6fcbf61\",\"type\":\"LinearAxis\"},{\"id\":\"83fe0128-ebc8-4145-9e19-781716d3198f\",\"type\":\"Grid\"},{\"id\":\"55e51c5c-e0a0-4230-be34-0cc405f4452c\",\"type\":\"Grid\"}],\"title\":{\"id\":\"16e99790-1f8a-4303-ab71-a2beb82294fa\",\"type\":\"Title\"},\"tool_events\":{\"id\":\"4d30cf10-2723-4a29-a7ad-235975ffd6fd\",\"type\":\"ToolEvents\"},\"toolbar\":{\"id\":\"43567d9d-c441-455a-9d46-7134d80df19a\",\"type\":\"Toolbar\"},\"x_mapper_type\":\"auto\",\"x_range\":{\"id\":\"0e411e1a-5d40-46b4-939e-101fab692b11\",\"type\":\"Range1d\"},\"y_mapper_type\":\"auto\",\"y_range\":{\"id\":\"0e411e1a-5d40-46b4-939e-101fab692b11\",\"type\":\"Range1d\"}},\"id\":\"14114b7e-16e4-4868-87b2-6135b096f66a\",\"subtype\":\"Chart\",\"type\":\"Plot\"},{\"attributes\":{},\"id\":\"383eaa5c-6041-41c6-9243-395ecdeaa959\",\"type\":\"BasicTickFormatter\"},{\"attributes\":{},\"id\":\"fd8a8539-510b-449b-840c-f7bf565a86a1\",\"type\":\"BasicTickFormatter\"},{\"attributes\":{\"axis_label\":\"first\",\"formatter\":{\"id\":\"fd8a8539-510b-449b-840c-f7bf565a86a1\",\"type\":\"BasicTickFormatter\"},\"plot\":{\"id\":\"74388d8d-1c13-4907-bef9-7d7344cace69\",\"subtype\":\"Chart\",\"type\":\"Plot\"},\"ticker\":{\"id\":\"dd9be191-f964-4f3d-9b13-4cd14ec503ab\",\"type\":\"BasicTicker\"}},\"id\":\"27951e61-fd57-457d-a306-f4f7d29fb7f4\",\"type\":\"LinearAxis\"},{\"attributes\":{\"active_drag\":\"auto\",\"active_scroll\":\"auto\",\"active_tap\":\"auto\",\"tools\":[{\"id\":\"e101ae2e-7d14-4e70-80e9-03a2f0e348fc\",\"type\":\"PanTool\"},{\"id\":\"bf9e7921-8b58-4806-8030-79bd8e6ba55e\",\"type\":\"WheelZoomTool\"},{\"id\":\"6985e8ed-fdeb-499d-a7aa-9c931fee2109\",\"type\":\"BoxZoomTool\"},{\"id\":\"fa623589-0be0-428d-a65d-332ae53244fa\",\"type\":\"SaveTool\"},{\"id\":\"2ef4ada2-010a-48de-a46f-f18dfc8a0e5e\",\"type\":\"ResetTool\"},{\"id\":\"d178b363-d988-40b0-b0b1-9ce949d9224a\",\"type\":\"HelpTool\"}]},\"id\":\"ba392461-762f-4d82-8f38-ce2d2596ec97\",\"type\":\"Toolbar\"},{\"attributes\":{\"dimension\":1,\"plot\":{\"id\":\"cc1862ca-dede-4850-a557-37b935af23f0\",\"subtype\":\"Chart\",\"type\":\"Plot\"},\"ticker\":{\"id\":\"5213915f-4854-49a4-9adc-eb5b96ead343\",\"type\":\"BasicTicker\"}},\"id\":\"e05c79f5-067b-42cb-95cf-0131bc2af662\",\"type\":\"Grid\"},{\"attributes\":{\"callback\":null,\"column_names\":[\"y_values\",\"x_values\"],\"data\":{\"chart_index\":[null,null,null,null,null,null,null,null,null,null,null,null,null,null,null,null,null,null,null,null,null,null,null,null,null,null,null,null,null,null,null,null,null,null,null,null,null,null,null,null,null,null,null,null,null,null,null,null,null,null,null,null,null,null,null,null,null,null,null,null,null,null,null,null,null,null,null,null,null,null,null,null,null,null,null,null,null,null,null,null,null,null,null,null,null,null,null,null,null,null,null,null,null,null,null,null,null,null,null,null],\"x_values\":[0.8991542073834715,3.2706834516167547,0.6252121108705451,0.8186958147564982,-3.0814493214404814,0.003596165838548382,6.348959469833632,-0.3843268786320424,4.590617281322737,-3.3493807104255326,3.4424378137728797,5.826789531486695,1.8093873739487034,5.70985340828719,5.120868074766585,2.89908996827795,4.37010195357429,-2.320290384257799,2.8288677187003817,2.528178167232143,5.133257903246509,2.298532073046685,3.292576227634596,0.18508695437476508,1.8441842917685638,0.5607285819356864,4.617592844947891,-2.1260821817017987,6.920920554126184,2.038207844326707,4.250896239477832,4.273478139870517,0.6524016680280895,5.023619656807318,4.008522665646268,3.5116595574737497,1.4441299211253542,0.915460929584639,2.5648468126184096,1.4179343991144315,4.516847336392306,6.6195497698688115,2.2736226069824084,2.121913944337943,0.8033581455952576,-0.5362975844813733,1.0702256467395428,-2.4869534558325412,0.07162261343034837,5.518023471876053,4.914558392269145,11.179304512001831,-1.9517900170387348,4.005155932411421,-1.5324328284823387,5.268826597742835,5.84633440408077,2.370268412402781,-3.3473039438514203,1.2684378692919602,3.4561410305583347,3.135789310657165,0.741493611981338,2.529278907882706,-3.8970149584225853,1.4809575027759367,-3.0669195576300705,5.772303492134997,3.686890113474504,-0.8425892625864484,0.8325861384864535,5.676842203701076,4.947828719780904,-2.778658537584354,-2.620412348511639,-3.5526200754337935,4.477705391393691,-1.888970042637479,0.5197485193302593,0.8296964945604048,2.726609783019309,1.0916388333690297,-7.873160269391242,-1.0121332261575966,-1.3208706571675437,6.788360932989009,4.862313227874977,1.4470997725751948,-4.629040512730972,-0.8079675239680766,1.3687496562007762,4.447644938361314,3.9869540677228192,4.825282579163556,-1.3790553867440396,0.8604963370886576,-1.6438998738050512,6.034049928269928,5.119645715569289,5.635438454138659],\"y_values\":[1.2955533078259835,2.1658944245014773,-0.8427363990004921,0.31590174215314604,7.596522740938335,-2.514619823422821,2.7995410414150803,-0.8845415191314219,-3.2819036481750157,2.942273023405563,6.225535046419328,2.8611110762661065,4.790160764191182,4.76066577045289,-2.3154393143909955,6.134881466179586,0.9830989102955261,-0.9383994497097894,-2.9012290769913607,1.9027214975603466,7.603435954854226,1.3159251701999348,1.0885129447968018,2.7743044080272354,3.6668347365308955,1.3288382532626128,5.847115902119067,4.229125160796224,3.3788438927891673,-4.38145927021851,1.3463050064529511,3.7460533843263417,5.806388307115753,3.1770322321855318,8.941483027127772,3.292603092667122,1.4830172496296643,-0.8400478659634665,5.487534879214953,7.904618929592768,2.963458764776144,2.2789129098544585,4.736175623188499,2.66216921490459,3.0204955435304255,3.429564883230139,4.338655052303504,0.8773874059560509,5.976878516400246,5.988314783106316,1.7324997986591901,0.913852528637076,4.557260500169189,0.03734473647450898,2.8917378726487017,0.9121723144625764,-1.137731504655565,2.382091835507786,5.882093533903241,1.1909928174802642,-0.8336300174493414,-1.5148737485634625,3.431856567215806,4.92373544022101,0.3542259935575385,1.6419345239712504,1.3418242584928861,3.118252671382639,-0.6332605546866494,4.134170556278426,4.168857187035315,1.274288793173782,8.612490600229677,-0.22420070794144298,-1.0320788351756387,5.64847311667993,1.8503660093046994,2.923999712867098,-0.4655720242275878,-0.7956151032805092,7.654244826706696,2.929679470820002,1.2965888245054928,0.6867423908237689,1.2876510968402024,-3.5751700298460083,4.841795628192365,7.421262125854463,-2.837574599258791,5.392860888952104,-0.814245635530138,1.7647895226163588,7.317319402234178,5.843378152215002,3.350170015702179,-1.0063155440617333,0.8748096669768608,2.580676437203502,2.390880865873692,4.729406114706149]}},\"id\":\"6f0cfeaa-60e9-4305-a09f-fa280cdbcb2f\",\"type\":\"ColumnDataSource\"},{\"attributes\":{},\"id\":\"8a052f8b-07ae-44a7-8009-85a4f91e754f\",\"type\":\"BasicTickFormatter\"},{\"attributes\":{\"plot\":{\"id\":\"74388d8d-1c13-4907-bef9-7d7344cace69\",\"subtype\":\"Chart\",\"type\":\"Plot\"}},\"id\":\"d178b363-d988-40b0-b0b1-9ce949d9224a\",\"type\":\"HelpTool\"},{\"attributes\":{\"plot\":{\"id\":\"74388d8d-1c13-4907-bef9-7d7344cace69\",\"subtype\":\"Chart\",\"type\":\"Plot\"},\"ticker\":{\"id\":\"dd9be191-f964-4f3d-9b13-4cd14ec503ab\",\"type\":\"BasicTicker\"}},\"id\":\"5be638e0-7ce7-43ed-b10f-3cc6bffa0a2f\",\"type\":\"Grid\"},{\"attributes\":{\"fill_alpha\":{\"value\":0.7},\"fill_color\":{\"value\":\"#f22c40\"},\"line_color\":{\"value\":\"#f22c40\"},\"size\":{\"units\":\"screen\",\"value\":8},\"x\":{\"field\":\"x_values\"},\"y\":{\"field\":\"y_values\"}},\"id\":\"84c10616-e14a-4f2f-807f-fbeffe025f17\",\"type\":\"Circle\"},{\"attributes\":{\"dimension\":1,\"plot\":{\"id\":\"74388d8d-1c13-4907-bef9-7d7344cace69\",\"subtype\":\"Chart\",\"type\":\"Plot\"},\"ticker\":{\"id\":\"72bbe4a8-c089-409b-8192-7e783f11a8c8\",\"type\":\"BasicTicker\"}},\"id\":\"efbbb72f-7440-44bc-a185-f89153596a79\",\"type\":\"Grid\"},{\"attributes\":{\"callback\":null,\"end\":10,\"start\":-10},\"id\":\"0e411e1a-5d40-46b4-939e-101fab692b11\",\"type\":\"Range1d\"},{\"attributes\":{\"plot\":null,\"text\":null},\"id\":\"859034f7-5644-40f4-8c23-aad2290ee376\",\"type\":\"Title\"},{\"attributes\":{\"plot\":{\"id\":\"14114b7e-16e4-4868-87b2-6135b096f66a\",\"subtype\":\"Chart\",\"type\":\"Plot\"},\"ticker\":{\"id\":\"de3184b7-657d-42a3-8a7e-838407e143b9\",\"type\":\"BasicTicker\"}},\"id\":\"83fe0128-ebc8-4145-9e19-781716d3198f\",\"type\":\"Grid\"},{\"attributes\":{\"bottom_units\":\"screen\",\"fill_alpha\":{\"value\":0.5},\"fill_color\":{\"value\":\"lightgrey\"},\"left_units\":\"screen\",\"level\":\"overlay\",\"line_alpha\":{\"value\":1.0},\"line_color\":{\"value\":\"black\"},\"line_dash\":[4,4],\"line_width\":{\"value\":2},\"plot\":null,\"render_mode\":\"css\",\"right_units\":\"screen\",\"top_units\":\"screen\"},\"id\":\"69ec1bda-23e4-4b9c-ab8e-7a0e0daca256\",\"type\":\"BoxAnnotation\"},{\"attributes\":{},\"id\":\"4c7964c2-894a-4009-b9eb-fb85939ca580\",\"type\":\"ToolEvents\"},{\"attributes\":{},\"id\":\"e4c758db-c917-4990-a298-ffa0c21a880d\",\"type\":\"BasicTicker\"},{\"attributes\":{\"callback\":null,\"column_names\":[\"y_values\",\"x_values\"],\"data\":{\"chart_index\":[null,null,null,null,null,null,null,null,null,null,null,null,null,null,null,null,null,null,null,null,null,null,null,null,null,null,null,null,null,null,null,null,null,null,null,null,null,null,null,null,null,null,null,null,null,null,null,null,null,null,null,null,null,null,null,null,null,null,null,null,null,null,null,null,null,null,null,null,null,null,null,null,null,null,null,null,null,null,null,null,null,null,null,null,null,null,null,null,null,null,null,null,null,null,null,null,null,null,null,null],\"x_values\":[-0.12858148336543707,-0.9253773752674812,1.0128834005768272,-4.304278776224944,4.485548831297415,-1.633235310431231,-3.138582262889184,-1.9609152868029667,2.698200658800955,-4.1993236427872045,1.111269552705263,-2.240408489459651,3.824938035927688,-1.498920624187869,-4.75428885872891,2.2751619836201966,0.7955116290109094,1.3243307975096266,0.7366012049155732,2.1568487785938713,-2.625522718665583,4.462067978544158,1.1695341562324724,-0.3677680313933933,-1.4131100424572054,-0.23113738885981672,1.1099270313485539,1.9925328906995805,0.46507144495537656,0.7459827286710659,-2.2367707406497517,5.961348966813736,2.995548870147803,-4.017839476690779,3.0406270499615804,1.1105194755947703,2.3415571226374885,0.7052258953392276,-1.3097630336507455,0.20715353990044738,-1.685776975512736,2.3342634970575196,0.37959411845044366,-0.5915734843329572,1.8180219594138949,0.9220957019081149,-3.2212513833000704,-1.843506180735813,-3.26529300162752,-0.47745707013496164,0.8353038961572699,6.139128087820645,-3.246204540509601,2.2452379537377833,2.9177922394375724,0.44631717559945017,-4.778402878550098,0.2478327317296296,1.068661381137733,-0.7209788332031555,-0.6530446682459063,-1.770295834717748,-2.12781034200418,2.5466384281011285,4.701917604152314,0.8393459582084701,-1.2407547828161998,-3.362096654340731,3.296857896724398,-0.5669581185616099,1.714852537562523,2.0192846673717444,1.4431634260378043,-2.4470781146128124,-1.9717666368702034,-2.935050730896827,-1.6884551238073144,1.4177179471493555,-3.611413202864079,2.0468314704929544,2.3423336622766415,-1.2598108920931883,-2.164473631198063,3.3127149428091993,-1.1512041674756768,3.2478863880468474,2.134630697286919,-6.2634633398430735,-1.4759418902909225,1.9519111481699483,-3.3057200186756246,-1.9469851083111949,4.59920464141822,3.147829081375474,-2.3101787459846803,-0.5343670497154358,-3.937819952051429,3.4966168221733023,-1.5809091325153233,-5.220512057300612],\"y_values\":[-0.42664053095904353,1.1823950488011392,-1.0669015269095083,-1.2626527960226936,1.2708498356240838,-8.106349261395275,-0.965159603747795,-0.0844987472780252,7.461282347839685,4.337540914806054,-3.7506623214012973,0.2753622503110611,-0.32134906552414977,-0.870439007017404,-0.8451990436754064,-1.6831340406872366,2.073574956452266,0.38406167681372017,0.7413248111681532,0.2117877467018272,0.8656512258424787,2.3258068846948654,-0.47030430009233193,-0.6685270264555441,-0.09222212127727447,1.8809416720344143,2.6641873011396915,1.7909376385414952,-2.905491183067817,3.0237392562438186,0.2267352888242331,-0.853056518531589,0.8576162552633546,-0.2820270721857301,0.4099715129879429,-0.037970603285790716,0.7716309104408272,1.9210349516793888,-4.778611296641003,1.4874619341220447,11.73128002470989,-2.6302584192866574,0.3510874511757951,-2.1489634566437656,-4.877099894732622,1.7970142252044305,-1.4040573147531443,5.1339885747933725,0.0584135079977286,0.15244672165638162,1.4626329570071803,-0.881597263698549,-1.129933771740595,2.8121798904412993,-0.8044327244860112,-4.361266346819942,-0.26447089285552794,2.062906892655913,-2.5362329204965466,-0.28792213291243707,-1.1920693265487496,-2.603390530941123,2.3783057932069416,6.500224366451908,-1.1085917090051178,-4.901114976511479,1.4788502996842356,2.027782819150428,-0.654078339985249,-8.272219329440052,-1.5647767693073042,-3.759288554080299,-0.9339980017089042,0.840359976072508,1.3147079699313946,1.0298251675769339,-1.0717874290392568,0.5090063043998185,0.6898058989038298,-0.16423388710398568,0.7772649525597495,-0.1401632349398878,-0.07746364076243362,-3.1688078144959637,0.009309388659239914,-2.0755863347859944,0.3895328042849555,-0.7936069735569471,-2.0008400846503633,-1.3894446471239317,1.661111225447787,1.4063393367529016,-1.0574049966546246,-1.5468557322184417,0.7538821082428191,5.398143644658768,1.1997337558287557,-1.1128065266503946,0.10081626417649714,0.1951133021272322]}},\"id\":\"3ccfbcb0-2b7a-4047-99c8-c94b0b6601fa\",\"type\":\"ColumnDataSource\"},{\"attributes\":{\"plot\":{\"id\":\"cc1862ca-dede-4850-a557-37b935af23f0\",\"subtype\":\"Chart\",\"type\":\"Plot\"},\"ticker\":{\"id\":\"b9249ee7-5fcb-41b6-b39c-ff0b347172e6\",\"type\":\"BasicTicker\"}},\"id\":\"1b45f6b0-4e51-40af-be09-dcab9c321196\",\"type\":\"Grid\"},{\"attributes\":{\"children\":[{\"id\":\"cc1862ca-dede-4850-a557-37b935af23f0\",\"subtype\":\"Chart\",\"type\":\"Plot\"},{\"id\":\"74388d8d-1c13-4907-bef9-7d7344cace69\",\"subtype\":\"Chart\",\"type\":\"Plot\"},{\"id\":\"14114b7e-16e4-4868-87b2-6135b096f66a\",\"subtype\":\"Chart\",\"type\":\"Plot\"}]},\"id\":\"499501e5-10e0-4ce3-b82e-cf344a100bb8\",\"type\":\"Column\"},{\"attributes\":{\"plot\":null,\"text\":null},\"id\":\"16e99790-1f8a-4303-ab71-a2beb82294fa\",\"type\":\"Title\"},{\"attributes\":{\"active_drag\":\"auto\",\"active_scroll\":\"auto\",\"active_tap\":\"auto\",\"tools\":[{\"id\":\"830246fc-956c-4130-8c9f-7fd062caa3de\",\"type\":\"PanTool\"},{\"id\":\"b6e566df-a97a-4206-94cd-82357398704c\",\"type\":\"WheelZoomTool\"},{\"id\":\"8d73f62f-3632-4a53-a284-c3fc560b7b86\",\"type\":\"BoxZoomTool\"},{\"id\":\"8af237ce-1e9f-49d8-a4fd-3a81b6354089\",\"type\":\"SaveTool\"},{\"id\":\"59473628-b696-4a3e-9557-b3a497811332\",\"type\":\"ResetTool\"},{\"id\":\"8aa3abb6-af5b-476e-988d-f49dbe35474d\",\"type\":\"HelpTool\"}]},\"id\":\"43567d9d-c441-455a-9d46-7134d80df19a\",\"type\":\"Toolbar\"},{\"attributes\":{\"plot\":{\"id\":\"14114b7e-16e4-4868-87b2-6135b096f66a\",\"subtype\":\"Chart\",\"type\":\"Plot\"}},\"id\":\"830246fc-956c-4130-8c9f-7fd062caa3de\",\"type\":\"PanTool\"},{\"attributes\":{},\"id\":\"a657c1d9-7174-4d7f-905d-3a3205fcfb72\",\"type\":\"BasicTickFormatter\"},{\"attributes\":{\"data_source\":{\"id\":\"201c25ef-9431-4b28-b01e-ad5e04ba741a\",\"type\":\"ColumnDataSource\"},\"glyph\":{\"id\":\"84c10616-e14a-4f2f-807f-fbeffe025f17\",\"type\":\"Circle\"},\"hover_glyph\":null,\"nonselection_glyph\":null,\"selection_glyph\":null},\"id\":\"d0fe73a8-9f34-4a71-a0d7-985651a610e7\",\"type\":\"GlyphRenderer\"},{\"attributes\":{\"overlay\":{\"id\":\"3497c145-5a34-4311-ab60-ae5b0fe344ff\",\"type\":\"BoxAnnotation\"},\"plot\":{\"id\":\"cc1862ca-dede-4850-a557-37b935af23f0\",\"subtype\":\"Chart\",\"type\":\"Plot\"}},\"id\":\"369e4a7b-858f-4faa-91e5-b156a6750fc4\",\"type\":\"BoxZoomTool\"},{\"attributes\":{\"plot\":{\"id\":\"cc1862ca-dede-4850-a557-37b935af23f0\",\"subtype\":\"Chart\",\"type\":\"Plot\"}},\"id\":\"f17ed2c1-b00d-489b-ba70-5f5baf6c9aff\",\"type\":\"PanTool\"},{\"attributes\":{},\"id\":\"3863c288-41d4-491d-86dd-fd569e2c6157\",\"type\":\"BasicTickFormatter\"},{\"attributes\":{\"plot\":{\"id\":\"14114b7e-16e4-4868-87b2-6135b096f66a\",\"subtype\":\"Chart\",\"type\":\"Plot\"}},\"id\":\"59473628-b696-4a3e-9557-b3a497811332\",\"type\":\"ResetTool\"},{\"attributes\":{\"plot\":{\"id\":\"74388d8d-1c13-4907-bef9-7d7344cace69\",\"subtype\":\"Chart\",\"type\":\"Plot\"}},\"id\":\"2ef4ada2-010a-48de-a46f-f18dfc8a0e5e\",\"type\":\"ResetTool\"},{\"attributes\":{\"location\":\"top_left\",\"plot\":{\"id\":\"74388d8d-1c13-4907-bef9-7d7344cace69\",\"subtype\":\"Chart\",\"type\":\"Plot\"}},\"id\":\"25a7e9f5-953c-4973-89a7-3af82fd05771\",\"type\":\"Legend\"},{\"attributes\":{\"dimension\":1,\"plot\":{\"id\":\"14114b7e-16e4-4868-87b2-6135b096f66a\",\"subtype\":\"Chart\",\"type\":\"Plot\"},\"ticker\":{\"id\":\"e4c758db-c917-4990-a298-ffa0c21a880d\",\"type\":\"BasicTicker\"}},\"id\":\"55e51c5c-e0a0-4230-be34-0cc405f4452c\",\"type\":\"Grid\"},{\"attributes\":{\"below\":[{\"id\":\"27951e61-fd57-457d-a306-f4f7d29fb7f4\",\"type\":\"LinearAxis\"}],\"left\":[{\"id\":\"0dc8ace6-5597-4c8d-9a6e-f02e9bb17bbf\",\"type\":\"LinearAxis\"}],\"renderers\":[{\"id\":\"713ad8f0-71f5-4208-9f37-99b82638658a\",\"type\":\"BoxAnnotation\"},{\"id\":\"9c7c1827-ffe9-4149-be15-88190d5c899e\",\"type\":\"GlyphRenderer\"},{\"id\":\"25a7e9f5-953c-4973-89a7-3af82fd05771\",\"type\":\"Legend\"},{\"id\":\"27951e61-fd57-457d-a306-f4f7d29fb7f4\",\"type\":\"LinearAxis\"},{\"id\":\"0dc8ace6-5597-4c8d-9a6e-f02e9bb17bbf\",\"type\":\"LinearAxis\"},{\"id\":\"5be638e0-7ce7-43ed-b10f-3cc6bffa0a2f\",\"type\":\"Grid\"},{\"id\":\"efbbb72f-7440-44bc-a185-f89153596a79\",\"type\":\"Grid\"}],\"title\":{\"id\":\"859034f7-5644-40f4-8c23-aad2290ee376\",\"type\":\"Title\"},\"tool_events\":{\"id\":\"4c7964c2-894a-4009-b9eb-fb85939ca580\",\"type\":\"ToolEvents\"},\"toolbar\":{\"id\":\"ba392461-762f-4d82-8f38-ce2d2596ec97\",\"type\":\"Toolbar\"},\"x_mapper_type\":\"auto\",\"x_range\":{\"id\":\"0e411e1a-5d40-46b4-939e-101fab692b11\",\"type\":\"Range1d\"},\"y_mapper_type\":\"auto\",\"y_range\":{\"id\":\"0e411e1a-5d40-46b4-939e-101fab692b11\",\"type\":\"Range1d\"}},\"id\":\"74388d8d-1c13-4907-bef9-7d7344cace69\",\"subtype\":\"Chart\",\"type\":\"Plot\"},{\"attributes\":{\"plot\":{\"id\":\"cc1862ca-dede-4850-a557-37b935af23f0\",\"subtype\":\"Chart\",\"type\":\"Plot\"}},\"id\":\"f3e5c32f-491d-47ff-a9c1-03f1d95a48b8\",\"type\":\"ResetTool\"},{\"attributes\":{\"plot\":{\"id\":\"74388d8d-1c13-4907-bef9-7d7344cace69\",\"subtype\":\"Chart\",\"type\":\"Plot\"}},\"id\":\"bf9e7921-8b58-4806-8030-79bd8e6ba55e\",\"type\":\"WheelZoomTool\"},{\"attributes\":{\"overlay\":{\"id\":\"69ec1bda-23e4-4b9c-ab8e-7a0e0daca256\",\"type\":\"BoxAnnotation\"},\"plot\":{\"id\":\"14114b7e-16e4-4868-87b2-6135b096f66a\",\"subtype\":\"Chart\",\"type\":\"Plot\"}},\"id\":\"8d73f62f-3632-4a53-a284-c3fc560b7b86\",\"type\":\"BoxZoomTool\"},{\"attributes\":{\"axis_label\":\"second\",\"formatter\":{\"id\":\"8a052f8b-07ae-44a7-8009-85a4f91e754f\",\"type\":\"BasicTickFormatter\"},\"plot\":{\"id\":\"cc1862ca-dede-4850-a557-37b935af23f0\",\"subtype\":\"Chart\",\"type\":\"Plot\"},\"ticker\":{\"id\":\"5213915f-4854-49a4-9adc-eb5b96ead343\",\"type\":\"BasicTicker\"}},\"id\":\"a3143530-7191-4425-b5a6-ef2bf94ef7f0\",\"type\":\"LinearAxis\"},{\"attributes\":{\"axis_label\":\"first\",\"formatter\":{\"id\":\"383eaa5c-6041-41c6-9243-395ecdeaa959\",\"type\":\"BasicTickFormatter\"},\"plot\":{\"id\":\"14114b7e-16e4-4868-87b2-6135b096f66a\",\"subtype\":\"Chart\",\"type\":\"Plot\"},\"ticker\":{\"id\":\"de3184b7-657d-42a3-8a7e-838407e143b9\",\"type\":\"BasicTicker\"}},\"id\":\"95c6cd25-3c0f-47bf-bda3-daa8fbb30835\",\"type\":\"LinearAxis\"},{\"attributes\":{\"plot\":{\"id\":\"74388d8d-1c13-4907-bef9-7d7344cace69\",\"subtype\":\"Chart\",\"type\":\"Plot\"}},\"id\":\"fa623589-0be0-428d-a65d-332ae53244fa\",\"type\":\"SaveTool\"},{\"attributes\":{\"fill_alpha\":{\"value\":0.7},\"fill_color\":{\"value\":\"#f22c40\"},\"line_color\":{\"value\":\"#f22c40\"},\"size\":{\"units\":\"screen\",\"value\":8},\"x\":{\"field\":\"x_values\"},\"y\":{\"field\":\"y_values\"}},\"id\":\"ac930376-b826-4ca3-9263-62863116d48c\",\"type\":\"Circle\"},{\"attributes\":{\"axis_label\":\"second\",\"formatter\":{\"id\":\"cb0ed738-5ec4-401a-a415-d3209cf15296\",\"type\":\"BasicTickFormatter\"},\"plot\":{\"id\":\"14114b7e-16e4-4868-87b2-6135b096f66a\",\"subtype\":\"Chart\",\"type\":\"Plot\"},\"ticker\":{\"id\":\"e4c758db-c917-4990-a298-ffa0c21a880d\",\"type\":\"BasicTicker\"}},\"id\":\"b038ee5f-24a2-4fd8-8041-dd3dc6fcbf61\",\"type\":\"LinearAxis\"},{\"attributes\":{},\"id\":\"de3184b7-657d-42a3-8a7e-838407e143b9\",\"type\":\"BasicTicker\"},{\"attributes\":{\"plot\":{\"id\":\"cc1862ca-dede-4850-a557-37b935af23f0\",\"subtype\":\"Chart\",\"type\":\"Plot\"}},\"id\":\"548b4369-6880-4ba2-ab46-8dce518f4d4a\",\"type\":\"SaveTool\"}],\"root_ids\":[\"499501e5-10e0-4ce3-b82e-cf344a100bb8\"]},\"title\":\"Bokeh Application\",\"version\":\"0.12.3\"}};\n",
       "            var render_items = [{\"docid\":\"35190833-0bc0-4ba8-9799-6470dcec9619\",\"elementid\":\"03c3935d-9623-49ea-bf62-0a1b395b147a\",\"modelid\":\"499501e5-10e0-4ce3-b82e-cf344a100bb8\"}];\n",
       "            \n",
       "            Bokeh.embed.embed_items(docs_json, render_items);\n",
       "        });\n",
       "      },\n",
       "      function(Bokeh) {\n",
       "      }\n",
       "    ];\n",
       "  \n",
       "    function run_inline_js() {\n",
       "      \n",
       "      if ((window.Bokeh !== undefined) || (force === \"1\")) {\n",
       "        for (var i = 0; i < inline_js.length; i++) {\n",
       "          inline_js[i](window.Bokeh);\n",
       "        }if (force === \"1\") {\n",
       "          display_loaded();\n",
       "        }} else if (Date.now() < window._bokeh_timeout) {\n",
       "        setTimeout(run_inline_js, 100);\n",
       "      } else if (!window._bokeh_failed_load) {\n",
       "        console.log(\"Bokeh: BokehJS failed to load within specified timeout.\");\n",
       "        window._bokeh_failed_load = true;\n",
       "      } else if (!force) {\n",
       "        var cell = $(\"#03c3935d-9623-49ea-bf62-0a1b395b147a\").parents('.cell').data().cell;\n",
       "        cell.output_area.append_execute_result(NB_LOAD_WARNING)\n",
       "      }\n",
       "  \n",
       "    }\n",
       "  \n",
       "    if (window._bokeh_is_loading === 0) {\n",
       "      console.log(\"Bokeh: BokehJS loaded, going straight to plotting\");\n",
       "      run_inline_js();\n",
       "    } else {\n",
       "      load_libs(js_urls, function() {\n",
       "        console.log(\"Bokeh: BokehJS plotting callback run at\", now());\n",
       "        run_inline_js();\n",
       "      });\n",
       "    }\n",
       "  }(this));\n",
       "</script>"
      ]
     },
     "metadata": {},
     "output_type": "display_data"
    }
   ],
   "source": [
    "from sklearn.preprocessing import StandardScaler\n",
    "from bokeh.charts import Scatter\n",
    "from bokeh.layouts import column\n",
    "from bokeh.models import Range1d\n",
    "\n",
    "range_ = Range1d(-10, 10)\n",
    "\n",
    "from sklearn.datasets import make_blobs\n",
    "dims, labels = make_blobs(n_samples=100, n_features=2, centers=1, cluster_std=3, center_box=(2, 2), shuffle=True)\n",
    "\n",
    "df_1 = pd.DataFrame.from_records(dims, columns=[\"first\", \"second\"])\n",
    "dims_scaler_1 = StandardScaler(copy=True, with_mean=True, with_std=False)\n",
    "\n",
    "dims2 = dims_scaler_1.fit(dims).transform(dims)\n",
    "df_2 = pd.DataFrame.from_records(dims2, columns=[\"first\", \"second\"])\n",
    "dims_scaler_2 = StandardScaler(copy=True, with_mean=True, with_std=True)\n",
    "df_3 = pd.DataFrame.from_records(dims_scaler_2.fit(dims).transform(dims), columns=[\"first\", \"second\"])\n",
    "s1 = Scatter(df, x=\"first\", y=\"second\")\n",
    "s1.y_range = range_\n",
    "s1.x_range = range_\n",
    "s2 = Scatter(df_2, x=\"first\", y=\"second\")\n",
    "s2.y_range = range_\n",
    "s2.x_range = range_\n",
    "s3 = Scatter(df_3, x=\"first\", y=\"second\")\n",
    "s3.y_range = range_\n",
    "s3.x_range = range_\n",
    "show(column(s1, s2, s3))\n"
   ]
  },
  {
   "cell_type": "markdown",
   "metadata": {},
   "source": [
    "## Iris"
   ]
  },
  {
   "cell_type": "code",
   "execution_count": 80,
   "metadata": {
    "collapsed": false
   },
   "outputs": [
    {
     "data": {
      "text/plain": [
       "0.26315789473684209"
      ]
     },
     "execution_count": 80,
     "metadata": {},
     "output_type": "execute_result"
    }
   ],
   "source": [
    "from sklearn import datasets\n",
    "iris = datasets.load_iris()\n",
    "\n",
    "scaler = StandardScaler()\n",
    "scaler = scaler.fit(iris.data)\n",
    "iris.data = scaler.transform(iris.data)\n",
    "\n",
    "from sklearn.model_selection import train_test_split\n",
    "from sklearn.dummy import DummyClassifier\n",
    "\n",
    "X_train, X_test, Y_train, Y_test = train_test_split(iris.data, iris.target)\n",
    "clf = DummyClassifier()\n",
    "clf.fit(X_train, Y_train)\n",
    "clf.score(X_test,Y_test)\n"
   ]
  },
  {
   "cell_type": "code",
   "execution_count": 81,
   "metadata": {
    "collapsed": false
   },
   "outputs": [
    {
     "data": {
      "text/plain": [
       "0.92105263157894735"
      ]
     },
     "execution_count": 81,
     "metadata": {},
     "output_type": "execute_result"
    }
   ],
   "source": [
    "from sklearn.svm import LinearSVC\n",
    "X_train, X_test, Y_train, Y_test = train_test_split(iris.data, iris.target)\n",
    "clf = LinearSVC()\n",
    "clf.fit(X_train, Y_train)\n",
    "clf.score(X_test,Y_test)"
   ]
  },
  {
   "cell_type": "code",
   "execution_count": 105,
   "metadata": {
    "collapsed": false
   },
   "outputs": [
    {
     "data": {
      "text/plain": [
       "0.94736842105263153"
      ]
     },
     "execution_count": 105,
     "metadata": {},
     "output_type": "execute_result"
    }
   ],
   "source": [
    "from sklearn.svm import SVC\n",
    "X_train, X_test, Y_train, Y_test = train_test_split(iris.data, iris.target)\n",
    "clf = SVC()\n",
    "clf.fit(X_train, Y_train)\n",
    "clf.score(X_test,Y_test)"
   ]
  },
  {
   "cell_type": "markdown",
   "metadata": {},
   "source": [
    "## Cancer data"
   ]
  },
  {
   "cell_type": "code",
   "execution_count": 99,
   "metadata": {
    "collapsed": false
   },
   "outputs": [
    {
     "data": {
      "text/plain": [
       "0.49650349650349651"
      ]
     },
     "execution_count": 99,
     "metadata": {},
     "output_type": "execute_result"
    }
   ],
   "source": [
    "from sklearn.datasets import load_breast_cancer\n",
    "cancer = load_breast_cancer()\n",
    "X_train, X_test, Y_train, Y_test = train_test_split(cancer.data, cancer.target)\n",
    "clf = DummyClassifier()\n",
    "clf.fit(X_train, Y_train)\n",
    "clf.score(X_test,Y_test)"
   ]
  },
  {
   "cell_type": "code",
   "execution_count": 103,
   "metadata": {
    "collapsed": false
   },
   "outputs": [
    {
     "data": {
      "text/plain": [
       "0.90909090909090906"
      ]
     },
     "execution_count": 103,
     "metadata": {},
     "output_type": "execute_result"
    }
   ],
   "source": [
    "#example\n",
    "X_train, X_test, Y_train, Y_test = train_test_split(cancer.data, cancer.target)\n",
    "clf = LinearSVC(class_weight={1: 10, 0:1})\n",
    "clf.fit(X_train, Y_train)\n",
    "clf.score(X_test,Y_test)\n"
   ]
  },
  {
   "cell_type": "code",
   "execution_count": 85,
   "metadata": {
    "collapsed": false
   },
   "outputs": [
    {
     "data": {
      "text/plain": [
       "8"
      ]
     },
     "execution_count": 85,
     "metadata": {},
     "output_type": "execute_result"
    }
   ],
   "source": []
  },
  {
   "cell_type": "code",
   "execution_count": null,
   "metadata": {
    "collapsed": true
   },
   "outputs": [],
   "source": []
  }
 ],
 "metadata": {
  "kernelspec": {
   "display_name": "Python 3",
   "language": "python",
   "name": "python3"
  },
  "language_info": {
   "codemirror_mode": {
    "name": "ipython",
    "version": 3
   },
   "file_extension": ".py",
   "mimetype": "text/x-python",
   "name": "python",
   "nbconvert_exporter": "python",
   "pygments_lexer": "ipython3",
   "version": "3.5.2"
  }
 },
 "nbformat": 4,
 "nbformat_minor": 1
}
