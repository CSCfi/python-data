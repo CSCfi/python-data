{
 "cells": [
  {
   "cell_type": "markdown",
   "metadata": {},
   "source": [
    "# A quick introduction to Python 3 for CSC course takers\n",
    "\n",
    "## ToDo: add images before/after cells where student should write their own code or experiment\n",
    "\n",
    "A word of warning to start with, this tutorial covers the newer version of Python, Python 3. Version 2.7 is still very widely used. Where relevant, different things have been marked with *Version 2.7 works differently*\n",
    "\n",
    "It is a cliche that every programming tutorial starts with a hello world\n"
   ]
  },
  {
   "cell_type": "code",
   "execution_count": 1,
   "metadata": {
    "collapsed": false
   },
   "outputs": [
    {
     "name": "stdout",
     "output_type": "stream",
     "text": [
      "Hello World!\n"
     ]
    }
   ],
   "source": [
    "print(\"Hello World!\")"
   ]
  },
  {
   "cell_type": "markdown",
   "metadata": {},
   "source": [
    "Try it yourself!\n",
    "\n",
    "Write a similar print statement in the field below and press the button that looks like play (in the toolbar to evaluate the code you have just written. \n",
    "![Play button](//csc-it-center-for-science.github.io/python-data/assets/img/play.png \"play\")\n",
    "\n",
    "The name Python comes from the comedy group Monty Python and it's customary for programming examples to contain references to Monty Python sketches. If you can recall any, feel free to use one as your example string.\n",
    "\n",
    "If you don't like Monty Python then we apologize for your poor sense of humor."
   ]
  },
  {
   "cell_type": "markdown",
   "metadata": {},
   "source": [
    "Throughout this document we'll mark down places to type your own content with ![Python image](//csc-it-center-for-science.github.io/python-data/assets/img/python-50px.png \"python\")"
   ]
  },
  {
   "cell_type": "code",
   "execution_count": null,
   "metadata": {
    "collapsed": true
   },
   "outputs": [],
   "source": [
    "# write your answer here and press the play-like button in the bar\n"
   ]
  },
  {
   "cell_type": "markdown",
   "metadata": {},
   "source": [
    "What you just witnessed was a call to the built-in function *print()* with a string parameter of your choosing. *Version 2.7 works differently, print is not a function there*\n",
    "\n",
    "For the built-in functions see [this list](https://docs.python.org/3/library/functions.html) . You'll run into them several times in this notebook.\n",
    "\n",
    "In Python strings can be denoted with single ' or double \" quotes. The suggested way is to pick one and stick to it."
   ]
  },
  {
   "cell_type": "markdown",
   "metadata": {},
   "source": [
    "**Comparison** is done as in most other languages\n",
    "\n",
    "    \"example\" == 'example'\n",
    "    2 <= 5\n",
    "    object() is not None\n",
    "\n",
    "**None** is the Python equivalent of null, i.e. an uninitialized object. The keyword *is* should be used to compare object identity and the double equals (==) for value. \n",
    "\n",
    "Let's try those out\n",
    "\n",
    "![Python image](//csc-it-center-for-science.github.io/python-data/assets/img/python-50px.png \"python\")"
   ]
  },
  {
   "cell_type": "code",
   "execution_count": 13,
   "metadata": {
    "collapsed": false
   },
   "outputs": [
    {
     "name": "stdout",
     "output_type": "stream",
     "text": [
      "False\n",
      "True\n",
      "True\n"
     ]
    }
   ],
   "source": [
    "print(\"example\" != 'example')\n",
    "print(2 <= 5)\n",
    "print(\"string\" is not None)\n",
    "# comments are prepended by a #, \n",
    "# there is no block comment syntax"
   ]
  },
  {
   "cell_type": "markdown",
   "metadata": {},
   "source": [
    "Variable assignment uses a single **=**\n",
    "\n",
    "Variables *don't* need to be declared. This is convenient but means that you have to be wary of typos in variable names (or use a linting tool).\n",
    "\n",
    "Try it out\n",
    "\n",
    "![Python image](//csc-it-center-for-science.github.io/python-data/assets/img/python-50px.png \"python\")"
   ]
  },
  {
   "cell_type": "code",
   "execution_count": 58,
   "metadata": {
    "collapsed": false
   },
   "outputs": [
    {
     "name": "stdout",
     "output_type": "stream",
     "text": [
      "8\n"
     ]
    }
   ],
   "source": [
    "first = 5\n",
    "second = 3\n",
    "print(first + second)\n"
   ]
  },
  {
   "cell_type": "markdown",
   "metadata": {},
   "source": [
    "All variables have a type, even though you don't declare it. Python is **strongly typed** so it will not automatically cast values.\n",
    "\n",
    "You can check the type of a variable using the [built-in](https://docs.python.org/3/library/functions.html) *type* function\n",
    "\n",
    "Try out the following\n",
    "\n",
    "![Python image](//csc-it-center-for-science.github.io/python-data/assets/img/python-50px.png \"python\")"
   ]
  },
  {
   "cell_type": "code",
   "execution_count": 20,
   "metadata": {
    "collapsed": false
   },
   "outputs": [
    {
     "name": "stdout",
     "output_type": "stream",
     "text": [
      "<class 'str'>\n",
      "<class 'int'>\n"
     ]
    },
    {
     "ename": "TypeError",
     "evalue": "Can't convert 'int' object to str implicitly",
     "output_type": "error",
     "traceback": [
      "\u001b[0;31m---------------------------------------------------------------------------\u001b[0m",
      "\u001b[0;31mTypeError\u001b[0m                                 Traceback (most recent call last)",
      "\u001b[0;32m<ipython-input-20-c06563878964>\u001b[0m in \u001b[0;36m<module>\u001b[0;34m()\u001b[0m\n\u001b[1;32m      4\u001b[0m \u001b[0mprint\u001b[0m\u001b[0;34m(\u001b[0m\u001b[0mtype\u001b[0m\u001b[0;34m(\u001b[0m\u001b[0mint_\u001b[0m\u001b[0;34m)\u001b[0m\u001b[0;34m)\u001b[0m\u001b[0;34m\u001b[0m\u001b[0m\n\u001b[1;32m      5\u001b[0m \u001b[0;34m\u001b[0m\u001b[0m\n\u001b[0;32m----> 6\u001b[0;31m \u001b[0mprint\u001b[0m\u001b[0;34m(\u001b[0m\u001b[0mstr_\u001b[0m \u001b[0;34m+\u001b[0m \u001b[0mint_\u001b[0m\u001b[0;34m)\u001b[0m \u001b[0;31m# this will fail\u001b[0m\u001b[0;34m\u001b[0m\u001b[0m\n\u001b[0m",
      "\u001b[0;31mTypeError\u001b[0m: Can't convert 'int' object to str implicitly"
     ]
    }
   ],
   "source": [
    "str_ = \"This is example number\"\n",
    "int_ = 5\n",
    "print(type(str_))\n",
    "print(type(int_))\n",
    "\n",
    "print(str_ + int_) # this will fail\n"
   ]
  },
  {
   "cell_type": "markdown",
   "metadata": {},
   "source": [
    "It produces an error because *string* and *int* have different types.\n",
    "\n",
    "Note how the variables str_ and int_ have an _ appended to them to avoid redefining [built-ins](https://docs.python.org/3/library/functions.html) str and int, respectively. Python would let you redefine those but it's a good convention to avoid doing so.\n",
    "\n",
    "the *str()* function converts an integer to a string and it is possible to concatenate two strings using + .\n",
    "\n",
    "Go ahead and fix the above error so that the print function will succeed."
   ]
  },
  {
   "cell_type": "markdown",
   "metadata": {},
   "source": [
    "### Program structure\n",
    "\n",
    "Python is _whitespace_ aware, i.e. code blocks are indented using **whitespace** (preferably spaces) and code indented to the same level belongs to the same block. There are **no curly braces**, except to denote operator precedence in a statement in case there is risk of confusion.\n",
    "\n",
    "A colon (:) at the end of the previous line indicates that the next line will begin a new code block. \n",
    "\n",
    "A block must never be empty. If you must have a block but don't want to execute anything the *pass* statement is used.\n",
    "\n",
    "An example of this is the if-elif-else statement"
   ]
  },
  {
   "cell_type": "code",
   "execution_count": 22,
   "metadata": {
    "collapsed": false
   },
   "outputs": [
    {
     "name": "stdout",
     "output_type": "stream",
     "text": [
      "var is precisely 5\n"
     ]
    }
   ],
   "source": [
    "var = 5\n",
    "if var < 5:\n",
    "    print(\"var is less than 5\")\n",
    "elif var == 5:\n",
    "    print(\"var is precisely 5\")\n",
    "elif var == 6:\n",
    "    pass # having no statement here would be an error\n",
    "else:\n",
    "    print(\"var is more than 6\")\n"
   ]
  },
  {
   "cell_type": "markdown",
   "metadata": {},
   "source": [
    "### Task: flooring division\n",
    "\n",
    "Some programming languages use floor integer division, i.e. \n",
    "\n",
    "    (3 / 2) == 1 \n",
    "\n",
    "and others convert the output to a floating point, i.e. \n",
    "    \n",
    "    (3 / 2) == 1.5\n",
    "\n",
    "Construct an if-else statement that prints out either \"Python 3 uses floor integer division\" \n",
    "or \"Python 3 converts to a float\" to test how Python 3 does things. *Version 2.7 works differently*\n",
    "\n",
    "It's often easier to just test what something does in Python shell or notebook than to read through the document. \n",
    "                                                                    \n",
    "![Python image](//csc-it-center-for-science.github.io/python-data/assets/img/python-50px.png \"python\")"
   ]
  },
  {
   "cell_type": "code",
   "execution_count": null,
   "metadata": {
    "collapsed": true
   },
   "outputs": [],
   "source": [
    "#write your code here"
   ]
  },
  {
   "cell_type": "markdown",
   "metadata": {},
   "source": [
    "## Functions\n",
    "\n",
    "The core of any programming language is a **function**. A simple example of a function is \n",
    "\n",
    "    def add(a, b):\n",
    "        \"\"\" adds two arguments together.\n",
    "        \"\"\"\n",
    "        return a + b\n",
    "        \n",
    "The first line defines (*def*) a function called *add* that takes in two parameters, a and b.\n",
    "\n",
    "The text inside triple quotes is a docstring that documents what the function does. There are several docstring formatting conventions but those are outside the scope of this tutorial. However it is always a good idea to write down at least a sentence or two of what you think you do. \n",
    "\n",
    "Functions can have arguments and keyword-arguments. Arguments are compulsory and keyword arguments aren't. It's also necessary to have all the arguments before the keyword arguments.\n",
    "\n",
    "    def add(a, b=1):\n",
    "        \"\"\" adds two arguments together or 1 if called with one parameter\n",
    "        \"\"\"\n",
    "        return a + b\n",
    "        \n",
    "Note how the first add-function could be called with strings or integers but the second one can be called with two strings, two integers or one integer but not with one string (it would result in a TypeError). Yet we're not explicitly testing for the types before using the +-operator. The Python philosophy is that it's easier to ask for forgiveness than permission. This philosophy is often abbreviated as EAFP.\n",
    "\n",
    "In Python functions are first-class citizens. That is to say that you can pass a function as the parameter of another function. Like this:\n",
    "        "
   ]
  },
  {
   "cell_type": "code",
   "execution_count": 3,
   "metadata": {
    "collapsed": false
   },
   "outputs": [
    {
     "name": "stdout",
     "output_type": "stream",
     "text": [
      "<function subtract at 0x104671268>\n",
      "5\n",
      "3\n"
     ]
    },
    {
     "data": {
      "text/plain": [
       "2"
      ]
     },
     "execution_count": 3,
     "metadata": {},
     "output_type": "execute_result"
    }
   ],
   "source": [
    "def apply_(fun, arg1, arg2): #there's a builtin called apply as well\n",
    "    print(fun)\n",
    "    print(arg1)\n",
    "    print(arg2)\n",
    "    return fun(arg1, arg2) # *args and ** are a handy way to collect all the\n",
    "    \n",
    "def subtract(a, b):\n",
    "    return a - b\n",
    "\n",
    "apply_(subtract, 5, 3)"
   ]
  },
  {
   "cell_type": "markdown",
   "metadata": {},
   "source": [
    "The apply_-function isn't very generic because it can only handle the two-variable case.\n",
    "\n",
    "Python has a handy notation for referring to all the arguments and keyword arguments."
   ]
  },
  {
   "cell_type": "code",
   "execution_count": 33,
   "metadata": {
    "collapsed": false
   },
   "outputs": [
    {
     "name": "stdout",
     "output_type": "stream",
     "text": [
      "<function add at 0x104591ea0>\n",
      "(1, 2, 3, 4, 5)\n",
      "{}\n"
     ]
    },
    {
     "data": {
      "text/plain": [
       "15"
      ]
     },
     "execution_count": 33,
     "metadata": {},
     "output_type": "execute_result"
    }
   ],
   "source": [
    "def apply_(fun, *args, **kwargs):\n",
    "    print(fun)\n",
    "    print(args)\n",
    "    print(kwargs)\n",
    "    return fun(*args, **kwargs)\n",
    "    \n",
    "\n",
    "def add(*args):\n",
    "    return sum(args) #sum is another builtin function\n",
    "\n",
    "apply_(add, 1, 2, 3, 4, 5)"
   ]
  },
  {
   "cell_type": "markdown",
   "metadata": {
    "collapsed": true
   },
   "source": [
    "## Task: simple function\n",
    "Okay, do it yourself: write a function that subtracts the second parameter from the first one.\n",
    "    \n",
    "Then call it with two parameters and make sure the outcome works out to what you'd expect it to.\n",
    "\n",
    "![Python image](//csc-it-center-for-science.github.io/python-data/assets/img/python-50px.png \"python\")"
   ]
  },
  {
   "cell_type": "markdown",
   "metadata": {
    "collapsed": true
   },
   "source": []
  },
  {
   "cell_type": "markdown",
   "metadata": {},
   "source": [
    "## Task: no return\n",
    "In Python all functions have a return value, even if you don't use the *return* keyword. Consequently it's often easy to mess up by forgetting to return a real value.\n",
    "\n",
    "Use the cell below to try out what a Python function without a *return* statement returns. Remember that you can create a code-block that does nothing with the keyword *pass*. You can for instance print the return value of a function that doesn't return anything.\n",
    "\n",
    "![Python image](//csc-it-center-for-science.github.io/python-data/assets/img/python-50px.png \"python\")"
   ]
  },
  {
   "cell_type": "code",
   "execution_count": null,
   "metadata": {
    "collapsed": true
   },
   "outputs": [],
   "source": []
  },
  {
   "cell_type": "markdown",
   "metadata": {},
   "source": [
    "## Task: recursion\n",
    "\n",
    "Write a recursive function that computes the factorial for a number. Remember that there is a special place in hell for programmers who don't check for the end condition in recursion.\n",
    "\n",
    "![Python image](//csc-it-center-for-science.github.io/python-data/assets/img/python-50px.png \"python\")\n"
   ]
  },
  {
   "cell_type": "code",
   "execution_count": null,
   "metadata": {
    "collapsed": true
   },
   "outputs": [],
   "source": []
  },
  {
   "cell_type": "markdown",
   "metadata": {},
   "source": [
    "\n",
    "## Extra fun: Recursion depth\n",
    "\n",
    "Python can be used as a functional language but it doesn't support tail recursion. Therefore there is such a thing as a maximum recursion depth.\n",
    "\n",
    "Use the following count-function to experiment how deep the rabbit hole you can go before exceptions occur.\n",
    "\n",
    "Food for thought: why might the factorial program be a bad candidate for testing maximum recursion depth? Try out if you can overflow the Python integer by counting a large(ish) factorial.\n",
    "\n",
    "![Python image](//csc-it-center-for-science.github.io/python-data/assets/img/python-50px.png \"python\")\n"
   ]
  },
  {
   "cell_type": "code",
   "execution_count": 4,
   "metadata": {
    "collapsed": false
   },
   "outputs": [
    {
     "data": {
      "text/plain": [
       "2"
      ]
     },
     "execution_count": 4,
     "metadata": {},
     "output_type": "execute_result"
    }
   ],
   "source": [
    "def count(value):\n",
    "    if value == 0:\n",
    "        return 0\n",
    "    return count(value-1) +1\n",
    "\n",
    "count(2)"
   ]
  },
  {
   "cell_type": "markdown",
   "metadata": {},
   "source": [
    "## Data types and iteration\n",
    "\n",
    "Python has Integers, strings and floating point numbers like most programming languages and we've already worked with them.\n",
    "\n",
    "It also has lists,\n",
    "\n",
    "    list_ = [1, 2, 3, 4] # the [] brackets imply a list\n",
    "    \n",
    "tuples\n",
    "\n",
    "    tuple_ = (1, 2, 3, 4) # () are used to signify a tuple, but actually just the comma is sufficient so\n",
    "    tuple_2 = 1, 2, 3, 4\n",
    "    \n",
    "dictionaries\n",
    "\n",
    "    dict_ = {\n",
    "                \"key\": \"value\",\n",
    "                \"key2\": 5\n",
    "            }\n",
    "                   \n",
    "Data structires in general aren't typed so you can put anything in them. The one requirement is that the keys in a dictionary must be hashable i.e. they cannot be mutable. In plain English this means that you can't use lists as dictionary keys.\n",
    "\n",
    "For iterating through a structure there is a very simple syntax:"
   ]
  },
  {
   "cell_type": "code",
   "execution_count": 34,
   "metadata": {
    "collapsed": false
   },
   "outputs": [
    {
     "name": "stdout",
     "output_type": "stream",
     "text": [
      "2\n",
      "foobar\n",
      "False\n",
      "<built-in function print>\n"
     ]
    }
   ],
   "source": [
    "list_ = [2, \"foobar\", False, print] #switch the brackets to braces to see that the syntax works for tuples too\n",
    "for item in list_:\n",
    "    print(item)"
   ]
  },
  {
   "cell_type": "markdown",
   "metadata": {},
   "source": [
    "Lists are accessed by [] notation, which is smart and supports negative indexing and slicing. \n",
    "\n",
    "Indices naturally start from 0. Python was written by/for **people with good taste**, not barbarians."
   ]
  },
  {
   "cell_type": "code",
   "execution_count": 50,
   "metadata": {
    "collapsed": false
   },
   "outputs": [
    {
     "name": "stdout",
     "output_type": "stream",
     "text": [
      "1\n",
      "4\n",
      "[2, 3]\n",
      "[3, 2, 1]\n"
     ]
    }
   ],
   "source": [
    "list_ = [1, 2, 3, 4]\n",
    "print(list_[0])\n",
    "print(list_[-1])\n",
    "print(list_[1:3])\n",
    "\n",
    "#the built-in len()-function tells you the size of various collections\n",
    "\n",
    "len(list_)\n",
    "\n",
    "# lists also support some features familiar from other data structures, e.g.\n",
    "list_.pop()\n",
    "# you should know when/if you need them\n",
    "\n",
    "len(list_)\n",
    "\n",
    "# and of course sorting and other batteries are batteries included\n",
    "\n",
    "list_.sort(reverse=True) # note that sort() modifies the list in place and returns None\n",
    "print(list_)"
   ]
  },
  {
   "cell_type": "markdown",
   "metadata": {},
   "source": [
    "There is no table concept in the Python language. Libraries like NumPy operate on objects that are like tables, but Python-the-language in itself doesn't have any. You can do the same with nested lists if you need to\n",
    "\n",
    "    double_list = [\n",
    "                    [1,2],\n",
    "                    [3, 4]\n",
    "                   ]\n",
    "                   \n",
    "Complete the tasks in the comments below\n",
    "![Python image](//csc-it-center-for-science.github.io/python-data/assets/img/python-50px.png \"python\")"
   ]
  },
  {
   "cell_type": "code",
   "execution_count": 48,
   "metadata": {
    "collapsed": false
   },
   "outputs": [],
   "source": [
    "double_list = [\n",
    "              [1, 2, 3, 4],\n",
    "              [5, 6, 7, 8],\n",
    "              [9, 10, 11, 12]\n",
    "              ]\n",
    "# Access the first list of the lists\n",
    "# Access the last item in the last list\n",
    "# Access the middle 2 elements of the second list"
   ]
  },
  {
   "cell_type": "markdown",
   "metadata": {},
   "source": [
    "Dictionaries are also accessed by []-notation.\n",
    "\n",
    "They can be iterated over and iteration happens over the keys. *Version 2.7 works differently*"
   ]
  },
  {
   "cell_type": "code",
   "execution_count": 44,
   "metadata": {
    "collapsed": false
   },
   "outputs": [
    {
     "name": "stdout",
     "output_type": "stream",
     "text": [
      "key value\n",
      "(2, 3) 5\n",
      "5 False\n",
      "yet_another_key value\n"
     ]
    }
   ],
   "source": [
    "dict_ = {\n",
    "        \"key\": \"value\",\n",
    "        (2, 3): 5,\n",
    "        5: False\n",
    "        }\n",
    "\n",
    "dict_[\"yet_another_key\"] = \"value\"\n",
    "\n",
    "for key in dict_:\n",
    "    val = dict_[key]\n",
    "    print(str(key) + \" \" + str(val))"
   ]
  },
  {
   "cell_type": "markdown",
   "metadata": {},
   "source": [
    "What happens if you try to access an index or a key that does not exist? Try it out:\n",
    "![Python image](//csc-it-center-for-science.github.io/python-data/assets/img/python-50px.png \"python\")"
   ]
  },
  {
   "cell_type": "code",
   "execution_count": null,
   "metadata": {
    "collapsed": true
   },
   "outputs": [],
   "source": [
    "list_ = [1, 2]\n",
    "dict_ = {\"only_key\": 0}\n",
    "# go ahead and try accessing index 2 or \"another_key\" from the above data structures.\n",
    "# in fact, try accessing an index in a dict and a key in a list and see what happens"
   ]
  },
  {
   "cell_type": "markdown",
   "metadata": {},
   "source": [
    "### List comprehensions\n",
    "\n",
    "How often do you write code that, in Python would look something like the following?\n",
    "\n",
    "    #you have list1 defined\n",
    "    list2 = []\n",
    "    for item in list1:\n",
    "        list2.append(some_function(item))\n",
    "        \n",
    "Python programmers have determined that the answer to that is \"way too often\". This is why there \n",
    "is a special syntax for something called a **list comprehension**."
   ]
  },
  {
   "cell_type": "code",
   "execution_count": 61,
   "metadata": {
    "collapsed": false
   },
   "outputs": [
    {
     "data": {
      "text/plain": [
       "[0, 1, 4, 9, 16, 25, 36, 49, 64, 81]"
      ]
     },
     "execution_count": 61,
     "metadata": {},
     "output_type": "execute_result"
    }
   ],
   "source": [
    "#range is another built-in that returns an iterable\n",
    "list1 = range(10)\n",
    "\n",
    "def square(x):\n",
    "    return x*x\n",
    "\n",
    "list2 = [square(number) for number in list1]\n",
    "list2"
   ]
  },
  {
   "cell_type": "markdown",
   "metadata": {},
   "source": [
    "List comprehensions are the idiomatic Python way of dealing with cases like this. There is extra syntax to add filtering to make the expression more powerful."
   ]
  },
  {
   "cell_type": "code",
   "execution_count": 63,
   "metadata": {
    "collapsed": false
   },
   "outputs": [
    {
     "data": {
      "text/plain": [
       "[0, 4, 16, 36, 64]"
      ]
     },
     "execution_count": 63,
     "metadata": {},
     "output_type": "execute_result"
    }
   ],
   "source": [
    "def even(x):\n",
    "    return x % 2 == 0\n",
    "\n",
    "list3 = [square(number) for number in list1 if even(number)]\n",
    "list3"
   ]
  },
  {
   "cell_type": "markdown",
   "metadata": {},
   "source": [
    "## Exceptions and try/except\n",
    "\n",
    "A lot of things in Python raise exceptions. It's idiomatic to assume keys and indices are present and catch errors. This coding style is called \"easier to ask forgiveness than permission\" and sometimes abbreviated EAFP. The language supports this by making exception handling a relatively fast task unlike some other languages.\n",
    "\n",
    "    variable = 0\n",
    "    output = 0\n",
    "    try:\n",
    "        output = 5/variable\n",
    "    except ZeroDivisionError as error:\n",
    "        print(\"stupid programmer tried to divide by zero: \" + str(error))\n",
    "    except Exception as exc:\n",
    "        print(\"something totally unexpected happened\" + str(error)\n",
    "    finally:\n",
    "        print(\"output value is \"+ str(output))\n",
    "        \n",
    "The syntax reads as follows: the code inside the try-block is run. If an exception is raised, the except-statements are read through until the first one matches and that is executed. All exceptions and errors inherit the Exception class (more on classes later) and a subclass matches it's parent classes so remember to order the exceptions from the specific to the generic if catching many exceptions.\n",
    "\n",
    "The code inside the finally block is guaranteed to run, whether or not an exception ocurred.\n",
    "\n",
    "It's also possible to catch multiple exceptions in the same except\n",
    "\n",
    "    try:\n",
    "        call_a_function()\n",
    "    except (RuntimeError, TypeError, NameError):\n",
    "        pass\n",
    " \n",
    "While convenient it's often desirable to act differently when encountering different exceptions or to just catch a superclass that contains most likely exceptions (IOError is a good example of this).\n",
    "\n",
    "Sometimes it's a good idea to intercept an exception and and then re-raise it to inform other parts of the software.\n",
    "\n",
    "    try:\n",
    "        call_a_function()\n",
    "    except IOError as err:\n",
    "        print(\"the world is flawed! \" + str(err))\n",
    "        raise\n",
    "\n"
   ]
  },
  {
   "cell_type": "code",
   "execution_count": null,
   "metadata": {
    "collapsed": true
   },
   "outputs": [],
   "source": []
  },
  {
   "cell_type": "markdown",
   "metadata": {},
   "source": [
    "# Classes\n",
    "\n",
    "Python is a so-called **multiparadigm programming language**. Unlike e.g. Java or C# it's not absolutely necessary to encapsulate everything in classes. This is a benefit in short, powerful scripts but many programmers prefer to encapsulate their code in classes as the complexity increases.\n",
    "\n",
    "The following is a minimal class"
   ]
  },
  {
   "cell_type": "code",
   "execution_count": 89,
   "metadata": {
    "collapsed": false
   },
   "outputs": [
    {
     "data": {
      "text/plain": [
       "<__main__.Vector at 0x1047f1278>"
      ]
     },
     "execution_count": 89,
     "metadata": {},
     "output_type": "execute_result"
    }
   ],
   "source": [
    "import math #import math functions, we'll discuss imports in a bit\n",
    "\n",
    "class Vector(object):\n",
    "    \"\"\" Implements a vector\n",
    "    \"\"\"\n",
    "    \n",
    "    def __init__(self, dimensions):\n",
    "        self.dimensions =  dimensions\n",
    "        \n",
    "    def add(self, another):\n",
    "        \"\"\" returns a new Vector. \n",
    "        \n",
    "            Will raise an error if vectors don't have the same number of dimensions.\n",
    "        \"\"\"\n",
    "        new_dims = [x+y for x, y in zip(self.dimensions, another.dimensions)]\n",
    "        return Vector(new_dims)\n",
    "    \n",
    "    def length(self):\n",
    "        return math.sqrt(sum(x ** 2 for x in self.dimensions))\n",
    "\n",
    "p1 = Vector([3, 4]) \n",
    "p2 = Vector([1, 1]) \n",
    "\n",
    "p1.add(p2)"
   ]
  },
  {
   "cell_type": "markdown",
   "metadata": {
    "collapsed": true
   },
   "source": [
    "The vector class we created contains an initialization method, __init__ that gets two parameters, itself and a list of dimensions \n",
    "(assumed to be valid numbers).\n",
    "\n",
    "Note that the init method does not return anything. It just modifies the object referred to as self.\n",
    "\n",
    "It also contains a method that creates a new vector by vector adddition.\n",
    "\n",
    "The string representation of the vector is not very informative.\n",
    "\n",
    "Python contains many **magic functions** that are used to simplify programming with objects.\n",
    "Let's extend the object a little bit with a couple of magic methods."
   ]
  },
  {
   "cell_type": "code",
   "execution_count": 91,
   "metadata": {
    "collapsed": false
   },
   "outputs": [
    {
     "data": {
      "text/plain": [
       "[<Vector: [20,10]>,\n",
       " <Vector: [9,9]>,\n",
       " <Vector: [8,8]>,\n",
       " <Vector: [7,7]>,\n",
       " <Vector: [6,6]>,\n",
       " <Vector: [5,5]>,\n",
       " <Vector: [4,4]>,\n",
       " <Vector: [3,3]>,\n",
       " <Vector: [2,2]>,\n",
       " <Vector: [1,1]>,\n",
       " <Vector: [0,0]>]"
      ]
     },
     "execution_count": 91,
     "metadata": {},
     "output_type": "execute_result"
    }
   ],
   "source": [
    "class RepresentableVector(Vector): # inheriting another class\n",
    "        \n",
    "    def __repr__(self):\n",
    "        \"\"\"string representation of the object\"\"\"\n",
    "        return \"<Vector: [%s]>\" % \",\".join([str(x) for x in self.dimensions])\n",
    "    \n",
    "class ComparableVector(Vector):\n",
    "    \n",
    "    def __gt__(self, other):\n",
    "        \"\"\" greater than comparison for using the > operator \"\"\"\n",
    "        return self.length() > other.length()\n",
    "    def __ge__(self, other):\n",
    "        \"\"\" greater than or equal comparison using >= \"\"\"\n",
    "        return self.length() >= other.length()\n",
    "    def __lt__(self, other):\n",
    "        \"\"\"less than comparison\"\"\"\n",
    "        return self.length() < other.length()\n",
    "    def __le__(self, other):\n",
    "        \"\"\"less than or equal\"\"\"\n",
    "        return self.length() <= other.length()\n",
    "    \n",
    "    def __eq__(self, other):\n",
    "        \"\"\"equality comparison for the == operator. Two vectors are equal if all their dimensions are equal.\"\"\"\n",
    "        return all(a == b for a, b in zip(self.dimensions, other.dimensions))\n",
    "    \n",
    "class SmartVector(RepresentableVector, ComparableVector): #multiple inheritance\n",
    "    \"\"\" \n",
    "    \"\"\"\n",
    "    \n",
    "    def __len__(self):\n",
    "        \"\"\" this is the length of the vector i.e. the number of dimensions\n",
    "        \"\"\"\n",
    "        return len(self.dimensions)\n",
    "    \n",
    "    def __getitem__(self, key):\n",
    "        \"\"\"accesses the N:th dimension in the vector starting from 0\"\"\"\n",
    "        return self.dimensions[key]\n",
    "    \n",
    "    def __setitem__(self, key, value):\n",
    "        \"\"\"sets the N:th dimension in the vector\"\"\"\n",
    "        self.dimensions[key] = value\n",
    "    \n",
    "    def add(self, other):\n",
    "        #here we call the same vector of one of the parent classes\n",
    "        dumb_vector = super(SmartVector, self).add(other)\n",
    "        return SmartVector(dumb_vector.dimensions)\n",
    "    \n",
    "    def __add__(self, other):\n",
    "        \"\"\"vector addition with the + operator\"\"\"\n",
    "        return self.add(other)\n",
    "    \n",
    "    def __mul__(self, scalar):\n",
    "        \"\"\"vector multiplication with a scalar\"\"\"\n",
    "        return SmartVector([x*scalar for x in self.dimensions])\n",
    "\n",
    "\n",
    "    def __neg__(self):\n",
    "        \"\"\"vector negation with the minus (-) operator\"\"\"\n",
    "        return self * -1\n",
    "    \n",
    "    def __sub__(self, other):\n",
    "        \"\"\"vector subtraction\"\"\"\n",
    "        return self.add(-other)\n",
    "    \n",
    "\n",
    "\n",
    "## Now you can do all kinds of cool stuff\n",
    "vector1 = SmartVector([1,1])\n",
    "vector2 = SmartVector([2,3])\n",
    "\n",
    "# Like addition of Vector objects\n",
    "vector3 = vector1 + (vector2*3)\n",
    "vector3[0] = 20\n",
    "# multiplication \n",
    "vectors = [vector1*n for n in range(5)]\n",
    "\n",
    "vectors.append(vector3)\n",
    "\n",
    "#And sorting too!\n",
    "vectors.sort(reverse=True)\n",
    "vectors\n"
   ]
  },
  {
   "cell_type": "markdown",
   "metadata": {},
   "source": [
    "If you want, you can take the Vector objects out for a spin in the box below. If you're pressed for time don't sweat it, though."
   ]
  },
  {
   "cell_type": "code",
   "execution_count": 18,
   "metadata": {
    "collapsed": true
   },
   "outputs": [],
   "source": [
    "## Optional space for fun Vector coding"
   ]
  },
  {
   "cell_type": "markdown",
   "metadata": {
    "collapsed": true
   },
   "source": [
    "## Importing and the Python ecosystem\n",
    "\n",
    "Python has a nice, clean and legible syntax and it's quite usable as a programming language.\n",
    "\n",
    "The strength of Python for rapid software development comes from the extensive **[standard library](https://docs.python.org/3/library/)** and all the packages contributed by people into the **[Python Package Index (PyPI)](https://pypi.python.org/pypi)** . \n",
    "\n",
    "Need to open a zipped file? The [gzip](https://docs.python.org/3/library/gzip.html), [bz2](https://docs.python.org/3/library/bz2.html) and [zipfile](https://docs.python.org/3/library/zipfile.html) libraries will be helpful. \n",
    "\n",
    "The file is a csv and you want to parse it? [csv](https://docs.python.org/3/library/csv.html) is the library to use.\n",
    "\n",
    "In general, the libraries in the standard library tend to work, be maintained and solid.\n",
    "\n",
    "The libraries in the *ecosystem* as a whole can be either **stellar or of poor quality** or anything in between and it's a good idea to check the activity of a project before committing to use it in a real-world project. \n",
    "\n",
    "Some good examples of widely used high-quality packages are \n",
    "* [Django](https://www.djangoproject.com/), a web framework, \n",
    "* [Requests](http://docs.python-requests.org/en/master/), a library that makes HTTP a fun protocol to use\n",
    "* [scikit-learn](http://scikit-learn.org/stable/), a machine learning library\n",
    "* [numpy](http://www.numpy.org/), a near-replacement for Matlab and a Swiss army knife for computing in general\n",
    "* [nltk](http://www.nltk.org/), the Natural Language ToolKit"
   ]
  },
  {
   "cell_type": "markdown",
   "metadata": {},
   "source": [
    "OK, let's take it out for a spin.\n",
    "\n",
    "The following snippet gets a CSV file from the Internet (hosted in Github Pages), parses it and prints the rows in the file. The page contents returned by *requests* is a string and we want to make it look like a file-like object for *csv* so we need to use a *StringIO* object to make a string look like a file."
   ]
  },
  {
   "cell_type": "code",
   "execution_count": 14,
   "metadata": {
    "collapsed": false
   },
   "outputs": [
    {
     "name": "stdout",
     "output_type": "stream",
     "text": [
      "{' val2': ' 1', 'id': 'example', ' val1': ' 0'}\n",
      "{' val2': ' 3', 'id': 'example2', ' val1': ' 2'}\n"
     ]
    }
   ],
   "source": [
    "import requests\n",
    "import csv\n",
    "from io import StringIO\n",
    "\n",
    "page = requests.get(\"https://csc-it-center-for-science.github.io/python-data/assets/data/example.csv\")\n",
    "reader = csv.DictReader(StringIO(page.text))\n",
    "for line in reader:\n",
    "   print(line)"
   ]
  },
  {
   "cell_type": "markdown",
   "metadata": {},
   "source": [
    "This apparent simplicity of using multiple libraries to create short, powerful scripts/programs is typical of Python.\n",
    "\n",
    "Now try it out yourself. \n",
    "\n",
    "There is a JSON encoded file at https://csc-it-center-for-science.github.io/python-data/assets/data/example.json\n",
    "\n",
    "**Read** the file using *requests*, parse the resulting JSON and print the parsed object.\n",
    "\n",
    "**Hint**: this is so common that *requests* supports it out of the box. This is the so called batteries included principle.\n",
    "\n",
    "Read [the documentation](http://docs.python-requests.org/en/master/) to find out the simplest way to do it. It is, of course permitted to use the built-in *json* library as well.\n",
    "\n",
    "![Python image](//csc-it-center-for-science.github.io/python-data/assets/img/python-50px.png \"python\")"
   ]
  },
  {
   "cell_type": "code",
   "execution_count": 16,
   "metadata": {
    "collapsed": false
   },
   "outputs": [
    {
     "name": "stdout",
     "output_type": "stream",
     "text": [
      "{'nobody expects': 'the Spanish Inquisition'}\n"
     ]
    }
   ],
   "source": [
    "import requests\n",
    "page = requests.get(\"https://csc-it-center-for-science.github.io/python-data/assets/data/example.json\")\n",
    "print (page.json())\n"
   ]
  },
  {
   "cell_type": "markdown",
   "metadata": {},
   "source": [
    "## The Python Philosophy\n",
    "\n",
    "That's basically it! We glossed over working with files and string formatting and some of the finer details of the language like lambdas, but this is basically all there is to know about Python-the-language. Python-the-ecosystem is a lifelong journey and you're welcome to join the rest of us on it. \n",
    "\n",
    "You can only learn by doing and Python makes doing easy!\n",
    "\n",
    "\n",
    "As the last task, type\n",
    "\n",
    "        import this\n",
    "        \n",
    "into the input below and find an easter egg hidden in all modern Python interpreters. Some of the wording is an inside joke, but most of it bears thinking on.\n",
    "\n",
    "![Python image](//csc-it-center-for-science.github.io/python-data/assets/img/python-50px.png \"python\")"
   ]
  },
  {
   "cell_type": "code",
   "execution_count": null,
   "metadata": {
    "collapsed": false
   },
   "outputs": [],
   "source": []
  }
 ],
 "metadata": {
  "kernelspec": {
   "display_name": "Python 3",
   "language": "python",
   "name": "python3"
  },
  "language_info": {
   "codemirror_mode": {
    "name": "ipython",
    "version": 3
   },
   "file_extension": ".py",
   "mimetype": "text/x-python",
   "name": "python",
   "nbconvert_exporter": "python",
   "pygments_lexer": "ipython3",
   "version": "3.5.2"
  }
 },
 "nbformat": 4,
 "nbformat_minor": 1
}
